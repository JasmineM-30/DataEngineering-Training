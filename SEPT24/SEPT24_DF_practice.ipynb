{
  "nbformat": 4,
  "nbformat_minor": 0,
  "metadata": {
    "colab": {
      "provenance": []
    },
    "kernelspec": {
      "name": "python3",
      "display_name": "Python 3"
    },
    "language_info": {
      "name": "python"
    }
  },
  "cells": [
    {
      "cell_type": "markdown",
      "source": [
        "# **Customers & Orders**"
      ],
      "metadata": {
        "id": "FuH8q1kn7qSB"
      }
    },
    {
      "cell_type": "markdown",
      "source": [
        "**Create DataFrames**"
      ],
      "metadata": {
        "id": "VvB-VqV37sSp"
      }
    },
    {
      "cell_type": "code",
      "execution_count": 1,
      "metadata": {
        "colab": {
          "base_uri": "https://localhost:8080/"
        },
        "id": "oSAZvpo-6jps",
        "outputId": "392040f9-b172-42d6-c570-968fe967d21c"
      },
      "outputs": [
        {
          "output_type": "stream",
          "name": "stdout",
          "text": [
            "Requirement already satisfied: pyspark in /usr/local/lib/python3.12/dist-packages (3.5.1)\n",
            "Requirement already satisfied: py4j==0.10.9.7 in /usr/local/lib/python3.12/dist-packages (from pyspark) (0.10.9.7)\n"
          ]
        }
      ],
      "source": [
        "!pip install pyspark\n",
        "from pyspark.sql import SparkSession\n",
        "spark = SparkSession.builder.appName(\"DataFrame-Exercises\").getOrCreate()"
      ]
    },
    {
      "cell_type": "code",
      "source": [
        "# Customers Data\n",
        "customers_data = [\n",
        "(1, \"Rahul Sharma\", \"Bangalore\", 28),\n",
        "(2, \"Priya Singh\", \"Delhi\", 32),\n",
        "(3, \"Aman Kumar\", \"Hyderabad\", 25),\n",
        "(4, \"Sneha Reddy\", \"Chennai\", 35),\n",
        "(5, \"Arjun Mehta\", \"Mumbai\", 30),\n",
        "(6, \"Divya Nair\", \"Delhi\", 29)\n",
        "]\n",
        "customers_cols = [\"customer_id\", \"name\", \"city\", \"age\"]\n",
        "customers_df = spark.createDataFrame(customers_data, customers_cols)\n",
        "# Orders Data\n",
        "orders_data = [\n",
        "(101, 1, \"Laptop\", 55000),\n",
        "(102, 2, \"Mobile\", 25000),\n",
        "(103, 1, \"Headphones\", 3000),\n",
        "(104, 3, \"Chair\", 5000),\n",
        "(105, 5, \"Book\", 700),\n",
        "(106, 2, \"Tablet\", 20000),\n",
        "(107, 6, \"Shoes\", 2500),\n",
        "(108, 7, \"Camera\", 30000) # Order with non-existent customer\n",
        "]\n",
        "orders_cols = [\"order_id\", \"customer_id\", \"product\", \"amount\"]\n",
        "orders_df = spark.createDataFrame(orders_data, orders_cols)\n",
        "customers_df.show()\n",
        "orders_df.show()"
      ],
      "metadata": {
        "colab": {
          "base_uri": "https://localhost:8080/"
        },
        "id": "pAhRx7pM7zQx",
        "outputId": "494086bf-37c9-4948-cd39-9a9e9bac7081"
      },
      "execution_count": 2,
      "outputs": [
        {
          "output_type": "stream",
          "name": "stdout",
          "text": [
            "+-----------+------------+---------+---+\n",
            "|customer_id|        name|     city|age|\n",
            "+-----------+------------+---------+---+\n",
            "|          1|Rahul Sharma|Bangalore| 28|\n",
            "|          2| Priya Singh|    Delhi| 32|\n",
            "|          3|  Aman Kumar|Hyderabad| 25|\n",
            "|          4| Sneha Reddy|  Chennai| 35|\n",
            "|          5| Arjun Mehta|   Mumbai| 30|\n",
            "|          6|  Divya Nair|    Delhi| 29|\n",
            "+-----------+------------+---------+---+\n",
            "\n",
            "+--------+-----------+----------+------+\n",
            "|order_id|customer_id|   product|amount|\n",
            "+--------+-----------+----------+------+\n",
            "|     101|          1|    Laptop| 55000|\n",
            "|     102|          2|    Mobile| 25000|\n",
            "|     103|          1|Headphones|  3000|\n",
            "|     104|          3|     Chair|  5000|\n",
            "|     105|          5|      Book|   700|\n",
            "|     106|          2|    Tablet| 20000|\n",
            "|     107|          6|     Shoes|  2500|\n",
            "|     108|          7|    Camera| 30000|\n",
            "+--------+-----------+----------+------+\n",
            "\n"
          ]
        }
      ]
    },
    {
      "cell_type": "markdown",
      "source": [
        "**Exercises (Operations on DataFrames)**"
      ],
      "metadata": {
        "id": "v08-y1ik8isM"
      }
    },
    {
      "cell_type": "markdown",
      "source": [
        "**Basic Operations**"
      ],
      "metadata": {
        "id": "Cc9uAN318nHg"
      }
    },
    {
      "cell_type": "markdown",
      "source": [
        "1. Select only name and city from customers."
      ],
      "metadata": {
        "id": "mS0-eEf-82h9"
      }
    },
    {
      "cell_type": "code",
      "source": [
        "customers_df.select(\"name\", \"city\").show()"
      ],
      "metadata": {
        "colab": {
          "base_uri": "https://localhost:8080/"
        },
        "id": "nn9qnDe_8fLc",
        "outputId": "4ea4ff65-2c88-46d1-a76e-2e814bbaf7e6"
      },
      "execution_count": 3,
      "outputs": [
        {
          "output_type": "stream",
          "name": "stdout",
          "text": [
            "+------------+---------+\n",
            "|        name|     city|\n",
            "+------------+---------+\n",
            "|Rahul Sharma|Bangalore|\n",
            "| Priya Singh|    Delhi|\n",
            "|  Aman Kumar|Hyderabad|\n",
            "| Sneha Reddy|  Chennai|\n",
            "| Arjun Mehta|   Mumbai|\n",
            "|  Divya Nair|    Delhi|\n",
            "+------------+---------+\n",
            "\n"
          ]
        }
      ]
    },
    {
      "cell_type": "markdown",
      "source": [
        "2. Filter customers older than 30."
      ],
      "metadata": {
        "id": "vdqZ7RJX8u93"
      }
    },
    {
      "cell_type": "code",
      "source": [
        "customers_df.filter(customers_df.age > 30).show()"
      ],
      "metadata": {
        "colab": {
          "base_uri": "https://localhost:8080/"
        },
        "id": "KJsL_4Y18r8o",
        "outputId": "940be172-224f-4170-9f5e-825fb35c23e1"
      },
      "execution_count": 4,
      "outputs": [
        {
          "output_type": "stream",
          "name": "stdout",
          "text": [
            "+-----------+-----------+-------+---+\n",
            "|customer_id|       name|   city|age|\n",
            "+-----------+-----------+-------+---+\n",
            "|          2|Priya Singh|  Delhi| 32|\n",
            "|          4|Sneha Reddy|Chennai| 35|\n",
            "+-----------+-----------+-------+---+\n",
            "\n"
          ]
        }
      ]
    },
    {
      "cell_type": "markdown",
      "source": [
        "3. Count how many customers are from \"Delhi\"."
      ],
      "metadata": {
        "id": "mzA2E_gA9Ai3"
      }
    },
    {
      "cell_type": "code",
      "source": [
        "customers_df.filter(customers_df.city == \"Delhi\").count()"
      ],
      "metadata": {
        "colab": {
          "base_uri": "https://localhost:8080/"
        },
        "id": "-t2oZUDM87Ro",
        "outputId": "544e4b58-e068-44cb-bfb0-5e580fc0b8a7"
      },
      "execution_count": 5,
      "outputs": [
        {
          "output_type": "execute_result",
          "data": {
            "text/plain": [
              "2"
            ]
          },
          "metadata": {},
          "execution_count": 5
        }
      ]
    },
    {
      "cell_type": "markdown",
      "source": [
        "4. Find distinct cities in the customer list."
      ],
      "metadata": {
        "id": "_oBBn95Q9HmK"
      }
    },
    {
      "cell_type": "code",
      "source": [
        "customers_df.select(\"city\").distinct().show()"
      ],
      "metadata": {
        "colab": {
          "base_uri": "https://localhost:8080/"
        },
        "id": "wYazPKgo87iU",
        "outputId": "7f295414-2c9c-427b-b28f-d93d8de2149c"
      },
      "execution_count": 6,
      "outputs": [
        {
          "output_type": "stream",
          "name": "stdout",
          "text": [
            "+---------+\n",
            "|     city|\n",
            "+---------+\n",
            "|Bangalore|\n",
            "|    Delhi|\n",
            "|Hyderabad|\n",
            "|  Chennai|\n",
            "|   Mumbai|\n",
            "+---------+\n",
            "\n"
          ]
        }
      ]
    },
    {
      "cell_type": "markdown",
      "source": [
        "**Aggregations**"
      ],
      "metadata": {
        "id": "dfCur_lp9OUZ"
      }
    },
    {
      "cell_type": "markdown",
      "source": [
        "5. Find the average age of customers."
      ],
      "metadata": {
        "id": "aKGSaowK9Si8"
      }
    },
    {
      "cell_type": "code",
      "source": [
        "from pyspark.sql.functions import avg\n",
        "customers_df.agg(avg(\"age\")).show()"
      ],
      "metadata": {
        "colab": {
          "base_uri": "https://localhost:8080/"
        },
        "id": "KG5bMDSt87rZ",
        "outputId": "39a92020-ae06-4e5f-f712-657db69ff5b8"
      },
      "execution_count": 7,
      "outputs": [
        {
          "output_type": "stream",
          "name": "stdout",
          "text": [
            "+------------------+\n",
            "|          avg(age)|\n",
            "+------------------+\n",
            "|29.833333333333332|\n",
            "+------------------+\n",
            "\n"
          ]
        }
      ]
    },
    {
      "cell_type": "markdown",
      "source": [
        "6. Find the maximum and minimum order amount."
      ],
      "metadata": {
        "id": "wEXG1Vo99Zaz"
      }
    },
    {
      "cell_type": "code",
      "source": [
        "from pyspark.sql.functions import max, min\n",
        "orders_df.agg(max(\"amount\"), min(\"amount\")).show()\n"
      ],
      "metadata": {
        "colab": {
          "base_uri": "https://localhost:8080/"
        },
        "id": "55xR9uLW87xp",
        "outputId": "d3d2a864-c7fd-40ba-d0e8-009608011f99"
      },
      "execution_count": 8,
      "outputs": [
        {
          "output_type": "stream",
          "name": "stdout",
          "text": [
            "+-----------+-----------+\n",
            "|max(amount)|min(amount)|\n",
            "+-----------+-----------+\n",
            "|      55000|        700|\n",
            "+-----------+-----------+\n",
            "\n"
          ]
        }
      ]
    },
    {
      "cell_type": "markdown",
      "source": [
        "7. Count number of orders placed by each customer."
      ],
      "metadata": {
        "id": "sXIuImnd9phQ"
      }
    },
    {
      "cell_type": "code",
      "source": [
        "orders_df.groupBy(\"customer_id\").count().withColumnRenamed(\"count\", \"order_count\").show()"
      ],
      "metadata": {
        "colab": {
          "base_uri": "https://localhost:8080/"
        },
        "id": "Jdc1nxIT872m",
        "outputId": "96a14626-a6df-4e5e-9d4f-166981b527d3"
      },
      "execution_count": 9,
      "outputs": [
        {
          "output_type": "stream",
          "name": "stdout",
          "text": [
            "+-----------+-----------+\n",
            "|customer_id|order_count|\n",
            "+-----------+-----------+\n",
            "|          1|          2|\n",
            "|          3|          1|\n",
            "|          2|          2|\n",
            "|          7|          1|\n",
            "|          6|          1|\n",
            "|          5|          1|\n",
            "+-----------+-----------+\n",
            "\n"
          ]
        }
      ]
    },
    {
      "cell_type": "markdown",
      "source": [
        "8. Calculate total spending of each customer."
      ],
      "metadata": {
        "id": "xv0qhrVr9spA"
      }
    },
    {
      "cell_type": "code",
      "source": [
        "from pyspark.sql.functions import sum\n",
        "orders_df.groupBy(\"customer_id\").agg(sum(\"amount\").alias(\"total_spent\")).show()"
      ],
      "metadata": {
        "colab": {
          "base_uri": "https://localhost:8080/"
        },
        "id": "_gsoUlDO876f",
        "outputId": "b58487d6-fca2-4db9-9237-92a10b8dbc62"
      },
      "execution_count": 10,
      "outputs": [
        {
          "output_type": "stream",
          "name": "stdout",
          "text": [
            "+-----------+-----------+\n",
            "|customer_id|total_spent|\n",
            "+-----------+-----------+\n",
            "|          1|      58000|\n",
            "|          3|       5000|\n",
            "|          2|      45000|\n",
            "|          7|      30000|\n",
            "|          6|       2500|\n",
            "|          5|        700|\n",
            "+-----------+-----------+\n",
            "\n"
          ]
        }
      ]
    },
    {
      "cell_type": "markdown",
      "source": [
        "**Joins**"
      ],
      "metadata": {
        "id": "GghKBB7s-M2_"
      }
    },
    {
      "cell_type": "markdown",
      "source": [
        "9. Perform an inner join between customers and orders."
      ],
      "metadata": {
        "id": "hiPa0MCf-QyA"
      }
    },
    {
      "cell_type": "code",
      "source": [
        "customers_df.join(orders_df, \"customer_id\", \"inner\").show()"
      ],
      "metadata": {
        "colab": {
          "base_uri": "https://localhost:8080/"
        },
        "id": "HalnrQk-87-a",
        "outputId": "2b2c419a-6b69-4959-8cdf-2384065eddc2"
      },
      "execution_count": 11,
      "outputs": [
        {
          "output_type": "stream",
          "name": "stdout",
          "text": [
            "+-----------+------------+---------+---+--------+----------+------+\n",
            "|customer_id|        name|     city|age|order_id|   product|amount|\n",
            "+-----------+------------+---------+---+--------+----------+------+\n",
            "|          1|Rahul Sharma|Bangalore| 28|     101|    Laptop| 55000|\n",
            "|          1|Rahul Sharma|Bangalore| 28|     103|Headphones|  3000|\n",
            "|          2| Priya Singh|    Delhi| 32|     102|    Mobile| 25000|\n",
            "|          2| Priya Singh|    Delhi| 32|     106|    Tablet| 20000|\n",
            "|          3|  Aman Kumar|Hyderabad| 25|     104|     Chair|  5000|\n",
            "|          5| Arjun Mehta|   Mumbai| 30|     105|      Book|   700|\n",
            "|          6|  Divya Nair|    Delhi| 29|     107|     Shoes|  2500|\n",
            "+-----------+------------+---------+---+--------+----------+------+\n",
            "\n"
          ]
        }
      ]
    },
    {
      "cell_type": "markdown",
      "source": [
        "10. Perform a left join to show all customers (even without orders)."
      ],
      "metadata": {
        "id": "lVPlIixo-Wk2"
      }
    },
    {
      "cell_type": "code",
      "source": [
        "customers_df.join(orders_df, \"customer_id\", \"left\").show()"
      ],
      "metadata": {
        "colab": {
          "base_uri": "https://localhost:8080/"
        },
        "id": "npc_ACdT9xxZ",
        "outputId": "4d11a451-8cc4-46c5-f73c-1372da2014ae"
      },
      "execution_count": 12,
      "outputs": [
        {
          "output_type": "stream",
          "name": "stdout",
          "text": [
            "+-----------+------------+---------+---+--------+----------+------+\n",
            "|customer_id|        name|     city|age|order_id|   product|amount|\n",
            "+-----------+------------+---------+---+--------+----------+------+\n",
            "|          1|Rahul Sharma|Bangalore| 28|     103|Headphones|  3000|\n",
            "|          1|Rahul Sharma|Bangalore| 28|     101|    Laptop| 55000|\n",
            "|          3|  Aman Kumar|Hyderabad| 25|     104|     Chair|  5000|\n",
            "|          2| Priya Singh|    Delhi| 32|     106|    Tablet| 20000|\n",
            "|          2| Priya Singh|    Delhi| 32|     102|    Mobile| 25000|\n",
            "|          6|  Divya Nair|    Delhi| 29|     107|     Shoes|  2500|\n",
            "|          5| Arjun Mehta|   Mumbai| 30|     105|      Book|   700|\n",
            "|          4| Sneha Reddy|  Chennai| 35|    NULL|      NULL|  NULL|\n",
            "+-----------+------------+---------+---+--------+----------+------+\n",
            "\n"
          ]
        }
      ]
    },
    {
      "cell_type": "markdown",
      "source": [
        "11. Find customers who have never placed an order."
      ],
      "metadata": {
        "id": "BB_9cblr-s2n"
      }
    },
    {
      "cell_type": "code",
      "source": [
        "customers_df.join(orders_df, \"customer_id\", \"left\") \\\n",
        "    .filter(orders_df.order_id.isNull()) \\\n",
        "    .select(\"customer_id\", \"name\").show()"
      ],
      "metadata": {
        "colab": {
          "base_uri": "https://localhost:8080/"
        },
        "id": "CncApZAF9x8W",
        "outputId": "439ac90c-78bb-442e-d89b-9aff5ce0fdf3"
      },
      "execution_count": 13,
      "outputs": [
        {
          "output_type": "stream",
          "name": "stdout",
          "text": [
            "+-----------+-----------+\n",
            "|customer_id|       name|\n",
            "+-----------+-----------+\n",
            "|          4|Sneha Reddy|\n",
            "+-----------+-----------+\n",
            "\n"
          ]
        }
      ]
    },
    {
      "cell_type": "markdown",
      "source": [
        "12. Find orders that belong to non-existent customers."
      ],
      "metadata": {
        "id": "ewpV7Onz-xe9"
      }
    },
    {
      "cell_type": "code",
      "source": [
        "orders_df.join(customers_df, \"customer_id\", \"left\") \\\n",
        "    .filter(customers_df.name.isNull()) \\\n",
        "    .select(\"order_id\", \"customer_id\", \"product\", \"amount\").show()"
      ],
      "metadata": {
        "colab": {
          "base_uri": "https://localhost:8080/"
        },
        "id": "fRF1TKzn9yK8",
        "outputId": "a9d7a9ac-38f7-4493-814a-a72a1eacb915"
      },
      "execution_count": 14,
      "outputs": [
        {
          "output_type": "stream",
          "name": "stdout",
          "text": [
            "+--------+-----------+-------+------+\n",
            "|order_id|customer_id|product|amount|\n",
            "+--------+-----------+-------+------+\n",
            "|     108|          7| Camera| 30000|\n",
            "+--------+-----------+-------+------+\n",
            "\n"
          ]
        }
      ]
    },
    {
      "cell_type": "markdown",
      "source": [
        "**Sorting & Grouping**"
      ],
      "metadata": {
        "id": "k4EvMAqX-9wI"
      }
    },
    {
      "cell_type": "markdown",
      "source": [
        "13. List customers ordered by age (descending)"
      ],
      "metadata": {
        "id": "8dVVRjrV_C28"
      }
    },
    {
      "cell_type": "code",
      "source": [
        "customers_df.orderBy(customers_df.age.desc()).show()"
      ],
      "metadata": {
        "colab": {
          "base_uri": "https://localhost:8080/"
        },
        "id": "4mpnJ7iu9ybn",
        "outputId": "608c7828-7d10-48b7-ff5b-600a20a48bfa"
      },
      "execution_count": 15,
      "outputs": [
        {
          "output_type": "stream",
          "name": "stdout",
          "text": [
            "+-----------+------------+---------+---+\n",
            "|customer_id|        name|     city|age|\n",
            "+-----------+------------+---------+---+\n",
            "|          4| Sneha Reddy|  Chennai| 35|\n",
            "|          2| Priya Singh|    Delhi| 32|\n",
            "|          5| Arjun Mehta|   Mumbai| 30|\n",
            "|          6|  Divya Nair|    Delhi| 29|\n",
            "|          1|Rahul Sharma|Bangalore| 28|\n",
            "|          3|  Aman Kumar|Hyderabad| 25|\n",
            "+-----------+------------+---------+---+\n",
            "\n"
          ]
        }
      ]
    },
    {
      "cell_type": "markdown",
      "source": [
        "14. Show top 3 highest order amounts"
      ],
      "metadata": {
        "id": "BS5UcjDA_SjH"
      }
    },
    {
      "cell_type": "code",
      "source": [
        "orders_df.orderBy(orders_df.amount.desc()).show(3)"
      ],
      "metadata": {
        "colab": {
          "base_uri": "https://localhost:8080/"
        },
        "id": "iSmp8ziG-3Jf",
        "outputId": "11bd53e5-e01f-41c4-d0d4-201cb3b78671"
      },
      "execution_count": 16,
      "outputs": [
        {
          "output_type": "stream",
          "name": "stdout",
          "text": [
            "+--------+-----------+-------+------+\n",
            "|order_id|customer_id|product|amount|\n",
            "+--------+-----------+-------+------+\n",
            "|     101|          1| Laptop| 55000|\n",
            "|     108|          7| Camera| 30000|\n",
            "|     102|          2| Mobile| 25000|\n",
            "+--------+-----------+-------+------+\n",
            "only showing top 3 rows\n",
            "\n"
          ]
        }
      ]
    },
    {
      "cell_type": "markdown",
      "source": [
        "15. Group customers by city and find average age"
      ],
      "metadata": {
        "id": "AKuJ1NBD_T2L"
      }
    },
    {
      "cell_type": "code",
      "source": [
        "customers_df.groupBy(\"city\").agg(avg(\"age\").alias(\"avg_age\")).show()"
      ],
      "metadata": {
        "colab": {
          "base_uri": "https://localhost:8080/"
        },
        "id": "mn_GHWgG-3Sl",
        "outputId": "7c7cb21c-92c9-4b45-eee6-bb664c2a6627"
      },
      "execution_count": 17,
      "outputs": [
        {
          "output_type": "stream",
          "name": "stdout",
          "text": [
            "+---------+-------+\n",
            "|     city|avg_age|\n",
            "+---------+-------+\n",
            "|Bangalore|   28.0|\n",
            "|    Delhi|   30.5|\n",
            "|Hyderabad|   25.0|\n",
            "|  Chennai|   35.0|\n",
            "|   Mumbai|   30.0|\n",
            "+---------+-------+\n",
            "\n"
          ]
        }
      ]
    },
    {
      "cell_type": "markdown",
      "source": [
        "16. Group orders by product and find total sales amount"
      ],
      "metadata": {
        "id": "reSZGmoQ_XK7"
      }
    },
    {
      "cell_type": "code",
      "source": [
        "orders_df.groupBy(\"product\").agg(sum(\"amount\").alias(\"total_sales\")).show()"
      ],
      "metadata": {
        "colab": {
          "base_uri": "https://localhost:8080/"
        },
        "id": "bzjOSSmI-3WN",
        "outputId": "0d316fb7-4096-4ee1-d1e8-ddd6c359f17f"
      },
      "execution_count": 18,
      "outputs": [
        {
          "output_type": "stream",
          "name": "stdout",
          "text": [
            "+----------+-----------+\n",
            "|   product|total_sales|\n",
            "+----------+-----------+\n",
            "|     Chair|       5000|\n",
            "|    Laptop|      55000|\n",
            "|    Mobile|      25000|\n",
            "|Headphones|       3000|\n",
            "|      Book|        700|\n",
            "|    Camera|      30000|\n",
            "|     Shoes|       2500|\n",
            "|    Tablet|      20000|\n",
            "+----------+-----------+\n",
            "\n"
          ]
        }
      ]
    },
    {
      "cell_type": "markdown",
      "source": [
        "**SQL Operations**"
      ],
      "metadata": {
        "id": "8Pvfvw_-_njp"
      }
    },
    {
      "cell_type": "markdown",
      "source": [
        "17. Register both DataFrames as temp views"
      ],
      "metadata": {
        "id": "g0JRPPdR_srw"
      }
    },
    {
      "cell_type": "code",
      "source": [
        "customers_df.createOrReplaceTempView(\"customers\")\n",
        "orders_df.createOrReplaceTempView(\"orders\")"
      ],
      "metadata": {
        "id": "ykKzxtjW-3ZV"
      },
      "execution_count": 20,
      "outputs": []
    },
    {
      "cell_type": "markdown",
      "source": [
        "18. Write a SQL query to find total revenue by city"
      ],
      "metadata": {
        "id": "qoAcsxVy_xpu"
      }
    },
    {
      "cell_type": "code",
      "source": [
        "spark.sql(\"\"\"\n",
        "    SELECT c.city, SUM(o.amount) AS total_revenue\n",
        "    FROM customers c\n",
        "    JOIN orders o ON c.customer_id = o.customer_id\n",
        "    GROUP BY c.city\n",
        "\"\"\").show()\n"
      ],
      "metadata": {
        "colab": {
          "base_uri": "https://localhost:8080/"
        },
        "id": "f1kSiJng-3cd",
        "outputId": "b44cbc59-4b7d-4812-be07-fbbd3f5bcdbe"
      },
      "execution_count": 21,
      "outputs": [
        {
          "output_type": "stream",
          "name": "stdout",
          "text": [
            "+---------+-------------+\n",
            "|     city|total_revenue|\n",
            "+---------+-------------+\n",
            "|Bangalore|        58000|\n",
            "|   Mumbai|          700|\n",
            "|    Delhi|        47500|\n",
            "|Hyderabad|         5000|\n",
            "+---------+-------------+\n",
            "\n"
          ]
        }
      ]
    },
    {
      "cell_type": "markdown",
      "source": [
        "19. Write a SQL query to list top 2 customers by total spend"
      ],
      "metadata": {
        "id": "pLalomOp_2MW"
      }
    },
    {
      "cell_type": "code",
      "source": [
        "spark.sql(\"\"\"\n",
        "    SELECT c.name, SUM(o.amount) AS total_spent\n",
        "    FROM customers c\n",
        "    JOIN orders o ON c.customer_id = o.customer_id\n",
        "    GROUP BY c.name\n",
        "    ORDER BY total_spent DESC\n",
        "    LIMIT 2\n",
        "\"\"\").show()\n"
      ],
      "metadata": {
        "colab": {
          "base_uri": "https://localhost:8080/"
        },
        "id": "3LqsCCId-3tr",
        "outputId": "14887585-499e-4a71-ba5d-3a2aa2fe7b53"
      },
      "execution_count": 22,
      "outputs": [
        {
          "output_type": "stream",
          "name": "stdout",
          "text": [
            "+------------+-----------+\n",
            "|        name|total_spent|\n",
            "+------------+-----------+\n",
            "|Rahul Sharma|      58000|\n",
            "| Priya Singh|      45000|\n",
            "+------------+-----------+\n",
            "\n"
          ]
        }
      ]
    },
    {
      "cell_type": "markdown",
      "source": [
        "20. Write a SQL query to find all customers who bought products worth more than 20,000"
      ],
      "metadata": {
        "id": "QQpKqnyt_57K"
      }
    },
    {
      "cell_type": "code",
      "source": [
        "spark.sql(\"\"\"\n",
        "    SELECT DISTINCT c.customer_id, c.name, o.product, o.amount\n",
        "    FROM customers c\n",
        "    JOIN orders o ON c.customer_id = o.customer_id\n",
        "    WHERE o.amount > 20000\n",
        "\"\"\").show()\n"
      ],
      "metadata": {
        "colab": {
          "base_uri": "https://localhost:8080/"
        },
        "id": "A8165j7t-3wh",
        "outputId": "dd50ba62-6105-486b-a68b-79c4e0ea8c13"
      },
      "execution_count": 23,
      "outputs": [
        {
          "output_type": "stream",
          "name": "stdout",
          "text": [
            "+-----------+------------+-------+------+\n",
            "|customer_id|        name|product|amount|\n",
            "+-----------+------------+-------+------+\n",
            "|          1|Rahul Sharma| Laptop| 55000|\n",
            "|          2| Priya Singh| Mobile| 25000|\n",
            "+-----------+------------+-------+------+\n",
            "\n"
          ]
        }
      ]
    }
  ]
}