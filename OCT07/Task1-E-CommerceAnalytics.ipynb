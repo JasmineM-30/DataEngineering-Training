{
 "cells": [
  {
   "cell_type": "markdown",
   "metadata": {
    "application/vnd.databricks.v1+cell": {
     "cellMetadata": {},
     "inputWidgets": {},
     "nuid": "f39dd1d9-4f8d-427f-9740-98c4876692a8",
     "showTitle": false,
     "tableResultSettingsMap": {},
     "title": ""
    }
   },
   "source": [
    "## E-Commerce Analytics"
   ]
  },
  {
   "cell_type": "code",
   "execution_count": 0,
   "metadata": {
    "application/vnd.databricks.v1+cell": {
     "cellMetadata": {
      "byteLimit": 2048000,
      "rowLimit": 10000
     },
     "inputWidgets": {},
     "nuid": "da851ada-858c-43c2-9dad-03053b5285c1",
     "showTitle": false,
     "tableResultSettingsMap": {},
     "title": ""
    }
   },
   "outputs": [],
   "source": [
    "#1.Setup Your NotebooK\n",
    "from pyspark.sql import SparkSession\n",
    "from pyspark.sql.functions import col, month, date_format, round, sum as spark_sum, avg as spark_avg, row_number, when\n",
    "from pyspark.sql.window import Window\n",
    "\n",
    "spark = SparkSession.builder.appName(\"ECommerceAnalysis\").getOrCreate()\n"
   ]
  },
  {
   "cell_type": "code",
   "execution_count": 0,
   "metadata": {
    "application/vnd.databricks.v1+cell": {
     "cellMetadata": {
      "byteLimit": 2048000,
      "rowLimit": 10000
     },
     "inputWidgets": {},
     "nuid": "2a11a4af-e9aa-466d-8c95-cea8bdc31583",
     "showTitle": false,
     "tableResultSettingsMap": {},
     "title": ""
    }
   },
   "outputs": [
    {
     "output_type": "display_data",
     "data": {
      "text/html": [
       "<style scoped>\n",
       "  .table-result-container {\n",
       "    max-height: 300px;\n",
       "    overflow: auto;\n",
       "  }\n",
       "  table, th, td {\n",
       "    border: 1px solid black;\n",
       "    border-collapse: collapse;\n",
       "  }\n",
       "  th, td {\n",
       "    padding: 5px;\n",
       "  }\n",
       "  th {\n",
       "    text-align: left;\n",
       "  }\n",
       "</style><div class='table-result-container'><table class='table-result'><thead style='background-color: white'><tr><th>customer_id</th><th>name</th><th>city</th><th>age</th></tr></thead><tbody><tr><td>1</td><td>Rahul Sharma</td><td>Bangalore</td><td>28</td></tr><tr><td>2</td><td>Priya Singh</td><td>Delhi</td><td>32</td></tr><tr><td>3</td><td>Aman Kumar</td><td>Hyderabad</td><td>25</td></tr><tr><td>4</td><td>Sneha Reddy</td><td>Chennai</td><td>35</td></tr><tr><td>5</td><td>Arjun Mehta</td><td>Mumbai</td><td>30</td></tr><tr><td>6</td><td>Divya Nair</td><td>Delhi</td><td>29</td></tr></tbody></table></div>"
      ]
     },
     "metadata": {
      "application/vnd.databricks.v1+output": {
       "addedWidgets": {},
       "aggData": [],
       "aggError": "",
       "aggOverflow": false,
       "aggSchema": [],
       "aggSeriesLimitReached": false,
       "aggType": "",
       "arguments": {},
       "columnCustomDisplayInfos": {},
       "data": [
        [
         1,
         "Rahul Sharma",
         "Bangalore",
         28
        ],
        [
         2,
         "Priya Singh",
         "Delhi",
         32
        ],
        [
         3,
         "Aman Kumar",
         "Hyderabad",
         25
        ],
        [
         4,
         "Sneha Reddy",
         "Chennai",
         35
        ],
        [
         5,
         "Arjun Mehta",
         "Mumbai",
         30
        ],
        [
         6,
         "Divya Nair",
         "Delhi",
         29
        ]
       ],
       "datasetInfos": [],
       "dbfsResultPath": null,
       "isJsonSchema": true,
       "metadata": {},
       "overflow": false,
       "plotOptions": {
        "customPlotOptions": {},
        "displayType": "table",
        "pivotAggregation": null,
        "pivotColumns": null,
        "xColumns": null,
        "yColumns": null
       },
       "removedWidgets": [],
       "schema": [
        {
         "metadata": "{}",
         "name": "customer_id",
         "type": "\"integer\""
        },
        {
         "metadata": "{}",
         "name": "name",
         "type": "\"string\""
        },
        {
         "metadata": "{}",
         "name": "city",
         "type": "\"string\""
        },
        {
         "metadata": "{}",
         "name": "age",
         "type": "\"integer\""
        }
       ],
       "type": "table"
      }
     },
     "output_type": "display_data"
    },
    {
     "output_type": "display_data",
     "data": {
      "text/html": [
       "<style scoped>\n",
       "  .table-result-container {\n",
       "    max-height: 300px;\n",
       "    overflow: auto;\n",
       "  }\n",
       "  table, th, td {\n",
       "    border: 1px solid black;\n",
       "    border-collapse: collapse;\n",
       "  }\n",
       "  th, td {\n",
       "    padding: 5px;\n",
       "  }\n",
       "  th {\n",
       "    text-align: left;\n",
       "  }\n",
       "</style><div class='table-result-container'><table class='table-result'><thead style='background-color: white'><tr><th>product_id</th><th>product_name</th><th>category</th><th>price</th></tr></thead><tbody><tr><td>101</td><td>Laptop</td><td>Electronics</td><td>55000</td></tr><tr><td>102</td><td>Mobile</td><td>Electronics</td><td>25000</td></tr><tr><td>103</td><td>Headphones</td><td>Electronics</td><td>3000</td></tr><tr><td>104</td><td>Chair</td><td>Furniture</td><td>5000</td></tr><tr><td>105</td><td>Book</td><td>Stationery</td><td>700</td></tr><tr><td>106</td><td>Shoes</td><td>Fashion</td><td>2500</td></tr></tbody></table></div>"
      ]
     },
     "metadata": {
      "application/vnd.databricks.v1+output": {
       "addedWidgets": {},
       "aggData": [],
       "aggError": "",
       "aggOverflow": false,
       "aggSchema": [],
       "aggSeriesLimitReached": false,
       "aggType": "",
       "arguments": {},
       "columnCustomDisplayInfos": {},
       "data": [
        [
         101,
         "Laptop",
         "Electronics",
         55000
        ],
        [
         102,
         "Mobile",
         "Electronics",
         25000
        ],
        [
         103,
         "Headphones",
         "Electronics",
         3000
        ],
        [
         104,
         "Chair",
         "Furniture",
         5000
        ],
        [
         105,
         "Book",
         "Stationery",
         700
        ],
        [
         106,
         "Shoes",
         "Fashion",
         2500
        ]
       ],
       "datasetInfos": [],
       "dbfsResultPath": null,
       "isJsonSchema": true,
       "metadata": {},
       "overflow": false,
       "plotOptions": {
        "customPlotOptions": {},
        "displayType": "table",
        "pivotAggregation": null,
        "pivotColumns": null,
        "xColumns": null,
        "yColumns": null
       },
       "removedWidgets": [],
       "schema": [
        {
         "metadata": "{}",
         "name": "product_id",
         "type": "\"integer\""
        },
        {
         "metadata": "{}",
         "name": "product_name",
         "type": "\"string\""
        },
        {
         "metadata": "{}",
         "name": "category",
         "type": "\"string\""
        },
        {
         "metadata": "{}",
         "name": "price",
         "type": "\"integer\""
        }
       ],
       "type": "table"
      }
     },
     "output_type": "display_data"
    },
    {
     "output_type": "display_data",
     "data": {
      "text/html": [
       "<style scoped>\n",
       "  .table-result-container {\n",
       "    max-height: 300px;\n",
       "    overflow: auto;\n",
       "  }\n",
       "  table, th, td {\n",
       "    border: 1px solid black;\n",
       "    border-collapse: collapse;\n",
       "  }\n",
       "  th, td {\n",
       "    padding: 5px;\n",
       "  }\n",
       "  th {\n",
       "    text-align: left;\n",
       "  }\n",
       "</style><div class='table-result-container'><table class='table-result'><thead style='background-color: white'><tr><th>order_id</th><th>customer_id</th><th>product_id</th><th>quantity</th><th>order_date</th></tr></thead><tbody><tr><td>1001</td><td>1</td><td>101</td><td>1</td><td>2024-01-10</td></tr><tr><td>1002</td><td>2</td><td>102</td><td>2</td><td>2024-01-12</td></tr><tr><td>1003</td><td>1</td><td>103</td><td>3</td><td>2024-02-05</td></tr><tr><td>1004</td><td>3</td><td>104</td><td>1</td><td>2024-02-08</td></tr><tr><td>1005</td><td>5</td><td>105</td><td>5</td><td>2024-03-01</td></tr><tr><td>1006</td><td>6</td><td>106</td><td>2</td><td>2024-03-15</td></tr><tr><td>1007</td><td>7</td><td>101</td><td>1</td><td>2024-03-20</td></tr></tbody></table></div>"
      ]
     },
     "metadata": {
      "application/vnd.databricks.v1+output": {
       "addedWidgets": {},
       "aggData": [],
       "aggError": "",
       "aggOverflow": false,
       "aggSchema": [],
       "aggSeriesLimitReached": false,
       "aggType": "",
       "arguments": {},
       "columnCustomDisplayInfos": {},
       "data": [
        [
         1001,
         1,
         101,
         1,
         "2024-01-10"
        ],
        [
         1002,
         2,
         102,
         2,
         "2024-01-12"
        ],
        [
         1003,
         1,
         103,
         3,
         "2024-02-05"
        ],
        [
         1004,
         3,
         104,
         1,
         "2024-02-08"
        ],
        [
         1005,
         5,
         105,
         5,
         "2024-03-01"
        ],
        [
         1006,
         6,
         106,
         2,
         "2024-03-15"
        ],
        [
         1007,
         7,
         101,
         1,
         "2024-03-20"
        ]
       ],
       "datasetInfos": [],
       "dbfsResultPath": null,
       "isJsonSchema": true,
       "metadata": {},
       "overflow": false,
       "plotOptions": {
        "customPlotOptions": {},
        "displayType": "table",
        "pivotAggregation": null,
        "pivotColumns": null,
        "xColumns": null,
        "yColumns": null
       },
       "removedWidgets": [],
       "schema": [
        {
         "metadata": "{}",
         "name": "order_id",
         "type": "\"integer\""
        },
        {
         "metadata": "{}",
         "name": "customer_id",
         "type": "\"integer\""
        },
        {
         "metadata": "{}",
         "name": "product_id",
         "type": "\"integer\""
        },
        {
         "metadata": "{}",
         "name": "quantity",
         "type": "\"integer\""
        },
        {
         "metadata": "{\"__detected_date_formats\": \"yyyy-M-d\"}",
         "name": "order_date",
         "type": "\"date\""
        }
       ],
       "type": "table"
      }
     },
     "output_type": "display_data"
    }
   ],
   "source": [
    "#3.Create and Upload Data\n",
    "customers_df = spark.read.csv(\"/FileStore/tables/customers.csv\", header=True, inferSchema=True)\n",
    "products_df  = spark.read.csv(\"/FileStore/tables/products.csv\",  header=True, inferSchema=True)\n",
    "orders_df    = spark.read.csv(\"/FileStore/tables/orders.csv\",    header=True, inferSchema=True)\n",
    "\n",
    "display(customers_df)\n",
    "display(products_df)\n",
    "display(orders_df)\n"
   ]
  },
  {
   "cell_type": "code",
   "execution_count": 0,
   "metadata": {
    "application/vnd.databricks.v1+cell": {
     "cellMetadata": {
      "byteLimit": 2048000,
      "rowLimit": 10000
     },
     "inputWidgets": {},
     "nuid": "358abbd6-1883-42b4-8ab4-18a64b52e6cd",
     "showTitle": false,
     "tableResultSettingsMap": {},
     "title": ""
    }
   },
   "outputs": [
    {
     "output_type": "stream",
     "name": "stdout",
     "output_type": "stream",
     "text": [
      "root\n |-- customer_id: integer (nullable = true)\n |-- name: string (nullable = true)\n |-- city: string (nullable = true)\n |-- age: integer (nullable = true)\n\nroot\n |-- product_id: integer (nullable = true)\n |-- product_name: string (nullable = true)\n |-- category: string (nullable = true)\n |-- price: integer (nullable = true)\n\nroot\n |-- order_id: integer (nullable = true)\n |-- customer_id: integer (nullable = true)\n |-- product_id: integer (nullable = true)\n |-- quantity: integer (nullable = true)\n |-- order_date: date (nullable = true)\n\nCustomers: 6\nProducts : 6\nOrders   : 7\n"
     ]
    }
   ],
   "source": [
    "#Check Schemas and Basic Counts\n",
    "customers_df.printSchema()\n",
    "products_df.printSchema()\n",
    "orders_df.printSchema()\n",
    "\n",
    "print(\"Customers:\", customers_df.count())\n",
    "print(\"Products :\", products_df.count())\n",
    "print(\"Orders   :\", orders_df.count())"
   ]
  },
  {
   "cell_type": "code",
   "execution_count": 0,
   "metadata": {
    "application/vnd.databricks.v1+cell": {
     "cellMetadata": {
      "byteLimit": 2048000,
      "rowLimit": 10000
     },
     "inputWidgets": {},
     "nuid": "cd5f65e0-67e7-43ff-97cc-452f4164ba21",
     "showTitle": false,
     "tableResultSettingsMap": {},
     "title": ""
    }
   },
   "outputs": [
    {
     "output_type": "display_data",
     "data": {
      "text/html": [
       "<style scoped>\n",
       "  .table-result-container {\n",
       "    max-height: 300px;\n",
       "    overflow: auto;\n",
       "  }\n",
       "  table, th, td {\n",
       "    border: 1px solid black;\n",
       "    border-collapse: collapse;\n",
       "  }\n",
       "  th, td {\n",
       "    padding: 5px;\n",
       "  }\n",
       "  th {\n",
       "    text-align: left;\n",
       "  }\n",
       "</style><div class='table-result-container'><table class='table-result'><thead style='background-color: white'><tr><th>product_id</th><th>order_id</th><th>customer_id</th><th>quantity</th><th>order_date</th><th>product_name</th><th>category</th><th>price</th><th>total_price</th></tr></thead><tbody><tr><td>101</td><td>1001</td><td>1</td><td>1</td><td>2024-01-10</td><td>Laptop</td><td>Electronics</td><td>55000</td><td>55000</td></tr><tr><td>102</td><td>1002</td><td>2</td><td>2</td><td>2024-01-12</td><td>Mobile</td><td>Electronics</td><td>25000</td><td>50000</td></tr><tr><td>103</td><td>1003</td><td>1</td><td>3</td><td>2024-02-05</td><td>Headphones</td><td>Electronics</td><td>3000</td><td>9000</td></tr><tr><td>104</td><td>1004</td><td>3</td><td>1</td><td>2024-02-08</td><td>Chair</td><td>Furniture</td><td>5000</td><td>5000</td></tr><tr><td>105</td><td>1005</td><td>5</td><td>5</td><td>2024-03-01</td><td>Book</td><td>Stationery</td><td>700</td><td>3500</td></tr><tr><td>106</td><td>1006</td><td>6</td><td>2</td><td>2024-03-15</td><td>Shoes</td><td>Fashion</td><td>2500</td><td>5000</td></tr><tr><td>101</td><td>1007</td><td>7</td><td>1</td><td>2024-03-20</td><td>Laptop</td><td>Electronics</td><td>55000</td><td>55000</td></tr></tbody></table></div>"
      ]
     },
     "metadata": {
      "application/vnd.databricks.v1+output": {
       "addedWidgets": {},
       "aggData": [],
       "aggError": "",
       "aggOverflow": false,
       "aggSchema": [],
       "aggSeriesLimitReached": false,
       "aggType": "",
       "arguments": {},
       "columnCustomDisplayInfos": {},
       "data": [
        [
         101,
         1001,
         1,
         1,
         "2024-01-10",
         "Laptop",
         "Electronics",
         55000,
         55000
        ],
        [
         102,
         1002,
         2,
         2,
         "2024-01-12",
         "Mobile",
         "Electronics",
         25000,
         50000
        ],
        [
         103,
         1003,
         1,
         3,
         "2024-02-05",
         "Headphones",
         "Electronics",
         3000,
         9000
        ],
        [
         104,
         1004,
         3,
         1,
         "2024-02-08",
         "Chair",
         "Furniture",
         5000,
         5000
        ],
        [
         105,
         1005,
         5,
         5,
         "2024-03-01",
         "Book",
         "Stationery",
         700,
         3500
        ],
        [
         106,
         1006,
         6,
         2,
         "2024-03-15",
         "Shoes",
         "Fashion",
         2500,
         5000
        ],
        [
         101,
         1007,
         7,
         1,
         "2024-03-20",
         "Laptop",
         "Electronics",
         55000,
         55000
        ]
       ],
       "datasetInfos": [],
       "dbfsResultPath": null,
       "isJsonSchema": true,
       "metadata": {},
       "overflow": false,
       "plotOptions": {
        "customPlotOptions": {},
        "displayType": "table",
        "pivotAggregation": null,
        "pivotColumns": null,
        "xColumns": null,
        "yColumns": null
       },
       "removedWidgets": [],
       "schema": [
        {
         "metadata": "{}",
         "name": "product_id",
         "type": "\"integer\""
        },
        {
         "metadata": "{}",
         "name": "order_id",
         "type": "\"integer\""
        },
        {
         "metadata": "{}",
         "name": "customer_id",
         "type": "\"integer\""
        },
        {
         "metadata": "{}",
         "name": "quantity",
         "type": "\"integer\""
        },
        {
         "metadata": "{\"__detected_date_formats\": \"yyyy-M-d\"}",
         "name": "order_date",
         "type": "\"date\""
        },
        {
         "metadata": "{}",
         "name": "product_name",
         "type": "\"string\""
        },
        {
         "metadata": "{}",
         "name": "category",
         "type": "\"string\""
        },
        {
         "metadata": "{}",
         "name": "price",
         "type": "\"integer\""
        },
        {
         "metadata": "{}",
         "name": "total_price",
         "type": "\"integer\""
        }
       ],
       "type": "table"
      }
     },
     "output_type": "display_data"
    }
   ],
   "source": [
    "#4.Transformations\n",
    "#1.Add total_price = quantity × price\n",
    "joined_df = orders_df.join(products_df, \"product_id\")\n",
    "orders_total_df = joined_df.withColumn(\"total_price\", col(\"quantity\") * col(\"price\"))\n",
    "display(orders_total_df)"
   ]
  },
  {
   "cell_type": "code",
   "execution_count": 0,
   "metadata": {
    "application/vnd.databricks.v1+cell": {
     "cellMetadata": {
      "byteLimit": 2048000,
      "rowLimit": 10000
     },
     "inputWidgets": {},
     "nuid": "e0be8cb8-8812-4d3b-9296-98d91489a6b7",
     "showTitle": false,
     "tableResultSettingsMap": {},
     "title": ""
    }
   },
   "outputs": [
    {
     "output_type": "display_data",
     "data": {
      "text/html": [
       "<style scoped>\n",
       "  .table-result-container {\n",
       "    max-height: 300px;\n",
       "    overflow: auto;\n",
       "  }\n",
       "  table, th, td {\n",
       "    border: 1px solid black;\n",
       "    border-collapse: collapse;\n",
       "  }\n",
       "  th, td {\n",
       "    padding: 5px;\n",
       "  }\n",
       "  th {\n",
       "    text-align: left;\n",
       "  }\n",
       "</style><div class='table-result-container'><table class='table-result'><thead style='background-color: white'><tr><th>product_id</th><th>order_id</th><th>customer_id</th><th>quantity</th><th>order_date</th><th>product_name</th><th>category</th><th>price</th><th>total_price</th></tr></thead><tbody><tr><td>101</td><td>1001</td><td>1</td><td>1</td><td>2024-01-10</td><td>Laptop</td><td>Electronics</td><td>55000</td><td>55000</td></tr><tr><td>102</td><td>1002</td><td>2</td><td>2</td><td>2024-01-12</td><td>Mobile</td><td>Electronics</td><td>25000</td><td>50000</td></tr><tr><td>101</td><td>1007</td><td>7</td><td>1</td><td>2024-03-20</td><td>Laptop</td><td>Electronics</td><td>55000</td><td>55000</td></tr></tbody></table></div>"
      ]
     },
     "metadata": {
      "application/vnd.databricks.v1+output": {
       "addedWidgets": {},
       "aggData": [],
       "aggError": "",
       "aggOverflow": false,
       "aggSchema": [],
       "aggSeriesLimitReached": false,
       "aggType": "",
       "arguments": {},
       "columnCustomDisplayInfos": {},
       "data": [
        [
         101,
         1001,
         1,
         1,
         "2024-01-10",
         "Laptop",
         "Electronics",
         55000,
         55000
        ],
        [
         102,
         1002,
         2,
         2,
         "2024-01-12",
         "Mobile",
         "Electronics",
         25000,
         50000
        ],
        [
         101,
         1007,
         7,
         1,
         "2024-03-20",
         "Laptop",
         "Electronics",
         55000,
         55000
        ]
       ],
       "datasetInfos": [],
       "dbfsResultPath": null,
       "isJsonSchema": true,
       "metadata": {},
       "overflow": false,
       "plotOptions": {
        "customPlotOptions": {},
        "displayType": "table",
        "pivotAggregation": null,
        "pivotColumns": null,
        "xColumns": null,
        "yColumns": null
       },
       "removedWidgets": [],
       "schema": [
        {
         "metadata": "{}",
         "name": "product_id",
         "type": "\"integer\""
        },
        {
         "metadata": "{}",
         "name": "order_id",
         "type": "\"integer\""
        },
        {
         "metadata": "{}",
         "name": "customer_id",
         "type": "\"integer\""
        },
        {
         "metadata": "{}",
         "name": "quantity",
         "type": "\"integer\""
        },
        {
         "metadata": "{\"__detected_date_formats\": \"yyyy-M-d\"}",
         "name": "order_date",
         "type": "\"date\""
        },
        {
         "metadata": "{}",
         "name": "product_name",
         "type": "\"string\""
        },
        {
         "metadata": "{}",
         "name": "category",
         "type": "\"string\""
        },
        {
         "metadata": "{}",
         "name": "price",
         "type": "\"integer\""
        },
        {
         "metadata": "{}",
         "name": "total_price",
         "type": "\"integer\""
        }
       ],
       "type": "table"
      }
     },
     "output_type": "display_data"
    }
   ],
   "source": [
    "#2.Filter orders above 40,000\n",
    "high_value_orders = orders_total_df.filter(col(\"total_price\") > 40000)\n",
    "display(high_value_orders)"
   ]
  },
  {
   "cell_type": "code",
   "execution_count": 0,
   "metadata": {
    "application/vnd.databricks.v1+cell": {
     "cellMetadata": {
      "byteLimit": 2048000,
      "rowLimit": 10000
     },
     "inputWidgets": {},
     "nuid": "bfd98ace-6ef1-4349-80b3-8a5fa7a8268a",
     "showTitle": false,
     "tableResultSettingsMap": {},
     "title": ""
    }
   },
   "outputs": [
    {
     "output_type": "display_data",
     "data": {
      "text/html": [
       "<style scoped>\n",
       "  .table-result-container {\n",
       "    max-height: 300px;\n",
       "    overflow: auto;\n",
       "  }\n",
       "  table, th, td {\n",
       "    border: 1px solid black;\n",
       "    border-collapse: collapse;\n",
       "  }\n",
       "  th, td {\n",
       "    padding: 5px;\n",
       "  }\n",
       "  th {\n",
       "    text-align: left;\n",
       "  }\n",
       "</style><div class='table-result-container'><table class='table-result'><thead style='background-color: white'><tr><th>product_id</th><th>order_id</th><th>customer_id</th><th>quantity</th><th>order_date</th><th>product_name</th><th>category</th><th>price</th><th>total_price</th><th>order_month</th></tr></thead><tbody><tr><td>101</td><td>1001</td><td>1</td><td>1</td><td>2024-01-10</td><td>Laptop</td><td>Electronics</td><td>55000</td><td>55000</td><td>1</td></tr><tr><td>102</td><td>1002</td><td>2</td><td>2</td><td>2024-01-12</td><td>Mobile</td><td>Electronics</td><td>25000</td><td>50000</td><td>1</td></tr><tr><td>103</td><td>1003</td><td>1</td><td>3</td><td>2024-02-05</td><td>Headphones</td><td>Electronics</td><td>3000</td><td>9000</td><td>2</td></tr><tr><td>104</td><td>1004</td><td>3</td><td>1</td><td>2024-02-08</td><td>Chair</td><td>Furniture</td><td>5000</td><td>5000</td><td>2</td></tr><tr><td>105</td><td>1005</td><td>5</td><td>5</td><td>2024-03-01</td><td>Book</td><td>Stationery</td><td>700</td><td>3500</td><td>3</td></tr><tr><td>106</td><td>1006</td><td>6</td><td>2</td><td>2024-03-15</td><td>Shoes</td><td>Fashion</td><td>2500</td><td>5000</td><td>3</td></tr><tr><td>101</td><td>1007</td><td>7</td><td>1</td><td>2024-03-20</td><td>Laptop</td><td>Electronics</td><td>55000</td><td>55000</td><td>3</td></tr></tbody></table></div>"
      ]
     },
     "metadata": {
      "application/vnd.databricks.v1+output": {
       "addedWidgets": {},
       "aggData": [],
       "aggError": "",
       "aggOverflow": false,
       "aggSchema": [],
       "aggSeriesLimitReached": false,
       "aggType": "",
       "arguments": {},
       "columnCustomDisplayInfos": {},
       "data": [
        [
         101,
         1001,
         1,
         1,
         "2024-01-10",
         "Laptop",
         "Electronics",
         55000,
         55000,
         1
        ],
        [
         102,
         1002,
         2,
         2,
         "2024-01-12",
         "Mobile",
         "Electronics",
         25000,
         50000,
         1
        ],
        [
         103,
         1003,
         1,
         3,
         "2024-02-05",
         "Headphones",
         "Electronics",
         3000,
         9000,
         2
        ],
        [
         104,
         1004,
         3,
         1,
         "2024-02-08",
         "Chair",
         "Furniture",
         5000,
         5000,
         2
        ],
        [
         105,
         1005,
         5,
         5,
         "2024-03-01",
         "Book",
         "Stationery",
         700,
         3500,
         3
        ],
        [
         106,
         1006,
         6,
         2,
         "2024-03-15",
         "Shoes",
         "Fashion",
         2500,
         5000,
         3
        ],
        [
         101,
         1007,
         7,
         1,
         "2024-03-20",
         "Laptop",
         "Electronics",
         55000,
         55000,
         3
        ]
       ],
       "datasetInfos": [],
       "dbfsResultPath": null,
       "isJsonSchema": true,
       "metadata": {},
       "overflow": false,
       "plotOptions": {
        "customPlotOptions": {},
        "displayType": "table",
        "pivotAggregation": null,
        "pivotColumns": null,
        "xColumns": null,
        "yColumns": null
       },
       "removedWidgets": [],
       "schema": [
        {
         "metadata": "{}",
         "name": "product_id",
         "type": "\"integer\""
        },
        {
         "metadata": "{}",
         "name": "order_id",
         "type": "\"integer\""
        },
        {
         "metadata": "{}",
         "name": "customer_id",
         "type": "\"integer\""
        },
        {
         "metadata": "{}",
         "name": "quantity",
         "type": "\"integer\""
        },
        {
         "metadata": "{\"__detected_date_formats\": \"yyyy-M-d\"}",
         "name": "order_date",
         "type": "\"date\""
        },
        {
         "metadata": "{}",
         "name": "product_name",
         "type": "\"string\""
        },
        {
         "metadata": "{}",
         "name": "category",
         "type": "\"string\""
        },
        {
         "metadata": "{}",
         "name": "price",
         "type": "\"integer\""
        },
        {
         "metadata": "{}",
         "name": "total_price",
         "type": "\"integer\""
        },
        {
         "metadata": "{}",
         "name": "order_month",
         "type": "\"integer\""
        }
       ],
       "type": "table"
      }
     },
     "output_type": "display_data"
    }
   ],
   "source": [
    "#3.Extract month from order_date\n",
    "from pyspark.sql.functions import month\n",
    "\n",
    "orders_total_df = orders_total_df.withColumn(\"order_month\", month(col(\"order_date\")))\n",
    "display(orders_total_df)\n"
   ]
  },
  {
   "cell_type": "code",
   "execution_count": 0,
   "metadata": {
    "application/vnd.databricks.v1+cell": {
     "cellMetadata": {
      "byteLimit": 2048000,
      "rowLimit": 10000
     },
     "inputWidgets": {},
     "nuid": "e796cfa8-713b-468a-9e5f-fc4347e22f8a",
     "showTitle": false,
     "tableResultSettingsMap": {},
     "title": ""
    }
   },
   "outputs": [
    {
     "output_type": "display_data",
     "data": {
      "text/html": [
       "<style scoped>\n",
       "  .table-result-container {\n",
       "    max-height: 300px;\n",
       "    overflow: auto;\n",
       "  }\n",
       "  table, th, td {\n",
       "    border: 1px solid black;\n",
       "    border-collapse: collapse;\n",
       "  }\n",
       "  th, td {\n",
       "    padding: 5px;\n",
       "  }\n",
       "  th {\n",
       "    text-align: left;\n",
       "  }\n",
       "</style><div class='table-result-container'><table class='table-result'><thead style='background-color: white'><tr><th>product_id</th><th>order_id</th><th>customer_id</th><th>quantity</th><th>order_date</th><th>product_name</th><th>category</th><th>price</th><th>total_price</th><th>order_month</th></tr></thead><tbody><tr><td>101</td><td>1007</td><td>7</td><td>1</td><td>2024-03-20</td><td>Laptop</td><td>Electronics</td><td>55000</td><td>55000</td><td>3</td></tr><tr><td>101</td><td>1001</td><td>1</td><td>1</td><td>2024-01-10</td><td>Laptop</td><td>Electronics</td><td>55000</td><td>55000</td><td>1</td></tr><tr><td>102</td><td>1002</td><td>2</td><td>2</td><td>2024-01-12</td><td>Mobile</td><td>Electronics</td><td>25000</td><td>50000</td><td>1</td></tr><tr><td>103</td><td>1003</td><td>1</td><td>3</td><td>2024-02-05</td><td>Headphones</td><td>Electronics</td><td>3000</td><td>9000</td><td>2</td></tr><tr><td>104</td><td>1004</td><td>3</td><td>1</td><td>2024-02-08</td><td>Chair</td><td>Furniture</td><td>5000</td><td>5000</td><td>2</td></tr><tr><td>106</td><td>1006</td><td>6</td><td>2</td><td>2024-03-15</td><td>Shoes</td><td>Fashion</td><td>2500</td><td>5000</td><td>3</td></tr><tr><td>105</td><td>1005</td><td>5</td><td>5</td><td>2024-03-01</td><td>Book</td><td>Stationery</td><td>700</td><td>3500</td><td>3</td></tr></tbody></table></div>"
      ]
     },
     "metadata": {
      "application/vnd.databricks.v1+output": {
       "addedWidgets": {},
       "aggData": [],
       "aggError": "",
       "aggOverflow": false,
       "aggSchema": [],
       "aggSeriesLimitReached": false,
       "aggType": "",
       "arguments": {},
       "columnCustomDisplayInfos": {},
       "data": [
        [
         101,
         1007,
         7,
         1,
         "2024-03-20",
         "Laptop",
         "Electronics",
         55000,
         55000,
         3
        ],
        [
         101,
         1001,
         1,
         1,
         "2024-01-10",
         "Laptop",
         "Electronics",
         55000,
         55000,
         1
        ],
        [
         102,
         1002,
         2,
         2,
         "2024-01-12",
         "Mobile",
         "Electronics",
         25000,
         50000,
         1
        ],
        [
         103,
         1003,
         1,
         3,
         "2024-02-05",
         "Headphones",
         "Electronics",
         3000,
         9000,
         2
        ],
        [
         104,
         1004,
         3,
         1,
         "2024-02-08",
         "Chair",
         "Furniture",
         5000,
         5000,
         2
        ],
        [
         106,
         1006,
         6,
         2,
         "2024-03-15",
         "Shoes",
         "Fashion",
         2500,
         5000,
         3
        ],
        [
         105,
         1005,
         5,
         5,
         "2024-03-01",
         "Book",
         "Stationery",
         700,
         3500,
         3
        ]
       ],
       "datasetInfos": [],
       "dbfsResultPath": null,
       "isJsonSchema": true,
       "metadata": {},
       "overflow": false,
       "plotOptions": {
        "customPlotOptions": {},
        "displayType": "table",
        "pivotAggregation": null,
        "pivotColumns": null,
        "xColumns": null,
        "yColumns": null
       },
       "removedWidgets": [],
       "schema": [
        {
         "metadata": "{}",
         "name": "product_id",
         "type": "\"integer\""
        },
        {
         "metadata": "{}",
         "name": "order_id",
         "type": "\"integer\""
        },
        {
         "metadata": "{}",
         "name": "customer_id",
         "type": "\"integer\""
        },
        {
         "metadata": "{}",
         "name": "quantity",
         "type": "\"integer\""
        },
        {
         "metadata": "{\"__detected_date_formats\": \"yyyy-M-d\"}",
         "name": "order_date",
         "type": "\"date\""
        },
        {
         "metadata": "{}",
         "name": "product_name",
         "type": "\"string\""
        },
        {
         "metadata": "{}",
         "name": "category",
         "type": "\"string\""
        },
        {
         "metadata": "{}",
         "name": "price",
         "type": "\"integer\""
        },
        {
         "metadata": "{}",
         "name": "total_price",
         "type": "\"integer\""
        },
        {
         "metadata": "{}",
         "name": "order_month",
         "type": "\"integer\""
        }
       ],
       "type": "table"
      }
     },
     "output_type": "display_data"
    }
   ],
   "source": [
    "#4.Sort by total_price (descending)\n",
    "sorted_orders = orders_total_df.orderBy(col(\"total_price\").desc())\n",
    "display(sorted_orders)"
   ]
  },
  {
   "cell_type": "code",
   "execution_count": 0,
   "metadata": {
    "application/vnd.databricks.v1+cell": {
     "cellMetadata": {
      "byteLimit": 2048000,
      "rowLimit": 10000
     },
     "inputWidgets": {},
     "nuid": "02d76244-a6b0-4029-ac82-4a850ad3e89b",
     "showTitle": false,
     "tableResultSettingsMap": {},
     "title": ""
    }
   },
   "outputs": [
    {
     "output_type": "display_data",
     "data": {
      "text/html": [
       "<style scoped>\n",
       "  .table-result-container {\n",
       "    max-height: 300px;\n",
       "    overflow: auto;\n",
       "  }\n",
       "  table, th, td {\n",
       "    border: 1px solid black;\n",
       "    border-collapse: collapse;\n",
       "  }\n",
       "  th, td {\n",
       "    padding: 5px;\n",
       "  }\n",
       "  th {\n",
       "    text-align: left;\n",
       "  }\n",
       "</style><div class='table-result-container'><table class='table-result'><thead style='background-color: white'><tr><th>city</th><th>sum(total_price)</th></tr></thead><tbody><tr><td>Bangalore</td><td>64000</td></tr><tr><td>Delhi</td><td>55000</td></tr><tr><td>Mumbai</td><td>3500</td></tr><tr><td>Hyderabad</td><td>5000</td></tr></tbody></table></div>"
      ]
     },
     "metadata": {
      "application/vnd.databricks.v1+output": {
       "addedWidgets": {},
       "aggData": [],
       "aggError": "",
       "aggOverflow": false,
       "aggSchema": [],
       "aggSeriesLimitReached": false,
       "aggType": "",
       "arguments": {},
       "columnCustomDisplayInfos": {},
       "data": [
        [
         "Bangalore",
         64000
        ],
        [
         "Delhi",
         55000
        ],
        [
         "Mumbai",
         3500
        ],
        [
         "Hyderabad",
         5000
        ]
       ],
       "datasetInfos": [],
       "dbfsResultPath": null,
       "isJsonSchema": true,
       "metadata": {},
       "overflow": false,
       "plotOptions": {
        "customPlotOptions": {},
        "displayType": "table",
        "pivotAggregation": null,
        "pivotColumns": null,
        "xColumns": null,
        "yColumns": null
       },
       "removedWidgets": [],
       "schema": [
        {
         "metadata": "{}",
         "name": "city",
         "type": "\"string\""
        },
        {
         "metadata": "{\"__autoGeneratedAlias\": \"true\"}",
         "name": "sum(total_price)",
         "type": "\"long\""
        }
       ],
       "type": "table"
      }
     },
     "output_type": "display_data"
    }
   ],
   "source": [
    "#5.Aggregations\n",
    "#1.Total revenue per city\n",
    "revenue_city = orders_total_df.join(customers_df, \"customer_id\") \\\n",
    "    .groupBy(\"city\").sum(\"total_price\")\n",
    "display(revenue_city)"
   ]
  },
  {
   "cell_type": "code",
   "execution_count": 0,
   "metadata": {
    "application/vnd.databricks.v1+cell": {
     "cellMetadata": {
      "byteLimit": 2048000,
      "rowLimit": 10000
     },
     "inputWidgets": {},
     "nuid": "3216387c-3e53-4e3b-b1b0-a6b5f911f32e",
     "showTitle": false,
     "tableResultSettingsMap": {},
     "title": ""
    }
   },
   "outputs": [
    {
     "output_type": "display_data",
     "data": {
      "text/html": [
       "<style scoped>\n",
       "  .table-result-container {\n",
       "    max-height: 300px;\n",
       "    overflow: auto;\n",
       "  }\n",
       "  table, th, td {\n",
       "    border: 1px solid black;\n",
       "    border-collapse: collapse;\n",
       "  }\n",
       "  th, td {\n",
       "    padding: 5px;\n",
       "  }\n",
       "  th {\n",
       "    text-align: left;\n",
       "  }\n",
       "</style><div class='table-result-container'><table class='table-result'><thead style='background-color: white'><tr><th>city</th><th>avg(age)</th></tr></thead><tbody><tr><td>Bangalore</td><td>28.0</td></tr><tr><td>Chennai</td><td>35.0</td></tr><tr><td>Delhi</td><td>30.5</td></tr><tr><td>Mumbai</td><td>30.0</td></tr><tr><td>Hyderabad</td><td>25.0</td></tr></tbody></table></div>"
      ]
     },
     "metadata": {
      "application/vnd.databricks.v1+output": {
       "addedWidgets": {},
       "aggData": [],
       "aggError": "",
       "aggOverflow": false,
       "aggSchema": [],
       "aggSeriesLimitReached": false,
       "aggType": "",
       "arguments": {},
       "columnCustomDisplayInfos": {},
       "data": [
        [
         "Bangalore",
         28.0
        ],
        [
         "Chennai",
         35.0
        ],
        [
         "Delhi",
         30.5
        ],
        [
         "Mumbai",
         30.0
        ],
        [
         "Hyderabad",
         25.0
        ]
       ],
       "datasetInfos": [],
       "dbfsResultPath": null,
       "isJsonSchema": true,
       "metadata": {},
       "overflow": false,
       "plotOptions": {
        "customPlotOptions": {},
        "displayType": "table",
        "pivotAggregation": null,
        "pivotColumns": null,
        "xColumns": null,
        "yColumns": null
       },
       "removedWidgets": [],
       "schema": [
        {
         "metadata": "{}",
         "name": "city",
         "type": "\"string\""
        },
        {
         "metadata": "{\"__autoGeneratedAlias\": \"true\"}",
         "name": "avg(age)",
         "type": "\"double\""
        }
       ],
       "type": "table"
      }
     },
     "output_type": "display_data"
    }
   ],
   "source": [
    "#2.Average age per city\n",
    "avg_age = customers_df.groupBy(\"city\").avg(\"age\")\n",
    "display(avg_age)"
   ]
  },
  {
   "cell_type": "code",
   "execution_count": 0,
   "metadata": {
    "application/vnd.databricks.v1+cell": {
     "cellMetadata": {
      "byteLimit": 2048000,
      "rowLimit": 10000
     },
     "inputWidgets": {},
     "nuid": "bce23238-8431-4260-8606-5ca20ecf7350",
     "showTitle": false,
     "tableResultSettingsMap": {},
     "title": ""
    }
   },
   "outputs": [
    {
     "output_type": "display_data",
     "data": {
      "text/html": [
       "<style scoped>\n",
       "  .table-result-container {\n",
       "    max-height: 300px;\n",
       "    overflow: auto;\n",
       "  }\n",
       "  table, th, td {\n",
       "    border: 1px solid black;\n",
       "    border-collapse: collapse;\n",
       "  }\n",
       "  th, td {\n",
       "    padding: 5px;\n",
       "  }\n",
       "  th {\n",
       "    text-align: left;\n",
       "  }\n",
       "</style><div class='table-result-container'><table class='table-result'><thead style='background-color: white'><tr><th>category</th><th>sum(total_price)</th></tr></thead><tbody><tr><td>Furniture</td><td>5000</td></tr><tr><td>Stationery</td><td>3500</td></tr><tr><td>Electronics</td><td>169000</td></tr><tr><td>Fashion</td><td>5000</td></tr></tbody></table></div>"
      ]
     },
     "metadata": {
      "application/vnd.databricks.v1+output": {
       "addedWidgets": {},
       "aggData": [],
       "aggError": "",
       "aggOverflow": false,
       "aggSchema": [],
       "aggSeriesLimitReached": false,
       "aggType": "",
       "arguments": {},
       "columnCustomDisplayInfos": {},
       "data": [
        [
         "Furniture",
         5000
        ],
        [
         "Stationery",
         3500
        ],
        [
         "Electronics",
         169000
        ],
        [
         "Fashion",
         5000
        ]
       ],
       "datasetInfos": [],
       "dbfsResultPath": null,
       "isJsonSchema": true,
       "metadata": {},
       "overflow": false,
       "plotOptions": {
        "customPlotOptions": {},
        "displayType": "table",
        "pivotAggregation": null,
        "pivotColumns": null,
        "xColumns": null,
        "yColumns": null
       },
       "removedWidgets": [],
       "schema": [
        {
         "metadata": "{}",
         "name": "category",
         "type": "\"string\""
        },
        {
         "metadata": "{\"__autoGeneratedAlias\": \"true\"}",
         "name": "sum(total_price)",
         "type": "\"long\""
        }
       ],
       "type": "table"
      }
     },
     "output_type": "display_data"
    }
   ],
   "source": [
    "#3.Total revenue per category\n",
    "revenue_category = orders_total_df.groupBy(\"category\").sum(\"total_price\")\n",
    "display(revenue_category)"
   ]
  },
  {
   "cell_type": "code",
   "execution_count": 0,
   "metadata": {
    "application/vnd.databricks.v1+cell": {
     "cellMetadata": {
      "byteLimit": 2048000,
      "rowLimit": 10000
     },
     "inputWidgets": {},
     "nuid": "d31df68b-8508-40fe-b5ed-8dc3c991bf65",
     "showTitle": false,
     "tableResultSettingsMap": {},
     "title": ""
    }
   },
   "outputs": [
    {
     "output_type": "display_data",
     "data": {
      "text/html": [
       "<style scoped>\n",
       "  .table-result-container {\n",
       "    max-height: 300px;\n",
       "    overflow: auto;\n",
       "  }\n",
       "  table, th, td {\n",
       "    border: 1px solid black;\n",
       "    border-collapse: collapse;\n",
       "  }\n",
       "  th, td {\n",
       "    padding: 5px;\n",
       "  }\n",
       "  th {\n",
       "    text-align: left;\n",
       "  }\n",
       "</style><div class='table-result-container'><table class='table-result'><thead style='background-color: white'><tr><th>customer_id</th><th>sum(total_price)</th></tr></thead><tbody><tr><td>1</td><td>64000</td></tr><tr><td>7</td><td>55000</td></tr><tr><td>2</td><td>50000</td></tr></tbody></table></div>"
      ]
     },
     "metadata": {
      "application/vnd.databricks.v1+output": {
       "addedWidgets": {},
       "aggData": [],
       "aggError": "",
       "aggOverflow": false,
       "aggSchema": [],
       "aggSeriesLimitReached": false,
       "aggType": "",
       "arguments": {},
       "columnCustomDisplayInfos": {},
       "data": [
        [
         1,
         64000
        ],
        [
         7,
         55000
        ],
        [
         2,
         50000
        ]
       ],
       "datasetInfos": [],
       "dbfsResultPath": null,
       "isJsonSchema": true,
       "metadata": {},
       "overflow": false,
       "plotOptions": {
        "customPlotOptions": {},
        "displayType": "table",
        "pivotAggregation": null,
        "pivotColumns": null,
        "xColumns": null,
        "yColumns": null
       },
       "removedWidgets": [],
       "schema": [
        {
         "metadata": "{}",
         "name": "customer_id",
         "type": "\"integer\""
        },
        {
         "metadata": "{\"__autoGeneratedAlias\": \"true\"}",
         "name": "sum(total_price)",
         "type": "\"long\""
        }
       ],
       "type": "table"
      }
     },
     "output_type": "display_data"
    }
   ],
   "source": [
    "#4.Top 3 customers by spending\n",
    "top_customers = orders_total_df.groupBy(\"customer_id\").sum(\"total_price\") \\\n",
    "    .orderBy(col(\"sum(total_price)\").desc()).limit(3)\n",
    "display(top_customers)"
   ]
  },
  {
   "cell_type": "code",
   "execution_count": 0,
   "metadata": {
    "application/vnd.databricks.v1+cell": {
     "cellMetadata": {
      "byteLimit": 2048000,
      "rowLimit": 10000
     },
     "inputWidgets": {},
     "nuid": "c144a914-4d8c-4da3-92e0-d6f88719f8b8",
     "showTitle": false,
     "tableResultSettingsMap": {},
     "title": ""
    }
   },
   "outputs": [
    {
     "output_type": "display_data",
     "data": {
      "text/html": [
       "<style scoped>\n",
       "  .table-result-container {\n",
       "    max-height: 300px;\n",
       "    overflow: auto;\n",
       "  }\n",
       "  table, th, td {\n",
       "    border: 1px solid black;\n",
       "    border-collapse: collapse;\n",
       "  }\n",
       "  th, td {\n",
       "    padding: 5px;\n",
       "  }\n",
       "  th {\n",
       "    text-align: left;\n",
       "  }\n",
       "</style><div class='table-result-container'><table class='table-result'><thead style='background-color: white'><tr><th>customer_id</th><th>order_id</th><th>product_id</th><th>quantity</th><th>order_date</th><th>name</th><th>city</th><th>age</th></tr></thead><tbody><tr><td>1</td><td>1001</td><td>101</td><td>1</td><td>2024-01-10</td><td>Rahul Sharma</td><td>Bangalore</td><td>28</td></tr><tr><td>2</td><td>1002</td><td>102</td><td>2</td><td>2024-01-12</td><td>Priya Singh</td><td>Delhi</td><td>32</td></tr><tr><td>1</td><td>1003</td><td>103</td><td>3</td><td>2024-02-05</td><td>Rahul Sharma</td><td>Bangalore</td><td>28</td></tr><tr><td>3</td><td>1004</td><td>104</td><td>1</td><td>2024-02-08</td><td>Aman Kumar</td><td>Hyderabad</td><td>25</td></tr><tr><td>5</td><td>1005</td><td>105</td><td>5</td><td>2024-03-01</td><td>Arjun Mehta</td><td>Mumbai</td><td>30</td></tr><tr><td>6</td><td>1006</td><td>106</td><td>2</td><td>2024-03-15</td><td>Divya Nair</td><td>Delhi</td><td>29</td></tr></tbody></table></div>"
      ]
     },
     "metadata": {
      "application/vnd.databricks.v1+output": {
       "addedWidgets": {},
       "aggData": [],
       "aggError": "",
       "aggOverflow": false,
       "aggSchema": [],
       "aggSeriesLimitReached": false,
       "aggType": "",
       "arguments": {},
       "columnCustomDisplayInfos": {},
       "data": [
        [
         1,
         1001,
         101,
         1,
         "2024-01-10",
         "Rahul Sharma",
         "Bangalore",
         28
        ],
        [
         2,
         1002,
         102,
         2,
         "2024-01-12",
         "Priya Singh",
         "Delhi",
         32
        ],
        [
         1,
         1003,
         103,
         3,
         "2024-02-05",
         "Rahul Sharma",
         "Bangalore",
         28
        ],
        [
         3,
         1004,
         104,
         1,
         "2024-02-08",
         "Aman Kumar",
         "Hyderabad",
         25
        ],
        [
         5,
         1005,
         105,
         5,
         "2024-03-01",
         "Arjun Mehta",
         "Mumbai",
         30
        ],
        [
         6,
         1006,
         106,
         2,
         "2024-03-15",
         "Divya Nair",
         "Delhi",
         29
        ]
       ],
       "datasetInfos": [],
       "dbfsResultPath": null,
       "isJsonSchema": true,
       "metadata": {},
       "overflow": false,
       "plotOptions": {
        "customPlotOptions": {},
        "displayType": "table",
        "pivotAggregation": null,
        "pivotColumns": null,
        "xColumns": null,
        "yColumns": null
       },
       "removedWidgets": [],
       "schema": [
        {
         "metadata": "{}",
         "name": "customer_id",
         "type": "\"integer\""
        },
        {
         "metadata": "{}",
         "name": "order_id",
         "type": "\"integer\""
        },
        {
         "metadata": "{}",
         "name": "product_id",
         "type": "\"integer\""
        },
        {
         "metadata": "{}",
         "name": "quantity",
         "type": "\"integer\""
        },
        {
         "metadata": "{\"__detected_date_formats\": \"yyyy-M-d\"}",
         "name": "order_date",
         "type": "\"date\""
        },
        {
         "metadata": "{}",
         "name": "name",
         "type": "\"string\""
        },
        {
         "metadata": "{}",
         "name": "city",
         "type": "\"string\""
        },
        {
         "metadata": "{}",
         "name": "age",
         "type": "\"integer\""
        }
       ],
       "type": "table"
      }
     },
     "output_type": "display_data"
    },
    {
     "output_type": "display_data",
     "data": {
      "text/html": [
       "<style scoped>\n",
       "  .table-result-container {\n",
       "    max-height: 300px;\n",
       "    overflow: auto;\n",
       "  }\n",
       "  table, th, td {\n",
       "    border: 1px solid black;\n",
       "    border-collapse: collapse;\n",
       "  }\n",
       "  th, td {\n",
       "    padding: 5px;\n",
       "  }\n",
       "  th {\n",
       "    text-align: left;\n",
       "  }\n",
       "</style><div class='table-result-container'><table class='table-result'><thead style='background-color: white'><tr><th>customer_id</th><th>name</th><th>city</th><th>age</th><th>order_id</th><th>product_id</th><th>quantity</th><th>order_date</th></tr></thead><tbody><tr><td>1</td><td>Rahul Sharma</td><td>Bangalore</td><td>28</td><td>1003</td><td>103</td><td>3</td><td>2024-02-05</td></tr><tr><td>4</td><td>Sneha Reddy</td><td>Chennai</td><td>35</td><td>null</td><td>null</td><td>null</td><td>null</td></tr><tr><td>6</td><td>Divya Nair</td><td>Delhi</td><td>29</td><td>1006</td><td>106</td><td>2</td><td>2024-03-15</td></tr><tr><td>3</td><td>Aman Kumar</td><td>Hyderabad</td><td>25</td><td>1004</td><td>104</td><td>1</td><td>2024-02-08</td></tr><tr><td>2</td><td>Priya Singh</td><td>Delhi</td><td>32</td><td>1002</td><td>102</td><td>2</td><td>2024-01-12</td></tr><tr><td>5</td><td>Arjun Mehta</td><td>Mumbai</td><td>30</td><td>1005</td><td>105</td><td>5</td><td>2024-03-01</td></tr><tr><td>1</td><td>Rahul Sharma</td><td>Bangalore</td><td>28</td><td>1001</td><td>101</td><td>1</td><td>2024-01-10</td></tr></tbody></table></div>"
      ]
     },
     "metadata": {
      "application/vnd.databricks.v1+output": {
       "addedWidgets": {},
       "aggData": [],
       "aggError": "",
       "aggOverflow": false,
       "aggSchema": [],
       "aggSeriesLimitReached": false,
       "aggType": "",
       "arguments": {},
       "columnCustomDisplayInfos": {},
       "data": [
        [
         1,
         "Rahul Sharma",
         "Bangalore",
         28,
         1003,
         103,
         3,
         "2024-02-05"
        ],
        [
         4,
         "Sneha Reddy",
         "Chennai",
         35,
         null,
         null,
         null,
         null
        ],
        [
         6,
         "Divya Nair",
         "Delhi",
         29,
         1006,
         106,
         2,
         "2024-03-15"
        ],
        [
         3,
         "Aman Kumar",
         "Hyderabad",
         25,
         1004,
         104,
         1,
         "2024-02-08"
        ],
        [
         2,
         "Priya Singh",
         "Delhi",
         32,
         1002,
         102,
         2,
         "2024-01-12"
        ],
        [
         5,
         "Arjun Mehta",
         "Mumbai",
         30,
         1005,
         105,
         5,
         "2024-03-01"
        ],
        [
         1,
         "Rahul Sharma",
         "Bangalore",
         28,
         1001,
         101,
         1,
         "2024-01-10"
        ]
       ],
       "datasetInfos": [],
       "dbfsResultPath": null,
       "isJsonSchema": true,
       "metadata": {},
       "overflow": false,
       "plotOptions": {
        "customPlotOptions": {},
        "displayType": "table",
        "pivotAggregation": null,
        "pivotColumns": null,
        "xColumns": null,
        "yColumns": null
       },
       "removedWidgets": [],
       "schema": [
        {
         "metadata": "{}",
         "name": "customer_id",
         "type": "\"integer\""
        },
        {
         "metadata": "{}",
         "name": "name",
         "type": "\"string\""
        },
        {
         "metadata": "{}",
         "name": "city",
         "type": "\"string\""
        },
        {
         "metadata": "{}",
         "name": "age",
         "type": "\"integer\""
        },
        {
         "metadata": "{}",
         "name": "order_id",
         "type": "\"integer\""
        },
        {
         "metadata": "{}",
         "name": "product_id",
         "type": "\"integer\""
        },
        {
         "metadata": "{}",
         "name": "quantity",
         "type": "\"integer\""
        },
        {
         "metadata": "{\"__detected_date_formats\": \"yyyy-M-d\"}",
         "name": "order_date",
         "type": "\"date\""
        }
       ],
       "type": "table"
      }
     },
     "output_type": "display_data"
    },
    {
     "output_type": "display_data",
     "data": {
      "text/html": [
       "<style scoped>\n",
       "  .table-result-container {\n",
       "    max-height: 300px;\n",
       "    overflow: auto;\n",
       "  }\n",
       "  table, th, td {\n",
       "    border: 1px solid black;\n",
       "    border-collapse: collapse;\n",
       "  }\n",
       "  th, td {\n",
       "    padding: 5px;\n",
       "  }\n",
       "  th {\n",
       "    text-align: left;\n",
       "  }\n",
       "</style><div class='table-result-container'><table class='table-result'><thead style='background-color: white'><tr><th>product_id</th><th>order_id</th><th>customer_id</th><th>quantity</th><th>order_date</th><th>product_name</th><th>category</th><th>price</th></tr></thead><tbody><tr><td>102</td><td>1002</td><td>2</td><td>2</td><td>2024-01-12</td><td>Mobile</td><td>Electronics</td><td>25000</td></tr><tr><td>101</td><td>1007</td><td>7</td><td>1</td><td>2024-03-20</td><td>Laptop</td><td>Electronics</td><td>55000</td></tr><tr><td>104</td><td>1004</td><td>3</td><td>1</td><td>2024-02-08</td><td>Chair</td><td>Furniture</td><td>5000</td></tr><tr><td>103</td><td>1003</td><td>1</td><td>3</td><td>2024-02-05</td><td>Headphones</td><td>Electronics</td><td>3000</td></tr><tr><td>105</td><td>1005</td><td>5</td><td>5</td><td>2024-03-01</td><td>Book</td><td>Stationery</td><td>700</td></tr><tr><td>106</td><td>1006</td><td>6</td><td>2</td><td>2024-03-15</td><td>Shoes</td><td>Fashion</td><td>2500</td></tr><tr><td>101</td><td>1001</td><td>1</td><td>1</td><td>2024-01-10</td><td>Laptop</td><td>Electronics</td><td>55000</td></tr></tbody></table></div>"
      ]
     },
     "metadata": {
      "application/vnd.databricks.v1+output": {
       "addedWidgets": {},
       "aggData": [],
       "aggError": "",
       "aggOverflow": false,
       "aggSchema": [],
       "aggSeriesLimitReached": false,
       "aggType": "",
       "arguments": {},
       "columnCustomDisplayInfos": {},
       "data": [
        [
         102,
         1002,
         2,
         2,
         "2024-01-12",
         "Mobile",
         "Electronics",
         25000
        ],
        [
         101,
         1007,
         7,
         1,
         "2024-03-20",
         "Laptop",
         "Electronics",
         55000
        ],
        [
         104,
         1004,
         3,
         1,
         "2024-02-08",
         "Chair",
         "Furniture",
         5000
        ],
        [
         103,
         1003,
         1,
         3,
         "2024-02-05",
         "Headphones",
         "Electronics",
         3000
        ],
        [
         105,
         1005,
         5,
         5,
         "2024-03-01",
         "Book",
         "Stationery",
         700
        ],
        [
         106,
         1006,
         6,
         2,
         "2024-03-15",
         "Shoes",
         "Fashion",
         2500
        ],
        [
         101,
         1001,
         1,
         1,
         "2024-01-10",
         "Laptop",
         "Electronics",
         55000
        ]
       ],
       "datasetInfos": [],
       "dbfsResultPath": null,
       "isJsonSchema": true,
       "metadata": {},
       "overflow": false,
       "plotOptions": {
        "customPlotOptions": {},
        "displayType": "table",
        "pivotAggregation": null,
        "pivotColumns": null,
        "xColumns": null,
        "yColumns": null
       },
       "removedWidgets": [],
       "schema": [
        {
         "metadata": "{}",
         "name": "product_id",
         "type": "\"integer\""
        },
        {
         "metadata": "{}",
         "name": "order_id",
         "type": "\"integer\""
        },
        {
         "metadata": "{}",
         "name": "customer_id",
         "type": "\"integer\""
        },
        {
         "metadata": "{}",
         "name": "quantity",
         "type": "\"integer\""
        },
        {
         "metadata": "{\"__detected_date_formats\": \"yyyy-M-d\"}",
         "name": "order_date",
         "type": "\"date\""
        },
        {
         "metadata": "{}",
         "name": "product_name",
         "type": "\"string\""
        },
        {
         "metadata": "{}",
         "name": "category",
         "type": "\"string\""
        },
        {
         "metadata": "{}",
         "name": "price",
         "type": "\"integer\""
        }
       ],
       "type": "table"
      }
     },
     "output_type": "display_data"
    }
   ],
   "source": [
    "#6.Joins\n",
    "#1.Inner, Left, Right Joins\n",
    "inner_join = orders_df.join(customers_df, \"customer_id\", \"inner\")\n",
    "display(inner_join)\n",
    "left_join  = customers_df.join(orders_df, \"customer_id\", \"left\")\n",
    "display(left_join)\n",
    "right_join = orders_df.join(products_df, \"product_id\", \"right\")\n",
    "display(right_join)"
   ]
  },
  {
   "cell_type": "code",
   "execution_count": 0,
   "metadata": {
    "application/vnd.databricks.v1+cell": {
     "cellMetadata": {
      "byteLimit": 2048000,
      "rowLimit": 10000
     },
     "inputWidgets": {},
     "nuid": "1acddce6-f0a4-4142-b760-12b39a92e387",
     "showTitle": false,
     "tableResultSettingsMap": {},
     "title": ""
    }
   },
   "outputs": [
    {
     "output_type": "display_data",
     "data": {
      "text/html": [
       "<style scoped>\n",
       "  .table-result-container {\n",
       "    max-height: 300px;\n",
       "    overflow: auto;\n",
       "  }\n",
       "  table, th, td {\n",
       "    border: 1px solid black;\n",
       "    border-collapse: collapse;\n",
       "  }\n",
       "  th, td {\n",
       "    padding: 5px;\n",
       "  }\n",
       "  th {\n",
       "    text-align: left;\n",
       "  }\n",
       "</style><div class='table-result-container'><table class='table-result'><thead style='background-color: white'><tr><th>customer_id</th><th>name</th><th>city</th><th>age</th><th>order_id</th><th>product_id</th><th>quantity</th><th>order_date</th></tr></thead><tbody><tr><td>4</td><td>Sneha Reddy</td><td>Chennai</td><td>35</td><td>null</td><td>null</td><td>null</td><td>null</td></tr></tbody></table></div>"
      ]
     },
     "metadata": {
      "application/vnd.databricks.v1+output": {
       "addedWidgets": {},
       "aggData": [],
       "aggError": "",
       "aggOverflow": false,
       "aggSchema": [],
       "aggSeriesLimitReached": false,
       "aggType": "",
       "arguments": {},
       "columnCustomDisplayInfos": {},
       "data": [
        [
         4,
         "Sneha Reddy",
         "Chennai",
         35,
         null,
         null,
         null,
         null
        ]
       ],
       "datasetInfos": [],
       "dbfsResultPath": null,
       "isJsonSchema": true,
       "metadata": {},
       "overflow": false,
       "plotOptions": {
        "customPlotOptions": {},
        "displayType": "table",
        "pivotAggregation": null,
        "pivotColumns": null,
        "xColumns": null,
        "yColumns": null
       },
       "removedWidgets": [],
       "schema": [
        {
         "metadata": "{}",
         "name": "customer_id",
         "type": "\"integer\""
        },
        {
         "metadata": "{}",
         "name": "name",
         "type": "\"string\""
        },
        {
         "metadata": "{}",
         "name": "city",
         "type": "\"string\""
        },
        {
         "metadata": "{}",
         "name": "age",
         "type": "\"integer\""
        },
        {
         "metadata": "{}",
         "name": "order_id",
         "type": "\"integer\""
        },
        {
         "metadata": "{}",
         "name": "product_id",
         "type": "\"integer\""
        },
        {
         "metadata": "{}",
         "name": "quantity",
         "type": "\"integer\""
        },
        {
         "metadata": "{\"__detected_date_formats\": \"yyyy-M-d\"}",
         "name": "order_date",
         "type": "\"date\""
        }
       ],
       "type": "table"
      }
     },
     "output_type": "display_data"
    },
    {
     "output_type": "display_data",
     "data": {
      "text/html": [
       "<style scoped>\n",
       "  .table-result-container {\n",
       "    max-height: 300px;\n",
       "    overflow: auto;\n",
       "  }\n",
       "  table, th, td {\n",
       "    border: 1px solid black;\n",
       "    border-collapse: collapse;\n",
       "  }\n",
       "  th, td {\n",
       "    padding: 5px;\n",
       "  }\n",
       "  th {\n",
       "    text-align: left;\n",
       "  }\n",
       "</style><div class='table-result-container'><table class='table-result'><thead style='background-color: white'><tr><th>product_id</th><th>order_id</th><th>customer_id</th><th>quantity</th><th>order_date</th><th>product_name</th><th>category</th><th>price</th></tr></thead><tbody></tbody></table></div>"
      ]
     },
     "metadata": {
      "application/vnd.databricks.v1+output": {
       "addedWidgets": {},
       "aggData": [],
       "aggError": "",
       "aggOverflow": false,
       "aggSchema": [],
       "aggSeriesLimitReached": false,
       "aggType": "",
       "arguments": {},
       "columnCustomDisplayInfos": {},
       "data": [],
       "datasetInfos": [],
       "dbfsResultPath": null,
       "isJsonSchema": true,
       "metadata": {},
       "overflow": false,
       "plotOptions": {
        "customPlotOptions": {},
        "displayType": "table",
        "pivotAggregation": null,
        "pivotColumns": null,
        "xColumns": null,
        "yColumns": null
       },
       "removedWidgets": [],
       "schema": [
        {
         "metadata": "{}",
         "name": "product_id",
         "type": "\"integer\""
        },
        {
         "metadata": "{}",
         "name": "order_id",
         "type": "\"integer\""
        },
        {
         "metadata": "{}",
         "name": "customer_id",
         "type": "\"integer\""
        },
        {
         "metadata": "{}",
         "name": "quantity",
         "type": "\"integer\""
        },
        {
         "metadata": "{\"__detected_date_formats\": \"yyyy-M-d\"}",
         "name": "order_date",
         "type": "\"date\""
        },
        {
         "metadata": "{}",
         "name": "product_name",
         "type": "\"string\""
        },
        {
         "metadata": "{}",
         "name": "category",
         "type": "\"string\""
        },
        {
         "metadata": "{}",
         "name": "price",
         "type": "\"integer\""
        }
       ],
       "type": "table"
      }
     },
     "output_type": "display_data"
    }
   ],
   "source": [
    "no_orders = left_join.filter(col(\"order_id\").isNull())\n",
    "display(no_orders)\n",
    "\n",
    "no_sales = right_join.filter(col(\"order_id\").isNull())\n",
    "display(no_sales)\n"
   ]
  },
  {
   "cell_type": "code",
   "execution_count": 0,
   "metadata": {
    "application/vnd.databricks.v1+cell": {
     "cellMetadata": {
      "byteLimit": 2048000,
      "rowLimit": 10000
     },
     "inputWidgets": {},
     "nuid": "5973d070-7fd1-4dfe-a4be-9ec8ca93388f",
     "showTitle": false,
     "tableResultSettingsMap": {},
     "title": ""
    }
   },
   "outputs": [],
   "source": [
    "#7.PySpark SQL\n",
    "#Register as temporary SQL tables:\n",
    "\n",
    "customers_df.createOrReplaceTempView(\"customers\")\n",
    "products_df.createOrReplaceTempView(\"products\")\n",
    "orders_total_df.createOrReplaceTempView(\"orders\")"
   ]
  },
  {
   "cell_type": "code",
   "execution_count": 0,
   "metadata": {
    "application/vnd.databricks.v1+cell": {
     "cellMetadata": {
      "byteLimit": 2048000,
      "rowLimit": 10000
     },
     "inputWidgets": {},
     "nuid": "367484c0-c450-46fc-a73c-1788f2438f48",
     "showTitle": false,
     "tableResultSettingsMap": {},
     "title": ""
    }
   },
   "outputs": [
    {
     "output_type": "display_data",
     "data": {
      "text/html": [
       "<style scoped>\n",
       "  .table-result-container {\n",
       "    max-height: 300px;\n",
       "    overflow: auto;\n",
       "  }\n",
       "  table, th, td {\n",
       "    border: 1px solid black;\n",
       "    border-collapse: collapse;\n",
       "  }\n",
       "  th, td {\n",
       "    padding: 5px;\n",
       "  }\n",
       "  th {\n",
       "    text-align: left;\n",
       "  }\n",
       "</style><div class='table-result-container'><table class='table-result'><thead style='background-color: white'><tr><th>city</th><th>revenue</th></tr></thead><tbody><tr><td>Bangalore</td><td>64000</td></tr><tr><td>Delhi</td><td>55000</td></tr></tbody></table></div>"
      ]
     },
     "metadata": {
      "application/vnd.databricks.v1+output": {
       "addedWidgets": {},
       "aggData": [],
       "aggError": "",
       "aggOverflow": false,
       "aggSchema": [],
       "aggSeriesLimitReached": false,
       "aggType": "",
       "arguments": {},
       "columnCustomDisplayInfos": {},
       "data": [
        [
         "Bangalore",
         64000
        ],
        [
         "Delhi",
         55000
        ]
       ],
       "datasetInfos": [],
       "dbfsResultPath": null,
       "isJsonSchema": true,
       "metadata": {},
       "overflow": false,
       "plotOptions": {
        "customPlotOptions": {},
        "displayType": "table",
        "pivotAggregation": null,
        "pivotColumns": null,
        "xColumns": null,
        "yColumns": null
       },
       "removedWidgets": [],
       "schema": [
        {
         "metadata": "{}",
         "name": "city",
         "type": "\"string\""
        },
        {
         "metadata": "{}",
         "name": "revenue",
         "type": "\"long\""
        }
       ],
       "type": "table"
      }
     },
     "output_type": "display_data"
    }
   ],
   "source": [
    "#Top 2 cities by total revenue\n",
    "display(spark.sql(\"\"\"\n",
    "SELECT c.city,SUM(o.total_price) AS revenue\n",
    "FROM orders o\n",
    "JOIN customers c ON o.customer_id = c.customer_id\n",
    "GROUP BY c.city\n",
    "ORDER BY revenue DESC\n",
    "LIMIT 2\n",
    "\"\"\"))"
   ]
  },
  {
   "cell_type": "code",
   "execution_count": 0,
   "metadata": {
    "application/vnd.databricks.v1+cell": {
     "cellMetadata": {
      "byteLimit": 2048000,
      "rowLimit": 10000
     },
     "inputWidgets": {},
     "nuid": "50ca58ae-f136-429c-828c-751bf913527e",
     "showTitle": false,
     "tableResultSettingsMap": {},
     "title": ""
    }
   },
   "outputs": [
    {
     "output_type": "display_data",
     "data": {
      "text/html": [
       "<style scoped>\n",
       "  .table-result-container {\n",
       "    max-height: 300px;\n",
       "    overflow: auto;\n",
       "  }\n",
       "  table, th, td {\n",
       "    border: 1px solid black;\n",
       "    border-collapse: collapse;\n",
       "  }\n",
       "  th, td {\n",
       "    padding: 5px;\n",
       "  }\n",
       "  th {\n",
       "    text-align: left;\n",
       "  }\n",
       "</style><div class='table-result-container'><table class='table-result'><thead style='background-color: white'><tr><th>category</th><th>revenue</th></tr></thead><tbody><tr><td>Electronics</td><td>169000</td></tr></tbody></table></div>"
      ]
     },
     "metadata": {
      "application/vnd.databricks.v1+output": {
       "addedWidgets": {},
       "aggData": [],
       "aggError": "",
       "aggOverflow": false,
       "aggSchema": [],
       "aggSeriesLimitReached": false,
       "aggType": "",
       "arguments": {},
       "columnCustomDisplayInfos": {},
       "data": [
        [
         "Electronics",
         169000
        ]
       ],
       "datasetInfos": [],
       "dbfsResultPath": null,
       "isJsonSchema": true,
       "metadata": {},
       "overflow": false,
       "plotOptions": {
        "customPlotOptions": {},
        "displayType": "table",
        "pivotAggregation": null,
        "pivotColumns": null,
        "xColumns": null,
        "yColumns": null
       },
       "removedWidgets": [],
       "schema": [
        {
         "metadata": "{}",
         "name": "category",
         "type": "\"string\""
        },
        {
         "metadata": "{}",
         "name": "revenue",
         "type": "\"long\""
        }
       ],
       "type": "table"
      }
     },
     "output_type": "display_data"
    }
   ],
   "source": [
    "#2.Most popular category by revenue\n",
    "display(spark.sql(\"\"\"\n",
    "SELECT category, SUM(total_price) AS revenue\n",
    "FROM orders\n",
    "GROUP BY category\n",
    "ORDER BY revenue DESC\n",
    "LIMIT 1\n",
    "\"\"\"))"
   ]
  },
  {
   "cell_type": "code",
   "execution_count": 0,
   "metadata": {
    "application/vnd.databricks.v1+cell": {
     "cellMetadata": {
      "byteLimit": 2048000,
      "rowLimit": 10000
     },
     "inputWidgets": {},
     "nuid": "e17da36c-b4f7-4f2a-8a1b-e1464734191d",
     "showTitle": false,
     "tableResultSettingsMap": {},
     "title": ""
    }
   },
   "outputs": [
    {
     "output_type": "display_data",
     "data": {
      "text/html": [
       "<style scoped>\n",
       "  .table-result-container {\n",
       "    max-height: 300px;\n",
       "    overflow: auto;\n",
       "  }\n",
       "  table, th, td {\n",
       "    border: 1px solid black;\n",
       "    border-collapse: collapse;\n",
       "  }\n",
       "  th, td {\n",
       "    padding: 5px;\n",
       "  }\n",
       "  th {\n",
       "    text-align: left;\n",
       "  }\n",
       "</style><div class='table-result-container'><table class='table-result'><thead style='background-color: white'><tr><th>name</th><th>total_spent</th></tr></thead><tbody><tr><td>Rahul Sharma</td><td>64000</td></tr></tbody></table></div>"
      ]
     },
     "metadata": {
      "application/vnd.databricks.v1+output": {
       "addedWidgets": {},
       "aggData": [],
       "aggError": "",
       "aggOverflow": false,
       "aggSchema": [],
       "aggSeriesLimitReached": false,
       "aggType": "",
       "arguments": {},
       "columnCustomDisplayInfos": {},
       "data": [
        [
         "Rahul Sharma",
         64000
        ]
       ],
       "datasetInfos": [],
       "dbfsResultPath": null,
       "isJsonSchema": true,
       "metadata": {},
       "overflow": false,
       "plotOptions": {
        "customPlotOptions": {},
        "displayType": "table",
        "pivotAggregation": null,
        "pivotColumns": null,
        "xColumns": null,
        "yColumns": null
       },
       "removedWidgets": [],
       "schema": [
        {
         "metadata": "{}",
         "name": "name",
         "type": "\"string\""
        },
        {
         "metadata": "{}",
         "name": "total_spent",
         "type": "\"long\""
        }
       ],
       "type": "table"
      }
     },
     "output_type": "display_data"
    }
   ],
   "source": [
    "#3.Customers who spent > 50,000\n",
    "display(spark.sql(\"\"\"\n",
    "SELECT c.name, SUM(o.total_price) AS total_spent\n",
    "FROM orders o\n",
    "JOIN customers c ON o.customer_id = c.customer_id\n",
    "GROUP BY c.name\n",
    "HAVING SUM(o.total_price) > 50000\n",
    "\"\"\"))"
   ]
  },
  {
   "cell_type": "code",
   "execution_count": 0,
   "metadata": {
    "application/vnd.databricks.v1+cell": {
     "cellMetadata": {
      "byteLimit": 2048000,
      "rowLimit": 10000
     },
     "inputWidgets": {},
     "nuid": "7cfaa771-d71b-4a8b-9083-c4518f06d2de",
     "showTitle": false,
     "tableResultSettingsMap": {},
     "title": ""
    }
   },
   "outputs": [
    {
     "output_type": "display_data",
     "data": {
      "text/html": [
       "<style scoped>\n",
       "  .table-result-container {\n",
       "    max-height: 300px;\n",
       "    overflow: auto;\n",
       "  }\n",
       "  table, th, td {\n",
       "    border: 1px solid black;\n",
       "    border-collapse: collapse;\n",
       "  }\n",
       "  th, td {\n",
       "    padding: 5px;\n",
       "  }\n",
       "  th {\n",
       "    text-align: left;\n",
       "  }\n",
       "</style><div class='table-result-container'><table class='table-result'><thead style='background-color: white'><tr><th>month</th><th>total_sales</th></tr></thead><tbody><tr><td>1</td><td>105000</td></tr><tr><td>2</td><td>14000</td></tr><tr><td>3</td><td>63500</td></tr></tbody></table></div>"
      ]
     },
     "metadata": {
      "application/vnd.databricks.v1+output": {
       "addedWidgets": {},
       "aggData": [],
       "aggError": "",
       "aggOverflow": false,
       "aggSchema": [],
       "aggSeriesLimitReached": false,
       "aggType": "",
       "arguments": {},
       "columnCustomDisplayInfos": {},
       "data": [
        [
         1,
         105000
        ],
        [
         2,
         14000
        ],
        [
         3,
         63500
        ]
       ],
       "datasetInfos": [],
       "dbfsResultPath": null,
       "isJsonSchema": true,
       "metadata": {},
       "overflow": false,
       "plotOptions": {
        "customPlotOptions": {},
        "displayType": "table",
        "pivotAggregation": null,
        "pivotColumns": null,
        "xColumns": null,
        "yColumns": null
       },
       "removedWidgets": [],
       "schema": [
        {
         "metadata": "{}",
         "name": "month",
         "type": "\"integer\""
        },
        {
         "metadata": "{}",
         "name": "total_sales",
         "type": "\"long\""
        }
       ],
       "type": "table"
      }
     },
     "output_type": "display_data"
    }
   ],
   "source": [
    "#4.Monthly sales trend\n",
    "display(spark.sql(\"\"\"\n",
    "SELECT MONTH(order_date) AS month, SUM(total_price) AS total_sales\n",
    "FROM orders\n",
    "GROUP BY MONTH(order_date)\n",
    "ORDER BY month\n",
    "\"\"\"))"
   ]
  },
  {
   "cell_type": "code",
   "execution_count": 0,
   "metadata": {
    "application/vnd.databricks.v1+cell": {
     "cellMetadata": {
      "byteLimit": 2048000,
      "rowLimit": 10000
     },
     "inputWidgets": {},
     "nuid": "f8b3d901-114e-40ef-bb11-f7219e1e122d",
     "showTitle": false,
     "tableResultSettingsMap": {},
     "title": ""
    }
   },
   "outputs": [
    {
     "output_type": "display_data",
     "data": {
      "text/html": [
       "<style scoped>\n",
       "  .table-result-container {\n",
       "    max-height: 300px;\n",
       "    overflow: auto;\n",
       "  }\n",
       "  table, th, td {\n",
       "    border: 1px solid black;\n",
       "    border-collapse: collapse;\n",
       "  }\n",
       "  th, td {\n",
       "    padding: 5px;\n",
       "  }\n",
       "  th {\n",
       "    text-align: left;\n",
       "  }\n",
       "</style><div class='table-result-container'><table class='table-result'><thead style='background-color: white'><tr><th>path</th><th>name</th><th>size</th><th>modificationTime</th></tr></thead><tbody><tr><td>dbfs:/FileStore/tables/orders_summary/_SUCCESS</td><td>_SUCCESS</td><td>0</td><td>1759840321000</td></tr><tr><td>dbfs:/FileStore/tables/orders_summary/_committed_1790413267489967882</td><td>_committed_1790413267489967882</td><td>113</td><td>1759840321000</td></tr><tr><td>dbfs:/FileStore/tables/orders_summary/_started_1790413267489967882</td><td>_started_1790413267489967882</td><td>0</td><td>1759840321000</td></tr><tr><td>dbfs:/FileStore/tables/orders_summary/part-00000-tid-1790413267489967882-66856597-2efb-47c8-a73e-7da0512888ff-264-1-c000.csv</td><td>part-00000-tid-1790413267489967882-66856597-2efb-47c8-a73e-7da0512888ff-264-1-c000.csv</td><td>383</td><td>1759840321000</td></tr></tbody></table></div>"
      ]
     },
     "metadata": {
      "application/vnd.databricks.v1+output": {
       "addedWidgets": {},
       "aggData": [],
       "aggError": "",
       "aggOverflow": false,
       "aggSchema": [],
       "aggSeriesLimitReached": false,
       "aggType": "",
       "arguments": {},
       "columnCustomDisplayInfos": {},
       "data": [
        [
         "dbfs:/FileStore/tables/orders_summary/_SUCCESS",
         "_SUCCESS",
         0,
         1759840321000
        ],
        [
         "dbfs:/FileStore/tables/orders_summary/_committed_1790413267489967882",
         "_committed_1790413267489967882",
         113,
         1759840321000
        ],
        [
         "dbfs:/FileStore/tables/orders_summary/_started_1790413267489967882",
         "_started_1790413267489967882",
         0,
         1759840321000
        ],
        [
         "dbfs:/FileStore/tables/orders_summary/part-00000-tid-1790413267489967882-66856597-2efb-47c8-a73e-7da0512888ff-264-1-c000.csv",
         "part-00000-tid-1790413267489967882-66856597-2efb-47c8-a73e-7da0512888ff-264-1-c000.csv",
         383,
         1759840321000
        ]
       ],
       "datasetInfos": [],
       "dbfsResultPath": null,
       "isJsonSchema": true,
       "metadata": {},
       "overflow": false,
       "plotOptions": {
        "customPlotOptions": {},
        "displayType": "table",
        "pivotAggregation": null,
        "pivotColumns": null,
        "xColumns": null,
        "yColumns": null
       },
       "removedWidgets": [],
       "schema": [
        {
         "metadata": "{}",
         "name": "path",
         "type": "\"string\""
        },
        {
         "metadata": "{}",
         "name": "name",
         "type": "\"string\""
        },
        {
         "metadata": "{}",
         "name": "size",
         "type": "\"long\""
        },
        {
         "metadata": "{}",
         "name": "modificationTime",
         "type": "\"long\""
        }
       ],
       "type": "table"
      }
     },
     "output_type": "display_data"
    },
    {
     "output_type": "display_data",
     "data": {
      "text/html": [
       "<style scoped>\n",
       "  .table-result-container {\n",
       "    max-height: 300px;\n",
       "    overflow: auto;\n",
       "  }\n",
       "  table, th, td {\n",
       "    border: 1px solid black;\n",
       "    border-collapse: collapse;\n",
       "  }\n",
       "  th, td {\n",
       "    padding: 5px;\n",
       "  }\n",
       "  th {\n",
       "    text-align: left;\n",
       "  }\n",
       "</style><div class='table-result-container'><table class='table-result'><thead style='background-color: white'><tr><th>101</th><th>1001</th><th>12</th><th>13</th><th>2024-01-10</th><th>Laptop</th><th>Electronics</th><th>550007</th><th>550008</th><th>19</th></tr></thead><tbody><tr><td>102</td><td>1002</td><td>2</td><td>2</td><td>2024-01-12</td><td>Mobile</td><td>Electronics</td><td>25000</td><td>50000</td><td>1</td></tr><tr><td>103</td><td>1003</td><td>1</td><td>3</td><td>2024-02-05</td><td>Headphones</td><td>Electronics</td><td>3000</td><td>9000</td><td>2</td></tr><tr><td>104</td><td>1004</td><td>3</td><td>1</td><td>2024-02-08</td><td>Chair</td><td>Furniture</td><td>5000</td><td>5000</td><td>2</td></tr><tr><td>105</td><td>1005</td><td>5</td><td>5</td><td>2024-03-01</td><td>Book</td><td>Stationery</td><td>700</td><td>3500</td><td>3</td></tr><tr><td>106</td><td>1006</td><td>6</td><td>2</td><td>2024-03-15</td><td>Shoes</td><td>Fashion</td><td>2500</td><td>5000</td><td>3</td></tr><tr><td>101</td><td>1007</td><td>7</td><td>1</td><td>2024-03-20</td><td>Laptop</td><td>Electronics</td><td>55000</td><td>55000</td><td>3</td></tr></tbody></table></div>"
      ]
     },
     "metadata": {
      "application/vnd.databricks.v1+output": {
       "addedWidgets": {},
       "aggData": [],
       "aggError": "",
       "aggOverflow": false,
       "aggSchema": [],
       "aggSeriesLimitReached": false,
       "aggType": "",
       "arguments": {},
       "columnCustomDisplayInfos": {},
       "data": [
        [
         102,
         1002,
         2,
         2,
         "2024-01-12",
         "Mobile",
         "Electronics",
         25000,
         50000,
         1
        ],
        [
         103,
         1003,
         1,
         3,
         "2024-02-05",
         "Headphones",
         "Electronics",
         3000,
         9000,
         2
        ],
        [
         104,
         1004,
         3,
         1,
         "2024-02-08",
         "Chair",
         "Furniture",
         5000,
         5000,
         2
        ],
        [
         105,
         1005,
         5,
         5,
         "2024-03-01",
         "Book",
         "Stationery",
         700,
         3500,
         3
        ],
        [
         106,
         1006,
         6,
         2,
         "2024-03-15",
         "Shoes",
         "Fashion",
         2500,
         5000,
         3
        ],
        [
         101,
         1007,
         7,
         1,
         "2024-03-20",
         "Laptop",
         "Electronics",
         55000,
         55000,
         3
        ]
       ],
       "datasetInfos": [],
       "dbfsResultPath": null,
       "isJsonSchema": true,
       "metadata": {},
       "overflow": false,
       "plotOptions": {
        "customPlotOptions": {},
        "displayType": "table",
        "pivotAggregation": null,
        "pivotColumns": null,
        "xColumns": null,
        "yColumns": null
       },
       "removedWidgets": [],
       "schema": [
        {
         "metadata": "{}",
         "name": "101",
         "type": "\"integer\""
        },
        {
         "metadata": "{}",
         "name": "1001",
         "type": "\"integer\""
        },
        {
         "metadata": "{}",
         "name": "12",
         "type": "\"integer\""
        },
        {
         "metadata": "{}",
         "name": "13",
         "type": "\"integer\""
        },
        {
         "metadata": "{\"__detected_date_formats\": \"yyyy-M-d\"}",
         "name": "2024-01-10",
         "type": "\"date\""
        },
        {
         "metadata": "{}",
         "name": "Laptop",
         "type": "\"string\""
        },
        {
         "metadata": "{}",
         "name": "Electronics",
         "type": "\"string\""
        },
        {
         "metadata": "{}",
         "name": "550007",
         "type": "\"integer\""
        },
        {
         "metadata": "{}",
         "name": "550008",
         "type": "\"integer\""
        },
        {
         "metadata": "{}",
         "name": "19",
         "type": "\"integer\""
        }
       ],
       "type": "table"
      }
     },
     "output_type": "display_data"
    }
   ],
   "source": [
    "#8-File Operations\n",
    "#Save results to DBFS\n",
    "orders_total_df.write.mode(\"overwrite\").csv(\"/FileStore/tables/orders_summary\")\n",
    "\n",
    "#Verify saved files\n",
    "display(dbutils.fs.ls(\"/FileStore/tables/orders_summary\"))\n",
    "\n",
    "#Read back\n",
    "summary_df = spark.read.csv(\"/FileStore/tables/orders_summary\", header=True, inferSchema=True)\n",
    "display(summary_df)"
   ]
  },
  {
   "cell_type": "code",
   "execution_count": 0,
   "metadata": {
    "application/vnd.databricks.v1+cell": {
     "cellMetadata": {
      "byteLimit": 2048000,
      "rowLimit": 10000
     },
     "inputWidgets": {},
     "nuid": "cdf2ff3d-2739-47b5-92dd-ab95cdd73ade",
     "showTitle": false,
     "tableResultSettingsMap": {},
     "title": ""
    }
   },
   "outputs": [
    {
     "output_type": "display_data",
     "data": {
      "image/png": "[encoded data removed]",
      "text/plain": [
       "<Figure size 640x480 with 1 Axes>"
      ]
     },
     "metadata": {},
     "output_type": "display_data"
    }
   ],
   "source": [
    "#9–Visualization\n",
    "\n",
    "import matplotlib.pyplot as plt\n",
    "\n",
    "region_df = orders_total_df.groupBy(\"category\").sum(\"total_price\").toPandas()\n",
    "\n",
    "plt.bar(region_df[\"category\"], region_df[\"sum(total_price)\"], color=\"skyblue\")\n",
    "plt.title(\"Total Sales by Category\")\n",
    "plt.xlabel(\"Category\")\n",
    "plt.ylabel(\"Revenue\")\n",
    "plt.show()\n"
   ]
  }
 ],
 "metadata": {
  "application/vnd.databricks.v1+notebook": {
   "computePreferences": null,
   "dashboards": [],
   "environmentMetadata": {
    "base_environment": "",
    "environment_version": "3"
   },
   "inputWidgetPreferences": null,
   "language": "python",
   "notebookMetadata": {
    "pythonIndentUnit": 4
   },
   "notebookName": "Task1-E-CommerceAnalytics",
   "widgets": {}
  },
  "language_info": {
   "name": "python"
  }
 },
 "nbformat": 4,
 "nbformat_minor": 0
}