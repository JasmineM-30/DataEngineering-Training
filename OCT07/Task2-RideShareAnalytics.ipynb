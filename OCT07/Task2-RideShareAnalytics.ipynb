{
 "cells": [
  {
   "cell_type": "markdown",
   "metadata": {
    "application/vnd.databricks.v1+cell": {
     "cellMetadata": {},
     "inputWidgets": {},
     "nuid": "b4d40df5-1700-42f3-8f08-1034b0500a62",
     "showTitle": false,
     "tableResultSettingsMap": {},
     "title": ""
    }
   },
   "source": [
    "%md\n",
    "##  Ride Share Analytics"
   ]
  },
  {
   "cell_type": "markdown",
   "metadata": {
    "application/vnd.databricks.v1+cell": {
     "cellMetadata": {},
     "inputWidgets": {},
     "nuid": "8fe47c5a-e847-487e-bb50-b792afd659d0",
     "showTitle": false,
     "tableResultSettingsMap": {},
     "title": ""
    }
   },
   "source": [
    "Setup Spark Session"
   ]
  },
  {
   "cell_type": "code",
   "execution_count": 0,
   "metadata": {
    "application/vnd.databricks.v1+cell": {
     "cellMetadata": {
      "byteLimit": 2048000,
      "rowLimit": 10000
     },
     "inputWidgets": {},
     "nuid": "34146f08-5474-4193-9e4f-56b2f82712df",
     "showTitle": false,
     "tableResultSettingsMap": {},
     "title": ""
    }
   },
   "outputs": [],
   "source": [
    "from pyspark.sql import SparkSession\n",
    "from pyspark.sql.functions import col, round, sum as spark_sum, avg as spark_avg, row_number\n",
    "from pyspark.sql.window import Window\n",
    "\n",
    "spark = SparkSession.builder.appName(\"RideShareAnalytics\").getOrCreate()\n"
   ]
  },
  {
   "cell_type": "markdown",
   "metadata": {
    "application/vnd.databricks.v1+cell": {
     "cellMetadata": {},
     "inputWidgets": {},
     "nuid": "0cdff84a-117a-4558-bb6b-15e43b11acc9",
     "showTitle": false,
     "tableResultSettingsMap": {},
     "title": ""
    }
   },
   "source": [
    "**Tasks for Participants**\n",
    "1. Load all three files into separate DataFrames.\n",
    "2. Inspect schemas and verify correct data types.\n",
    "3. Identify rides with missing drivers (notice one ride has no match).\n",
    "4. Join rides ↔ drivers to include city , experience_years , rating .\n",
    "5. Add a column earnings_per_km = price / distance_km .\n",
    "6. Calculate total revenue per city.\n",
    "7. Determine average rating by city.\n",
    "8. Find the top earning driver in each city using a window function.\n",
    "9. Identify drivers with no rides (Left Join).\n",
    "10. Combine the feedback dataset to mark ride performance.\n",
    "11. Count rides by feedback category (Excellent/Good/Average).\n",
    "12. Using SQL view, find cities with highest average ride price.\n",
    "13. Save final combined DataFrame as rides_summary.csv in DBFS.\n",
    "14. Plot total earnings per city as a bar chart."
   ]
  },
  {
   "cell_type": "code",
   "execution_count": 0,
   "metadata": {
    "application/vnd.databricks.v1+cell": {
     "cellMetadata": {
      "byteLimit": 2048000,
      "rowLimit": 10000
     },
     "inputWidgets": {},
     "nuid": "98d6c1f7-83ee-4696-8e7e-e83892c65f00",
     "showTitle": false,
     "tableResultSettingsMap": {},
     "title": ""
    }
   },
   "outputs": [
    {
     "output_type": "display_data",
     "data": {
      "text/html": [
       "<style scoped>\n",
       "  .table-result-container {\n",
       "    max-height: 300px;\n",
       "    overflow: auto;\n",
       "  }\n",
       "  table, th, td {\n",
       "    border: 1px solid black;\n",
       "    border-collapse: collapse;\n",
       "  }\n",
       "  th, td {\n",
       "    padding: 5px;\n",
       "  }\n",
       "  th {\n",
       "    text-align: left;\n",
       "  }\n",
       "</style><div class='table-result-container'><table class='table-result'><thead style='background-color: white'><tr><th>driver_id</th><th>driver_name</th><th>city</th><th>experience_years</th><th>rating</th></tr></thead><tbody><tr><td>1</td><td>Arun Kumar</td><td>Bangalore</td><td>4</td><td>4.6</td></tr><tr><td>2</td><td>Pooja Rao</td><td>Chennai</td><td>2</td><td>4.3</td></tr><tr><td>3</td><td>Imran Sheikh</td><td>Delhi</td><td>6</td><td>4.8</td></tr><tr><td>4</td><td>Nisha Patel</td><td>Hyderabad</td><td>1</td><td>4.0</td></tr><tr><td>5</td><td>Rajesh Naik</td><td>Mumbai</td><td>8</td><td>4.9</td></tr><tr><td>6</td><td>Sneha Menon</td><td>Bangalore</td><td>3</td><td>4.4</td></tr></tbody></table></div>"
      ]
     },
     "metadata": {
      "application/vnd.databricks.v1+output": {
       "addedWidgets": {},
       "aggData": [],
       "aggError": "",
       "aggOverflow": false,
       "aggSchema": [],
       "aggSeriesLimitReached": false,
       "aggType": "",
       "arguments": {},
       "columnCustomDisplayInfos": {},
       "data": [
        [
         1,
         "Arun Kumar",
         "Bangalore",
         4,
         4.6
        ],
        [
         2,
         "Pooja Rao",
         "Chennai",
         2,
         4.3
        ],
        [
         3,
         "Imran Sheikh",
         "Delhi",
         6,
         4.8
        ],
        [
         4,
         "Nisha Patel",
         "Hyderabad",
         1,
         4.0
        ],
        [
         5,
         "Rajesh Naik",
         "Mumbai",
         8,
         4.9
        ],
        [
         6,
         "Sneha Menon",
         "Bangalore",
         3,
         4.4
        ]
       ],
       "datasetInfos": [],
       "dbfsResultPath": null,
       "isJsonSchema": true,
       "metadata": {},
       "overflow": false,
       "plotOptions": {
        "customPlotOptions": {},
        "displayType": "table",
        "pivotAggregation": null,
        "pivotColumns": null,
        "xColumns": null,
        "yColumns": null
       },
       "removedWidgets": [],
       "schema": [
        {
         "metadata": "{}",
         "name": "driver_id",
         "type": "\"integer\""
        },
        {
         "metadata": "{}",
         "name": "driver_name",
         "type": "\"string\""
        },
        {
         "metadata": "{}",
         "name": "city",
         "type": "\"string\""
        },
        {
         "metadata": "{}",
         "name": "experience_years",
         "type": "\"integer\""
        },
        {
         "metadata": "{}",
         "name": "rating",
         "type": "\"double\""
        }
       ],
       "type": "table"
      }
     },
     "output_type": "display_data"
    },
    {
     "output_type": "display_data",
     "data": {
      "text/html": [
       "<style scoped>\n",
       "  .table-result-container {\n",
       "    max-height: 300px;\n",
       "    overflow: auto;\n",
       "  }\n",
       "  table, th, td {\n",
       "    border: 1px solid black;\n",
       "    border-collapse: collapse;\n",
       "  }\n",
       "  th, td {\n",
       "    padding: 5px;\n",
       "  }\n",
       "  th {\n",
       "    text-align: left;\n",
       "  }\n",
       "</style><div class='table-result-container'><table class='table-result'><thead style='background-color: white'><tr><th>ride_id</th><th>driver_id</th><th>distance_km</th><th>price</th><th>ride_date</th></tr></thead><tbody><tr><td>1001</td><td>1</td><td>10</td><td>250</td><td>2024-02-01</td></tr><tr><td>1002</td><td>2</td><td>7</td><td>180</td><td>2024-02-03</td></tr><tr><td>1003</td><td>3</td><td>15</td><td>500</td><td>2024-02-05</td></tr><tr><td>1004</td><td>4</td><td>5</td><td>120</td><td>2024-02-08</td></tr><tr><td>1005</td><td>1</td><td>12</td><td>300</td><td>2024-02-10</td></tr><tr><td>1006</td><td>5</td><td>20</td><td>800</td><td>2024-02-15</td></tr><tr><td>1007</td><td>6</td><td>9</td><td>230</td><td>2024-02-20</td></tr><tr><td>1008</td><td>7</td><td>11</td><td>270</td><td>2024-02-22</td></tr></tbody></table></div>"
      ]
     },
     "metadata": {
      "application/vnd.databricks.v1+output": {
       "addedWidgets": {},
       "aggData": [],
       "aggError": "",
       "aggOverflow": false,
       "aggSchema": [],
       "aggSeriesLimitReached": false,
       "aggType": "",
       "arguments": {},
       "columnCustomDisplayInfos": {},
       "data": [
        [
         1001,
         1,
         10,
         250,
         "2024-02-01"
        ],
        [
         1002,
         2,
         7,
         180,
         "2024-02-03"
        ],
        [
         1003,
         3,
         15,
         500,
         "2024-02-05"
        ],
        [
         1004,
         4,
         5,
         120,
         "2024-02-08"
        ],
        [
         1005,
         1,
         12,
         300,
         "2024-02-10"
        ],
        [
         1006,
         5,
         20,
         800,
         "2024-02-15"
        ],
        [
         1007,
         6,
         9,
         230,
         "2024-02-20"
        ],
        [
         1008,
         7,
         11,
         270,
         "2024-02-22"
        ]
       ],
       "datasetInfos": [],
       "dbfsResultPath": null,
       "isJsonSchema": true,
       "metadata": {},
       "overflow": false,
       "plotOptions": {
        "customPlotOptions": {},
        "displayType": "table",
        "pivotAggregation": null,
        "pivotColumns": null,
        "xColumns": null,
        "yColumns": null
       },
       "removedWidgets": [],
       "schema": [
        {
         "metadata": "{}",
         "name": "ride_id",
         "type": "\"integer\""
        },
        {
         "metadata": "{}",
         "name": "driver_id",
         "type": "\"integer\""
        },
        {
         "metadata": "{}",
         "name": "distance_km",
         "type": "\"integer\""
        },
        {
         "metadata": "{}",
         "name": "price",
         "type": "\"integer\""
        },
        {
         "metadata": "{\"__detected_date_formats\": \"yyyy-M-d\"}",
         "name": "ride_date",
         "type": "\"date\""
        }
       ],
       "type": "table"
      }
     },
     "output_type": "display_data"
    },
    {
     "output_type": "display_data",
     "data": {
      "text/html": [
       "<style scoped>\n",
       "  .table-result-container {\n",
       "    max-height: 300px;\n",
       "    overflow: auto;\n",
       "  }\n",
       "  table, th, td {\n",
       "    border: 1px solid black;\n",
       "    border-collapse: collapse;\n",
       "  }\n",
       "  th, td {\n",
       "    padding: 5px;\n",
       "  }\n",
       "  th {\n",
       "    text-align: left;\n",
       "  }\n",
       "</style><div class='table-result-container'><table class='table-result'><thead style='background-color: white'><tr><th>ride_id</th><th>customer_feedback</th></tr></thead><tbody><tr><td>1001</td><td>Excellent</td></tr><tr><td>1002</td><td>Good</td></tr><tr><td>1003</td><td>Excellent</td></tr><tr><td>1004</td><td>Average</td></tr><tr><td>1005</td><td>Good</td></tr><tr><td>1006</td><td>Excellent</td></tr><tr><td>1007</td><td>Average</td></tr><tr><td>1008</td><td>Good</td></tr></tbody></table></div>"
      ]
     },
     "metadata": {
      "application/vnd.databricks.v1+output": {
       "addedWidgets": {},
       "aggData": [],
       "aggError": "",
       "aggOverflow": false,
       "aggSchema": [],
       "aggSeriesLimitReached": false,
       "aggType": "",
       "arguments": {},
       "columnCustomDisplayInfos": {},
       "data": [
        [
         1001,
         "Excellent"
        ],
        [
         1002,
         "Good"
        ],
        [
         1003,
         "Excellent"
        ],
        [
         1004,
         "Average"
        ],
        [
         1005,
         "Good"
        ],
        [
         1006,
         "Excellent"
        ],
        [
         1007,
         "Average"
        ],
        [
         1008,
         "Good"
        ]
       ],
       "datasetInfos": [],
       "dbfsResultPath": null,
       "isJsonSchema": true,
       "metadata": {},
       "overflow": false,
       "plotOptions": {
        "customPlotOptions": {},
        "displayType": "table",
        "pivotAggregation": null,
        "pivotColumns": null,
        "xColumns": null,
        "yColumns": null
       },
       "removedWidgets": [],
       "schema": [
        {
         "metadata": "{}",
         "name": "ride_id",
         "type": "\"integer\""
        },
        {
         "metadata": "{}",
         "name": "customer_feedback",
         "type": "\"string\""
        }
       ],
       "type": "table"
      }
     },
     "output_type": "display_data"
    }
   ],
   "source": [
    "drivers_df = spark.read.csv(\"/FileStore/tables/drivers.csv\", header=True, inferSchema=True)\n",
    "rides_df   = spark.read.csv(\"/FileStore/tables/rides.csv\",   header=True, inferSchema=True)\n",
    "feedback_df= spark.read.csv(\"/FileStore/tables/feedback.csv\",header=True, inferSchema=True)\n",
    "\n",
    "display(drivers_df)\n",
    "display(rides_df)\n",
    "display(feedback_df)\n"
   ]
  },
  {
   "cell_type": "code",
   "execution_count": 0,
   "metadata": {
    "application/vnd.databricks.v1+cell": {
     "cellMetadata": {
      "byteLimit": 2048000,
      "rowLimit": 10000
     },
     "inputWidgets": {},
     "nuid": "7eec6892-b68d-492d-8b2e-0893d7a6feeb",
     "showTitle": false,
     "tableResultSettingsMap": {},
     "title": ""
    }
   },
   "outputs": [
    {
     "output_type": "stream",
     "name": "stdout",
     "output_type": "stream",
     "text": [
      "root\n |-- driver_id: integer (nullable = true)\n |-- driver_name: string (nullable = true)\n |-- city: string (nullable = true)\n |-- experience_years: integer (nullable = true)\n |-- rating: double (nullable = true)\n\nroot\n |-- ride_id: integer (nullable = true)\n |-- driver_id: integer (nullable = true)\n |-- distance_km: integer (nullable = true)\n |-- price: integer (nullable = true)\n |-- ride_date: date (nullable = true)\n\nroot\n |-- ride_id: integer (nullable = true)\n |-- customer_feedback: string (nullable = true)\n\n"
     ]
    }
   ],
   "source": [
    "drivers_df.printSchema()\n",
    "rides_df.printSchema()\n",
    "feedback_df.printSchema()\n"
   ]
  },
  {
   "cell_type": "code",
   "execution_count": 0,
   "metadata": {
    "application/vnd.databricks.v1+cell": {
     "cellMetadata": {
      "byteLimit": 2048000,
      "rowLimit": 10000
     },
     "inputWidgets": {},
     "nuid": "08f87e61-58eb-45d2-b2b8-98df9dc0e37f",
     "showTitle": false,
     "tableResultSettingsMap": {},
     "title": ""
    }
   },
   "outputs": [
    {
     "output_type": "display_data",
     "data": {
      "text/html": [
       "<style scoped>\n",
       "  .table-result-container {\n",
       "    max-height: 300px;\n",
       "    overflow: auto;\n",
       "  }\n",
       "  table, th, td {\n",
       "    border: 1px solid black;\n",
       "    border-collapse: collapse;\n",
       "  }\n",
       "  th, td {\n",
       "    padding: 5px;\n",
       "  }\n",
       "  th {\n",
       "    text-align: left;\n",
       "  }\n",
       "</style><div class='table-result-container'><table class='table-result'><thead style='background-color: white'><tr><th>driver_id</th><th>ride_id</th><th>distance_km</th><th>price</th><th>ride_date</th></tr></thead><tbody><tr><td>7</td><td>1008</td><td>11</td><td>270</td><td>2024-02-22</td></tr></tbody></table></div>"
      ]
     },
     "metadata": {
      "application/vnd.databricks.v1+output": {
       "addedWidgets": {},
       "aggData": [],
       "aggError": "",
       "aggOverflow": false,
       "aggSchema": [],
       "aggSeriesLimitReached": false,
       "aggType": "",
       "arguments": {},
       "columnCustomDisplayInfos": {},
       "data": [
        [
         7,
         1008,
         11,
         270,
         "2024-02-22"
        ]
       ],
       "datasetInfos": [],
       "dbfsResultPath": null,
       "isJsonSchema": true,
       "metadata": {},
       "overflow": false,
       "plotOptions": {
        "customPlotOptions": {},
        "displayType": "table",
        "pivotAggregation": null,
        "pivotColumns": null,
        "xColumns": null,
        "yColumns": null
       },
       "removedWidgets": [],
       "schema": [
        {
         "metadata": "{}",
         "name": "driver_id",
         "type": "\"integer\""
        },
        {
         "metadata": "{}",
         "name": "ride_id",
         "type": "\"integer\""
        },
        {
         "metadata": "{}",
         "name": "distance_km",
         "type": "\"integer\""
        },
        {
         "metadata": "{}",
         "name": "price",
         "type": "\"integer\""
        },
        {
         "metadata": "{\"__detected_date_formats\": \"yyyy-M-d\"}",
         "name": "ride_date",
         "type": "\"date\""
        }
       ],
       "type": "table"
      }
     },
     "output_type": "display_data"
    }
   ],
   "source": [
    "missing_drivers = rides_df.join(drivers_df, \"driver_id\", \"left_anti\")\n",
    "display(missing_drivers)\n"
   ]
  },
  {
   "cell_type": "code",
   "execution_count": 0,
   "metadata": {
    "application/vnd.databricks.v1+cell": {
     "cellMetadata": {
      "byteLimit": 2048000,
      "rowLimit": 10000
     },
     "inputWidgets": {},
     "nuid": "727c25e5-1775-47c4-8a7e-8648c67a0e61",
     "showTitle": false,
     "tableResultSettingsMap": {},
     "title": ""
    }
   },
   "outputs": [
    {
     "output_type": "display_data",
     "data": {
      "text/html": [
       "<style scoped>\n",
       "  .table-result-container {\n",
       "    max-height: 300px;\n",
       "    overflow: auto;\n",
       "  }\n",
       "  table, th, td {\n",
       "    border: 1px solid black;\n",
       "    border-collapse: collapse;\n",
       "  }\n",
       "  th, td {\n",
       "    padding: 5px;\n",
       "  }\n",
       "  th {\n",
       "    text-align: left;\n",
       "  }\n",
       "</style><div class='table-result-container'><table class='table-result'><thead style='background-color: white'><tr><th>driver_id</th><th>ride_id</th><th>distance_km</th><th>price</th><th>ride_date</th><th>driver_name</th><th>city</th><th>experience_years</th><th>rating</th></tr></thead><tbody><tr><td>1</td><td>1001</td><td>10</td><td>250</td><td>2024-02-01</td><td>Arun Kumar</td><td>Bangalore</td><td>4</td><td>4.6</td></tr><tr><td>2</td><td>1002</td><td>7</td><td>180</td><td>2024-02-03</td><td>Pooja Rao</td><td>Chennai</td><td>2</td><td>4.3</td></tr><tr><td>3</td><td>1003</td><td>15</td><td>500</td><td>2024-02-05</td><td>Imran Sheikh</td><td>Delhi</td><td>6</td><td>4.8</td></tr><tr><td>4</td><td>1004</td><td>5</td><td>120</td><td>2024-02-08</td><td>Nisha Patel</td><td>Hyderabad</td><td>1</td><td>4.0</td></tr><tr><td>1</td><td>1005</td><td>12</td><td>300</td><td>2024-02-10</td><td>Arun Kumar</td><td>Bangalore</td><td>4</td><td>4.6</td></tr><tr><td>5</td><td>1006</td><td>20</td><td>800</td><td>2024-02-15</td><td>Rajesh Naik</td><td>Mumbai</td><td>8</td><td>4.9</td></tr><tr><td>6</td><td>1007</td><td>9</td><td>230</td><td>2024-02-20</td><td>Sneha Menon</td><td>Bangalore</td><td>3</td><td>4.4</td></tr><tr><td>7</td><td>1008</td><td>11</td><td>270</td><td>2024-02-22</td><td>null</td><td>null</td><td>null</td><td>null</td></tr></tbody></table></div>"
      ]
     },
     "metadata": {
      "application/vnd.databricks.v1+output": {
       "addedWidgets": {},
       "aggData": [],
       "aggError": "",
       "aggOverflow": false,
       "aggSchema": [],
       "aggSeriesLimitReached": false,
       "aggType": "",
       "arguments": {},
       "columnCustomDisplayInfos": {},
       "data": [
        [
         1,
         1001,
         10,
         250,
         "2024-02-01",
         "Arun Kumar",
         "Bangalore",
         4,
         4.6
        ],
        [
         2,
         1002,
         7,
         180,
         "2024-02-03",
         "Pooja Rao",
         "Chennai",
         2,
         4.3
        ],
        [
         3,
         1003,
         15,
         500,
         "2024-02-05",
         "Imran Sheikh",
         "Delhi",
         6,
         4.8
        ],
        [
         4,
         1004,
         5,
         120,
         "2024-02-08",
         "Nisha Patel",
         "Hyderabad",
         1,
         4.0
        ],
        [
         1,
         1005,
         12,
         300,
         "2024-02-10",
         "Arun Kumar",
         "Bangalore",
         4,
         4.6
        ],
        [
         5,
         1006,
         20,
         800,
         "2024-02-15",
         "Rajesh Naik",
         "Mumbai",
         8,
         4.9
        ],
        [
         6,
         1007,
         9,
         230,
         "2024-02-20",
         "Sneha Menon",
         "Bangalore",
         3,
         4.4
        ],
        [
         7,
         1008,
         11,
         270,
         "2024-02-22",
         null,
         null,
         null,
         null
        ]
       ],
       "datasetInfos": [],
       "dbfsResultPath": null,
       "isJsonSchema": true,
       "metadata": {},
       "overflow": false,
       "plotOptions": {
        "customPlotOptions": {},
        "displayType": "table",
        "pivotAggregation": null,
        "pivotColumns": null,
        "xColumns": null,
        "yColumns": null
       },
       "removedWidgets": [],
       "schema": [
        {
         "metadata": "{}",
         "name": "driver_id",
         "type": "\"integer\""
        },
        {
         "metadata": "{}",
         "name": "ride_id",
         "type": "\"integer\""
        },
        {
         "metadata": "{}",
         "name": "distance_km",
         "type": "\"integer\""
        },
        {
         "metadata": "{}",
         "name": "price",
         "type": "\"integer\""
        },
        {
         "metadata": "{\"__detected_date_formats\": \"yyyy-M-d\"}",
         "name": "ride_date",
         "type": "\"date\""
        },
        {
         "metadata": "{}",
         "name": "driver_name",
         "type": "\"string\""
        },
        {
         "metadata": "{}",
         "name": "city",
         "type": "\"string\""
        },
        {
         "metadata": "{}",
         "name": "experience_years",
         "type": "\"integer\""
        },
        {
         "metadata": "{}",
         "name": "rating",
         "type": "\"double\""
        }
       ],
       "type": "table"
      }
     },
     "output_type": "display_data"
    }
   ],
   "source": [
    "rides_joined_df = rides_df.join(drivers_df, \"driver_id\", \"left\")\n",
    "display(rides_joined_df)\n"
   ]
  },
  {
   "cell_type": "code",
   "execution_count": 0,
   "metadata": {
    "application/vnd.databricks.v1+cell": {
     "cellMetadata": {
      "byteLimit": 2048000,
      "rowLimit": 10000
     },
     "inputWidgets": {},
     "nuid": "cef67907-1c48-4be3-b21c-b69571b8e937",
     "showTitle": false,
     "tableResultSettingsMap": {},
     "title": ""
    }
   },
   "outputs": [
    {
     "output_type": "display_data",
     "data": {
      "text/html": [
       "<style scoped>\n",
       "  .table-result-container {\n",
       "    max-height: 300px;\n",
       "    overflow: auto;\n",
       "  }\n",
       "  table, th, td {\n",
       "    border: 1px solid black;\n",
       "    border-collapse: collapse;\n",
       "  }\n",
       "  th, td {\n",
       "    padding: 5px;\n",
       "  }\n",
       "  th {\n",
       "    text-align: left;\n",
       "  }\n",
       "</style><div class='table-result-container'><table class='table-result'><thead style='background-color: white'><tr><th>driver_id</th><th>ride_id</th><th>distance_km</th><th>price</th><th>ride_date</th><th>driver_name</th><th>city</th><th>experience_years</th><th>rating</th><th>earnings_per_km</th></tr></thead><tbody><tr><td>1</td><td>1001</td><td>10</td><td>250</td><td>2024-02-01</td><td>Arun Kumar</td><td>Bangalore</td><td>4</td><td>4.6</td><td>25.0</td></tr><tr><td>2</td><td>1002</td><td>7</td><td>180</td><td>2024-02-03</td><td>Pooja Rao</td><td>Chennai</td><td>2</td><td>4.3</td><td>25.71</td></tr><tr><td>3</td><td>1003</td><td>15</td><td>500</td><td>2024-02-05</td><td>Imran Sheikh</td><td>Delhi</td><td>6</td><td>4.8</td><td>33.33</td></tr><tr><td>4</td><td>1004</td><td>5</td><td>120</td><td>2024-02-08</td><td>Nisha Patel</td><td>Hyderabad</td><td>1</td><td>4.0</td><td>24.0</td></tr><tr><td>1</td><td>1005</td><td>12</td><td>300</td><td>2024-02-10</td><td>Arun Kumar</td><td>Bangalore</td><td>4</td><td>4.6</td><td>25.0</td></tr><tr><td>5</td><td>1006</td><td>20</td><td>800</td><td>2024-02-15</td><td>Rajesh Naik</td><td>Mumbai</td><td>8</td><td>4.9</td><td>40.0</td></tr><tr><td>6</td><td>1007</td><td>9</td><td>230</td><td>2024-02-20</td><td>Sneha Menon</td><td>Bangalore</td><td>3</td><td>4.4</td><td>25.56</td></tr><tr><td>7</td><td>1008</td><td>11</td><td>270</td><td>2024-02-22</td><td>null</td><td>null</td><td>null</td><td>null</td><td>24.55</td></tr></tbody></table></div>"
      ]
     },
     "metadata": {
      "application/vnd.databricks.v1+output": {
       "addedWidgets": {},
       "aggData": [],
       "aggError": "",
       "aggOverflow": false,
       "aggSchema": [],
       "aggSeriesLimitReached": false,
       "aggType": "",
       "arguments": {},
       "columnCustomDisplayInfos": {},
       "data": [
        [
         1,
         1001,
         10,
         250,
         "2024-02-01",
         "Arun Kumar",
         "Bangalore",
         4,
         4.6,
         25.0
        ],
        [
         2,
         1002,
         7,
         180,
         "2024-02-03",
         "Pooja Rao",
         "Chennai",
         2,
         4.3,
         25.71
        ],
        [
         3,
         1003,
         15,
         500,
         "2024-02-05",
         "Imran Sheikh",
         "Delhi",
         6,
         4.8,
         33.33
        ],
        [
         4,
         1004,
         5,
         120,
         "2024-02-08",
         "Nisha Patel",
         "Hyderabad",
         1,
         4.0,
         24.0
        ],
        [
         1,
         1005,
         12,
         300,
         "2024-02-10",
         "Arun Kumar",
         "Bangalore",
         4,
         4.6,
         25.0
        ],
        [
         5,
         1006,
         20,
         800,
         "2024-02-15",
         "Rajesh Naik",
         "Mumbai",
         8,
         4.9,
         40.0
        ],
        [
         6,
         1007,
         9,
         230,
         "2024-02-20",
         "Sneha Menon",
         "Bangalore",
         3,
         4.4,
         25.56
        ],
        [
         7,
         1008,
         11,
         270,
         "2024-02-22",
         null,
         null,
         null,
         null,
         24.55
        ]
       ],
       "datasetInfos": [],
       "dbfsResultPath": null,
       "isJsonSchema": true,
       "metadata": {},
       "overflow": false,
       "plotOptions": {
        "customPlotOptions": {},
        "displayType": "table",
        "pivotAggregation": null,
        "pivotColumns": null,
        "xColumns": null,
        "yColumns": null
       },
       "removedWidgets": [],
       "schema": [
        {
         "metadata": "{}",
         "name": "driver_id",
         "type": "\"integer\""
        },
        {
         "metadata": "{}",
         "name": "ride_id",
         "type": "\"integer\""
        },
        {
         "metadata": "{}",
         "name": "distance_km",
         "type": "\"integer\""
        },
        {
         "metadata": "{}",
         "name": "price",
         "type": "\"integer\""
        },
        {
         "metadata": "{\"__detected_date_formats\": \"yyyy-M-d\"}",
         "name": "ride_date",
         "type": "\"date\""
        },
        {
         "metadata": "{}",
         "name": "driver_name",
         "type": "\"string\""
        },
        {
         "metadata": "{}",
         "name": "city",
         "type": "\"string\""
        },
        {
         "metadata": "{}",
         "name": "experience_years",
         "type": "\"integer\""
        },
        {
         "metadata": "{}",
         "name": "rating",
         "type": "\"double\""
        },
        {
         "metadata": "{}",
         "name": "earnings_per_km",
         "type": "\"double\""
        }
       ],
       "type": "table"
      }
     },
     "output_type": "display_data"
    }
   ],
   "source": [
    "rides_joined_df = rides_joined_df.withColumn(\n",
    "    \"earnings_per_km\",\n",
    "    round(col(\"price\") / col(\"distance_km\"), 2)\n",
    ")\n",
    "display(rides_joined_df)\n"
   ]
  },
  {
   "cell_type": "code",
   "execution_count": 0,
   "metadata": {
    "application/vnd.databricks.v1+cell": {
     "cellMetadata": {
      "byteLimit": 2048000,
      "rowLimit": 10000
     },
     "inputWidgets": {},
     "nuid": "66d6f49f-1243-466a-8308-e051f69c1f4f",
     "showTitle": false,
     "tableResultSettingsMap": {},
     "title": ""
    }
   },
   "outputs": [
    {
     "output_type": "display_data",
     "data": {
      "text/html": [
       "<style scoped>\n",
       "  .table-result-container {\n",
       "    max-height: 300px;\n",
       "    overflow: auto;\n",
       "  }\n",
       "  table, th, td {\n",
       "    border: 1px solid black;\n",
       "    border-collapse: collapse;\n",
       "  }\n",
       "  th, td {\n",
       "    padding: 5px;\n",
       "  }\n",
       "  th {\n",
       "    text-align: left;\n",
       "  }\n",
       "</style><div class='table-result-container'><table class='table-result'><thead style='background-color: white'><tr><th>city</th><th>total_revenue</th></tr></thead><tbody><tr><td>Mumbai</td><td>800</td></tr><tr><td>Bangalore</td><td>780</td></tr><tr><td>Delhi</td><td>500</td></tr><tr><td>null</td><td>270</td></tr><tr><td>Chennai</td><td>180</td></tr><tr><td>Hyderabad</td><td>120</td></tr></tbody></table></div>"
      ]
     },
     "metadata": {
      "application/vnd.databricks.v1+output": {
       "addedWidgets": {},
       "aggData": [],
       "aggError": "",
       "aggOverflow": false,
       "aggSchema": [],
       "aggSeriesLimitReached": false,
       "aggType": "",
       "arguments": {},
       "columnCustomDisplayInfos": {},
       "data": [
        [
         "Mumbai",
         800
        ],
        [
         "Bangalore",
         780
        ],
        [
         "Delhi",
         500
        ],
        [
         null,
         270
        ],
        [
         "Chennai",
         180
        ],
        [
         "Hyderabad",
         120
        ]
       ],
       "datasetInfos": [],
       "dbfsResultPath": null,
       "isJsonSchema": true,
       "metadata": {},
       "overflow": false,
       "plotOptions": {
        "customPlotOptions": {},
        "displayType": "table",
        "pivotAggregation": null,
        "pivotColumns": null,
        "xColumns": null,
        "yColumns": null
       },
       "removedWidgets": [],
       "schema": [
        {
         "metadata": "{}",
         "name": "city",
         "type": "\"string\""
        },
        {
         "metadata": "{}",
         "name": "total_revenue",
         "type": "\"long\""
        }
       ],
       "type": "table"
      }
     },
     "output_type": "display_data"
    }
   ],
   "source": [
    "revenue_per_city = rides_joined_df.groupBy(\"city\") \\\n",
    "    .agg(spark_sum(\"price\").alias(\"total_revenue\")) \\\n",
    "    .orderBy(col(\"total_revenue\").desc())\n",
    "\n",
    "display(revenue_per_city)\n"
   ]
  },
  {
   "cell_type": "code",
   "execution_count": 0,
   "metadata": {
    "application/vnd.databricks.v1+cell": {
     "cellMetadata": {
      "byteLimit": 2048000,
      "rowLimit": 10000
     },
     "inputWidgets": {},
     "nuid": "4696faf0-8a7b-4a5f-b0c4-b7d4b198aca8",
     "showTitle": false,
     "tableResultSettingsMap": {},
     "title": ""
    }
   },
   "outputs": [
    {
     "output_type": "display_data",
     "data": {
      "text/html": [
       "<style scoped>\n",
       "  .table-result-container {\n",
       "    max-height: 300px;\n",
       "    overflow: auto;\n",
       "  }\n",
       "  table, th, td {\n",
       "    border: 1px solid black;\n",
       "    border-collapse: collapse;\n",
       "  }\n",
       "  th, td {\n",
       "    padding: 5px;\n",
       "  }\n",
       "  th {\n",
       "    text-align: left;\n",
       "  }\n",
       "</style><div class='table-result-container'><table class='table-result'><thead style='background-color: white'><tr><th>city</th><th>avg_rating</th></tr></thead><tbody><tr><td>Mumbai</td><td>4.9</td></tr><tr><td>Delhi</td><td>4.8</td></tr><tr><td>Bangalore</td><td>4.5</td></tr><tr><td>Chennai</td><td>4.3</td></tr><tr><td>Hyderabad</td><td>4.0</td></tr></tbody></table></div>"
      ]
     },
     "metadata": {
      "application/vnd.databricks.v1+output": {
       "addedWidgets": {},
       "aggData": [],
       "aggError": "",
       "aggOverflow": false,
       "aggSchema": [],
       "aggSeriesLimitReached": false,
       "aggType": "",
       "arguments": {},
       "columnCustomDisplayInfos": {},
       "data": [
        [
         "Mumbai",
         4.9
        ],
        [
         "Delhi",
         4.8
        ],
        [
         "Bangalore",
         4.5
        ],
        [
         "Chennai",
         4.3
        ],
        [
         "Hyderabad",
         4.0
        ]
       ],
       "datasetInfos": [],
       "dbfsResultPath": null,
       "isJsonSchema": true,
       "metadata": {},
       "overflow": false,
       "plotOptions": {
        "customPlotOptions": {},
        "displayType": "table",
        "pivotAggregation": null,
        "pivotColumns": null,
        "xColumns": null,
        "yColumns": null
       },
       "removedWidgets": [],
       "schema": [
        {
         "metadata": "{}",
         "name": "city",
         "type": "\"string\""
        },
        {
         "metadata": "{}",
         "name": "avg_rating",
         "type": "\"double\""
        }
       ],
       "type": "table"
      }
     },
     "output_type": "display_data"
    }
   ],
   "source": [
    "avg_rating_city = drivers_df.groupBy(\"city\") \\\n",
    "    .agg(round(spark_avg(\"rating\"), 2).alias(\"avg_rating\")) \\\n",
    "    .orderBy(col(\"avg_rating\").desc())\n",
    "\n",
    "display(avg_rating_city)\n"
   ]
  },
  {
   "cell_type": "code",
   "execution_count": 0,
   "metadata": {
    "application/vnd.databricks.v1+cell": {
     "cellMetadata": {
      "byteLimit": 2048000,
      "rowLimit": 10000
     },
     "inputWidgets": {},
     "nuid": "956af551-a85d-41df-90b3-48cee00ad0c9",
     "showTitle": false,
     "tableResultSettingsMap": {},
     "title": ""
    }
   },
   "outputs": [
    {
     "output_type": "display_data",
     "data": {
      "text/html": [
       "<style scoped>\n",
       "  .table-result-container {\n",
       "    max-height: 300px;\n",
       "    overflow: auto;\n",
       "  }\n",
       "  table, th, td {\n",
       "    border: 1px solid black;\n",
       "    border-collapse: collapse;\n",
       "  }\n",
       "  th, td {\n",
       "    padding: 5px;\n",
       "  }\n",
       "  th {\n",
       "    text-align: left;\n",
       "  }\n",
       "</style><div class='table-result-container'><table class='table-result'><thead style='background-color: white'><tr><th>driver_id</th><th>driver_name</th><th>city</th><th>total_earnings</th><th>rank</th></tr></thead><tbody><tr><td>7</td><td>null</td><td>null</td><td>270</td><td>1</td></tr><tr><td>1</td><td>Arun Kumar</td><td>Bangalore</td><td>550</td><td>1</td></tr><tr><td>2</td><td>Pooja Rao</td><td>Chennai</td><td>180</td><td>1</td></tr><tr><td>3</td><td>Imran Sheikh</td><td>Delhi</td><td>500</td><td>1</td></tr><tr><td>4</td><td>Nisha Patel</td><td>Hyderabad</td><td>120</td><td>1</td></tr><tr><td>5</td><td>Rajesh Naik</td><td>Mumbai</td><td>800</td><td>1</td></tr></tbody></table></div>"
      ]
     },
     "metadata": {
      "application/vnd.databricks.v1+output": {
       "addedWidgets": {},
       "aggData": [],
       "aggError": "",
       "aggOverflow": false,
       "aggSchema": [],
       "aggSeriesLimitReached": false,
       "aggType": "",
       "arguments": {},
       "columnCustomDisplayInfos": {},
       "data": [
        [
         7,
         null,
         null,
         270,
         1
        ],
        [
         1,
         "Arun Kumar",
         "Bangalore",
         550,
         1
        ],
        [
         2,
         "Pooja Rao",
         "Chennai",
         180,
         1
        ],
        [
         3,
         "Imran Sheikh",
         "Delhi",
         500,
         1
        ],
        [
         4,
         "Nisha Patel",
         "Hyderabad",
         120,
         1
        ],
        [
         5,
         "Rajesh Naik",
         "Mumbai",
         800,
         1
        ]
       ],
       "datasetInfos": [],
       "dbfsResultPath": null,
       "isJsonSchema": true,
       "metadata": {},
       "overflow": false,
       "plotOptions": {
        "customPlotOptions": {},
        "displayType": "table",
        "pivotAggregation": null,
        "pivotColumns": null,
        "xColumns": null,
        "yColumns": null
       },
       "removedWidgets": [],
       "schema": [
        {
         "metadata": "{}",
         "name": "driver_id",
         "type": "\"integer\""
        },
        {
         "metadata": "{}",
         "name": "driver_name",
         "type": "\"string\""
        },
        {
         "metadata": "{}",
         "name": "city",
         "type": "\"string\""
        },
        {
         "metadata": "{}",
         "name": "total_earnings",
         "type": "\"long\""
        },
        {
         "metadata": "{}",
         "name": "rank",
         "type": "\"integer\""
        }
       ],
       "type": "table"
      }
     },
     "output_type": "display_data"
    }
   ],
   "source": [
    "from pyspark.sql import functions as F\n",
    "from pyspark.sql.window import Window\n",
    "\n",
    "driver_earnings = rides_joined_df.groupBy(\"driver_id\", \"driver_name\", \"city\") \\\n",
    "    .agg(spark_sum(\"price\").alias(\"total_earnings\"))\n",
    "\n",
    "window_spec = Window.partitionBy(\"city\").orderBy(F.desc(\"total_earnings\"))\n",
    "top_driver_city = driver_earnings.withColumn(\"rank\", F.row_number().over(window_spec)) \\\n",
    "                                .filter(col(\"rank\") == 1)\n",
    "\n",
    "display(top_driver_city)\n"
   ]
  },
  {
   "cell_type": "code",
   "execution_count": 0,
   "metadata": {
    "application/vnd.databricks.v1+cell": {
     "cellMetadata": {
      "byteLimit": 2048000,
      "rowLimit": 10000
     },
     "inputWidgets": {},
     "nuid": "1853cfeb-32b3-47fc-af31-072652243ab3",
     "showTitle": false,
     "tableResultSettingsMap": {},
     "title": ""
    }
   },
   "outputs": [
    {
     "output_type": "display_data",
     "data": {
      "text/html": [
       "<style scoped>\n",
       "  .table-result-container {\n",
       "    max-height: 300px;\n",
       "    overflow: auto;\n",
       "  }\n",
       "  table, th, td {\n",
       "    border: 1px solid black;\n",
       "    border-collapse: collapse;\n",
       "  }\n",
       "  th, td {\n",
       "    padding: 5px;\n",
       "  }\n",
       "  th {\n",
       "    text-align: left;\n",
       "  }\n",
       "</style><div class='table-result-container'><table class='table-result'><thead style='background-color: white'><tr><th>driver_id</th><th>driver_name</th><th>city</th><th>experience_years</th><th>rating</th></tr></thead><tbody></tbody></table></div>"
      ]
     },
     "metadata": {
      "application/vnd.databricks.v1+output": {
       "addedWidgets": {},
       "aggData": [],
       "aggError": "",
       "aggOverflow": false,
       "aggSchema": [],
       "aggSeriesLimitReached": false,
       "aggType": "",
       "arguments": {},
       "columnCustomDisplayInfos": {},
       "data": [],
       "datasetInfos": [],
       "dbfsResultPath": null,
       "isJsonSchema": true,
       "metadata": {},
       "overflow": false,
       "plotOptions": {
        "customPlotOptions": {},
        "displayType": "table",
        "pivotAggregation": null,
        "pivotColumns": null,
        "xColumns": null,
        "yColumns": null
       },
       "removedWidgets": [],
       "schema": [
        {
         "metadata": "{}",
         "name": "driver_id",
         "type": "\"integer\""
        },
        {
         "metadata": "{}",
         "name": "driver_name",
         "type": "\"string\""
        },
        {
         "metadata": "{}",
         "name": "city",
         "type": "\"string\""
        },
        {
         "metadata": "{}",
         "name": "experience_years",
         "type": "\"integer\""
        },
        {
         "metadata": "{}",
         "name": "rating",
         "type": "\"double\""
        }
       ],
       "type": "table"
      }
     },
     "output_type": "display_data"
    }
   ],
   "source": [
    "drivers_no_rides = drivers_df.join(rides_df, \"driver_id\", \"left_anti\")\n",
    "display(drivers_no_rides)\n"
   ]
  },
  {
   "cell_type": "code",
   "execution_count": 0,
   "metadata": {
    "application/vnd.databricks.v1+cell": {
     "cellMetadata": {
      "byteLimit": 2048000,
      "rowLimit": 10000
     },
     "inputWidgets": {},
     "nuid": "12d9ccea-c97a-4be9-96e5-2158cd5e9331",
     "showTitle": false,
     "tableResultSettingsMap": {},
     "title": ""
    }
   },
   "outputs": [
    {
     "output_type": "display_data",
     "data": {
      "text/html": [
       "<style scoped>\n",
       "  .table-result-container {\n",
       "    max-height: 300px;\n",
       "    overflow: auto;\n",
       "  }\n",
       "  table, th, td {\n",
       "    border: 1px solid black;\n",
       "    border-collapse: collapse;\n",
       "  }\n",
       "  th, td {\n",
       "    padding: 5px;\n",
       "  }\n",
       "  th {\n",
       "    text-align: left;\n",
       "  }\n",
       "</style><div class='table-result-container'><table class='table-result'><thead style='background-color: white'><tr><th>ride_id</th><th>driver_name</th><th>city</th><th>price</th><th>customer_feedback</th></tr></thead><tbody><tr><td>1005</td><td>Arun Kumar</td><td>Bangalore</td><td>300</td><td>Good</td></tr><tr><td>1004</td><td>Nisha Patel</td><td>Hyderabad</td><td>120</td><td>Average</td></tr><tr><td>1007</td><td>Sneha Menon</td><td>Bangalore</td><td>230</td><td>Average</td></tr><tr><td>1003</td><td>Imran Sheikh</td><td>Delhi</td><td>500</td><td>Excellent</td></tr><tr><td>1002</td><td>Pooja Rao</td><td>Chennai</td><td>180</td><td>Good</td></tr><tr><td>1006</td><td>Rajesh Naik</td><td>Mumbai</td><td>800</td><td>Excellent</td></tr><tr><td>1001</td><td>Arun Kumar</td><td>Bangalore</td><td>250</td><td>Excellent</td></tr><tr><td>1008</td><td>null</td><td>null</td><td>270</td><td>Good</td></tr></tbody></table></div>"
      ]
     },
     "metadata": {
      "application/vnd.databricks.v1+output": {
       "addedWidgets": {},
       "aggData": [],
       "aggError": "",
       "aggOverflow": false,
       "aggSchema": [],
       "aggSeriesLimitReached": false,
       "aggType": "",
       "arguments": {},
       "columnCustomDisplayInfos": {},
       "data": [
        [
         1005,
         "Arun Kumar",
         "Bangalore",
         300,
         "Good"
        ],
        [
         1004,
         "Nisha Patel",
         "Hyderabad",
         120,
         "Average"
        ],
        [
         1007,
         "Sneha Menon",
         "Bangalore",
         230,
         "Average"
        ],
        [
         1003,
         "Imran Sheikh",
         "Delhi",
         500,
         "Excellent"
        ],
        [
         1002,
         "Pooja Rao",
         "Chennai",
         180,
         "Good"
        ],
        [
         1006,
         "Rajesh Naik",
         "Mumbai",
         800,
         "Excellent"
        ],
        [
         1001,
         "Arun Kumar",
         "Bangalore",
         250,
         "Excellent"
        ],
        [
         1008,
         null,
         null,
         270,
         "Good"
        ]
       ],
       "datasetInfos": [],
       "dbfsResultPath": null,
       "isJsonSchema": true,
       "metadata": {},
       "overflow": false,
       "plotOptions": {
        "customPlotOptions": {},
        "displayType": "table",
        "pivotAggregation": null,
        "pivotColumns": null,
        "xColumns": null,
        "yColumns": null
       },
       "removedWidgets": [],
       "schema": [
        {
         "metadata": "{}",
         "name": "ride_id",
         "type": "\"integer\""
        },
        {
         "metadata": "{}",
         "name": "driver_name",
         "type": "\"string\""
        },
        {
         "metadata": "{}",
         "name": "city",
         "type": "\"string\""
        },
        {
         "metadata": "{}",
         "name": "price",
         "type": "\"integer\""
        },
        {
         "metadata": "{}",
         "name": "customer_feedback",
         "type": "\"string\""
        }
       ],
       "type": "table"
      }
     },
     "output_type": "display_data"
    }
   ],
   "source": [
    "rides_feedback_df = rides_joined_df.join(feedback_df, \"ride_id\", \"left\")\n",
    "display(rides_feedback_df.select(\"ride_id\",\"driver_name\",\"city\",\"price\",\"customer_feedback\"))\n"
   ]
  },
  {
   "cell_type": "code",
   "execution_count": 0,
   "metadata": {
    "application/vnd.databricks.v1+cell": {
     "cellMetadata": {
      "byteLimit": 2048000,
      "rowLimit": 10000
     },
     "inputWidgets": {},
     "nuid": "161feba7-69b2-49c5-b13c-6436fc823250",
     "showTitle": false,
     "tableResultSettingsMap": {},
     "title": ""
    }
   },
   "outputs": [
    {
     "output_type": "display_data",
     "data": {
      "text/html": [
       "<style scoped>\n",
       "  .table-result-container {\n",
       "    max-height: 300px;\n",
       "    overflow: auto;\n",
       "  }\n",
       "  table, th, td {\n",
       "    border: 1px solid black;\n",
       "    border-collapse: collapse;\n",
       "  }\n",
       "  th, td {\n",
       "    padding: 5px;\n",
       "  }\n",
       "  th {\n",
       "    text-align: left;\n",
       "  }\n",
       "</style><div class='table-result-container'><table class='table-result'><thead style='background-color: white'><tr><th>customer_feedback</th><th>count</th></tr></thead><tbody><tr><td>Average</td><td>2</td></tr><tr><td>Excellent</td><td>3</td></tr><tr><td>Good</td><td>3</td></tr></tbody></table></div>"
      ]
     },
     "metadata": {
      "application/vnd.databricks.v1+output": {
       "addedWidgets": {},
       "aggData": [],
       "aggError": "",
       "aggOverflow": false,
       "aggSchema": [],
       "aggSeriesLimitReached": false,
       "aggType": "",
       "arguments": {},
       "columnCustomDisplayInfos": {},
       "data": [
        [
         "Average",
         2
        ],
        [
         "Excellent",
         3
        ],
        [
         "Good",
         3
        ]
       ],
       "datasetInfos": [],
       "dbfsResultPath": null,
       "isJsonSchema": true,
       "metadata": {},
       "overflow": false,
       "plotOptions": {
        "customPlotOptions": {},
        "displayType": "table",
        "pivotAggregation": null,
        "pivotColumns": null,
        "xColumns": null,
        "yColumns": null
       },
       "removedWidgets": [],
       "schema": [
        {
         "metadata": "{}",
         "name": "customer_feedback",
         "type": "\"string\""
        },
        {
         "metadata": "{}",
         "name": "count",
         "type": "\"long\""
        }
       ],
       "type": "table"
      }
     },
     "output_type": "display_data"
    }
   ],
   "source": [
    "feedback_count = rides_feedback_df.groupBy(\"customer_feedback\").count()\n",
    "display(feedback_count)\n"
   ]
  },
  {
   "cell_type": "code",
   "execution_count": 0,
   "metadata": {
    "application/vnd.databricks.v1+cell": {
     "cellMetadata": {
      "byteLimit": 2048000,
      "rowLimit": 10000
     },
     "inputWidgets": {},
     "nuid": "ede58faa-7df7-4e58-9552-879bf57ee588",
     "showTitle": false,
     "tableResultSettingsMap": {},
     "title": ""
    }
   },
   "outputs": [
    {
     "output_type": "display_data",
     "data": {
      "text/html": [
       "<style scoped>\n",
       "  .table-result-container {\n",
       "    max-height: 300px;\n",
       "    overflow: auto;\n",
       "  }\n",
       "  table, th, td {\n",
       "    border: 1px solid black;\n",
       "    border-collapse: collapse;\n",
       "  }\n",
       "  th, td {\n",
       "    padding: 5px;\n",
       "  }\n",
       "  th {\n",
       "    text-align: left;\n",
       "  }\n",
       "</style><div class='table-result-container'><table class='table-result'><thead style='background-color: white'><tr><th>city</th><th>avg_ride_price</th></tr></thead><tbody><tr><td>Mumbai</td><td>800.0</td></tr><tr><td>Delhi</td><td>500.0</td></tr><tr><td>null</td><td>270.0</td></tr><tr><td>Bangalore</td><td>260.0</td></tr><tr><td>Chennai</td><td>180.0</td></tr><tr><td>Hyderabad</td><td>120.0</td></tr></tbody></table></div>"
      ]
     },
     "metadata": {
      "application/vnd.databricks.v1+output": {
       "addedWidgets": {},
       "aggData": [],
       "aggError": "",
       "aggOverflow": false,
       "aggSchema": [],
       "aggSeriesLimitReached": false,
       "aggType": "",
       "arguments": {},
       "columnCustomDisplayInfos": {},
       "data": [
        [
         "Mumbai",
         800.0
        ],
        [
         "Delhi",
         500.0
        ],
        [
         null,
         270.0
        ],
        [
         "Bangalore",
         260.0
        ],
        [
         "Chennai",
         180.0
        ],
        [
         "Hyderabad",
         120.0
        ]
       ],
       "datasetInfos": [],
       "dbfsResultPath": null,
       "isJsonSchema": true,
       "metadata": {},
       "overflow": false,
       "plotOptions": {
        "customPlotOptions": {},
        "displayType": "table",
        "pivotAggregation": null,
        "pivotColumns": null,
        "xColumns": null,
        "yColumns": null
       },
       "removedWidgets": [],
       "schema": [
        {
         "metadata": "{}",
         "name": "city",
         "type": "\"string\""
        },
        {
         "metadata": "{}",
         "name": "avg_ride_price",
         "type": "\"double\""
        }
       ],
       "type": "table"
      }
     },
     "output_type": "display_data"
    }
   ],
   "source": [
    "rides_feedback_df.createOrReplaceTempView(\"rides_view\")\n",
    "\n",
    "result_sql = spark.sql(\"\"\"\n",
    "SELECT city, ROUND(AVG(price),2) AS avg_ride_price\n",
    "FROM rides_view\n",
    "GROUP BY city\n",
    "ORDER BY avg_ride_price DESC\n",
    "\"\"\")\n",
    "\n",
    "display(result_sql)\n"
   ]
  },
  {
   "cell_type": "code",
   "execution_count": 0,
   "metadata": {
    "application/vnd.databricks.v1+cell": {
     "cellMetadata": {
      "byteLimit": 2048000,
      "rowLimit": 10000
     },
     "inputWidgets": {},
     "nuid": "dc08bd35-9a4b-460a-8d30-709cbb661414",
     "showTitle": false,
     "tableResultSettingsMap": {},
     "title": ""
    }
   },
   "outputs": [
    {
     "output_type": "display_data",
     "data": {
      "text/html": [
       "<style scoped>\n",
       "  .table-result-container {\n",
       "    max-height: 300px;\n",
       "    overflow: auto;\n",
       "  }\n",
       "  table, th, td {\n",
       "    border: 1px solid black;\n",
       "    border-collapse: collapse;\n",
       "  }\n",
       "  th, td {\n",
       "    padding: 5px;\n",
       "  }\n",
       "  th {\n",
       "    text-align: left;\n",
       "  }\n",
       "</style><div class='table-result-container'><table class='table-result'><thead style='background-color: white'><tr><th>path</th><th>name</th><th>size</th><th>modificationTime</th></tr></thead><tbody><tr><td>dbfs:/FileStore/tables/rides_summary/_SUCCESS</td><td>_SUCCESS</td><td>0</td><td>1759835119000</td></tr><tr><td>dbfs:/FileStore/tables/rides_summary/_committed_4715323903053722924</td><td>_committed_4715323903053722924</td><td>113</td><td>1759835119000</td></tr><tr><td>dbfs:/FileStore/tables/rides_summary/_started_4715323903053722924</td><td>_started_4715323903053722924</td><td>0</td><td>1759835118000</td></tr><tr><td>dbfs:/FileStore/tables/rides_summary/part-00000-tid-4715323903053722924-d020d762-28af-4b9e-a650-9dab9ebf2d47-163-1-c000.csv</td><td>part-00000-tid-4715323903053722924-d020d762-28af-4b9e-a650-9dab9ebf2d47-163-1-c000.csv</td><td>611</td><td>1759835119000</td></tr></tbody></table></div>"
      ]
     },
     "metadata": {
      "application/vnd.databricks.v1+output": {
       "addedWidgets": {},
       "aggData": [],
       "aggError": "",
       "aggOverflow": false,
       "aggSchema": [],
       "aggSeriesLimitReached": false,
       "aggType": "",
       "arguments": {},
       "columnCustomDisplayInfos": {},
       "data": [
        [
         "dbfs:/FileStore/tables/rides_summary/_SUCCESS",
         "_SUCCESS",
         0,
         1759835119000
        ],
        [
         "dbfs:/FileStore/tables/rides_summary/_committed_4715323903053722924",
         "_committed_4715323903053722924",
         113,
         1759835119000
        ],
        [
         "dbfs:/FileStore/tables/rides_summary/_started_4715323903053722924",
         "_started_4715323903053722924",
         0,
         1759835118000
        ],
        [
         "dbfs:/FileStore/tables/rides_summary/part-00000-tid-4715323903053722924-d020d762-28af-4b9e-a650-9dab9ebf2d47-163-1-c000.csv",
         "part-00000-tid-4715323903053722924-d020d762-28af-4b9e-a650-9dab9ebf2d47-163-1-c000.csv",
         611,
         1759835119000
        ]
       ],
       "datasetInfos": [],
       "dbfsResultPath": null,
       "isJsonSchema": true,
       "metadata": {},
       "overflow": false,
       "plotOptions": {
        "customPlotOptions": {},
        "displayType": "table",
        "pivotAggregation": null,
        "pivotColumns": null,
        "xColumns": null,
        "yColumns": null
       },
       "removedWidgets": [],
       "schema": [
        {
         "metadata": "{}",
         "name": "path",
         "type": "\"string\""
        },
        {
         "metadata": "{}",
         "name": "name",
         "type": "\"string\""
        },
        {
         "metadata": "{}",
         "name": "size",
         "type": "\"long\""
        },
        {
         "metadata": "{}",
         "name": "modificationTime",
         "type": "\"long\""
        }
       ],
       "type": "table"
      }
     },
     "output_type": "display_data"
    }
   ],
   "source": [
    "output_path = \"/FileStore/tables/rides_summary\"\n",
    "\n",
    "rides_feedback_df.write.mode(\"overwrite\").option(\"header\", True).csv(output_path)\n",
    "display(dbutils.fs.ls(output_path))\n"
   ]
  },
  {
   "cell_type": "code",
   "execution_count": 0,
   "metadata": {
    "application/vnd.databricks.v1+cell": {
     "cellMetadata": {
      "byteLimit": 2048000,
      "rowLimit": 10000
     },
     "inputWidgets": {},
     "nuid": "b99f2a7b-4fa5-42fe-97e1-423617ffab60",
     "showTitle": false,
     "tableResultSettingsMap": {},
     "title": ""
    }
   },
   "outputs": [
    {
     "output_type": "display_data",
     "data": {
      "text/html": [
       "<style scoped>\n",
       "  .table-result-container {\n",
       "    max-height: 300px;\n",
       "    overflow: auto;\n",
       "  }\n",
       "  table, th, td {\n",
       "    border: 1px solid black;\n",
       "    border-collapse: collapse;\n",
       "  }\n",
       "  th, td {\n",
       "    padding: 5px;\n",
       "  }\n",
       "  th {\n",
       "    text-align: left;\n",
       "  }\n",
       "</style><div class='table-result-container'><table class='table-result'><thead style='background-color: white'><tr><th>ride_id</th><th>driver_id</th><th>distance_km</th><th>price</th><th>ride_date</th><th>driver_name</th><th>city</th><th>experience_years</th><th>rating</th><th>earnings_per_km</th><th>customer_feedback</th></tr></thead><tbody><tr><td>1001</td><td>1</td><td>10</td><td>250</td><td>2024-02-01</td><td>Arun Kumar</td><td>Bangalore</td><td>4</td><td>4.6</td><td>25.0</td><td>Excellent</td></tr><tr><td>1002</td><td>2</td><td>7</td><td>180</td><td>2024-02-03</td><td>Pooja Rao</td><td>Chennai</td><td>2</td><td>4.3</td><td>25.71</td><td>Good</td></tr><tr><td>1003</td><td>3</td><td>15</td><td>500</td><td>2024-02-05</td><td>Imran Sheikh</td><td>Delhi</td><td>6</td><td>4.8</td><td>33.33</td><td>Excellent</td></tr><tr><td>1004</td><td>4</td><td>5</td><td>120</td><td>2024-02-08</td><td>Nisha Patel</td><td>Hyderabad</td><td>1</td><td>4.0</td><td>24.0</td><td>Average</td></tr><tr><td>1005</td><td>1</td><td>12</td><td>300</td><td>2024-02-10</td><td>Arun Kumar</td><td>Bangalore</td><td>4</td><td>4.6</td><td>25.0</td><td>Good</td></tr><tr><td>1006</td><td>5</td><td>20</td><td>800</td><td>2024-02-15</td><td>Rajesh Naik</td><td>Mumbai</td><td>8</td><td>4.9</td><td>40.0</td><td>Excellent</td></tr><tr><td>1007</td><td>6</td><td>9</td><td>230</td><td>2024-02-20</td><td>Sneha Menon</td><td>Bangalore</td><td>3</td><td>4.4</td><td>25.56</td><td>Average</td></tr><tr><td>1008</td><td>7</td><td>11</td><td>270</td><td>2024-02-22</td><td>null</td><td>null</td><td>null</td><td>null</td><td>24.55</td><td>Good</td></tr></tbody></table></div>"
      ]
     },
     "metadata": {
      "application/vnd.databricks.v1+output": {
       "addedWidgets": {},
       "aggData": [],
       "aggError": "",
       "aggOverflow": false,
       "aggSchema": [],
       "aggSeriesLimitReached": false,
       "aggType": "",
       "arguments": {},
       "columnCustomDisplayInfos": {},
       "data": [
        [
         1001,
         1,
         10,
         250,
         "2024-02-01",
         "Arun Kumar",
         "Bangalore",
         4,
         4.6,
         25.0,
         "Excellent"
        ],
        [
         1002,
         2,
         7,
         180,
         "2024-02-03",
         "Pooja Rao",
         "Chennai",
         2,
         4.3,
         25.71,
         "Good"
        ],
        [
         1003,
         3,
         15,
         500,
         "2024-02-05",
         "Imran Sheikh",
         "Delhi",
         6,
         4.8,
         33.33,
         "Excellent"
        ],
        [
         1004,
         4,
         5,
         120,
         "2024-02-08",
         "Nisha Patel",
         "Hyderabad",
         1,
         4.0,
         24.0,
         "Average"
        ],
        [
         1005,
         1,
         12,
         300,
         "2024-02-10",
         "Arun Kumar",
         "Bangalore",
         4,
         4.6,
         25.0,
         "Good"
        ],
        [
         1006,
         5,
         20,
         800,
         "2024-02-15",
         "Rajesh Naik",
         "Mumbai",
         8,
         4.9,
         40.0,
         "Excellent"
        ],
        [
         1007,
         6,
         9,
         230,
         "2024-02-20",
         "Sneha Menon",
         "Bangalore",
         3,
         4.4,
         25.56,
         "Average"
        ],
        [
         1008,
         7,
         11,
         270,
         "2024-02-22",
         null,
         null,
         null,
         null,
         24.55,
         "Good"
        ]
       ],
       "datasetInfos": [],
       "dbfsResultPath": null,
       "isJsonSchema": true,
       "metadata": {},
       "overflow": false,
       "plotOptions": {
        "customPlotOptions": {},
        "displayType": "table",
        "pivotAggregation": null,
        "pivotColumns": null,
        "xColumns": null,
        "yColumns": null
       },
       "removedWidgets": [],
       "schema": [
        {
         "metadata": "{}",
         "name": "ride_id",
         "type": "\"integer\""
        },
        {
         "metadata": "{}",
         "name": "driver_id",
         "type": "\"integer\""
        },
        {
         "metadata": "{}",
         "name": "distance_km",
         "type": "\"integer\""
        },
        {
         "metadata": "{}",
         "name": "price",
         "type": "\"integer\""
        },
        {
         "metadata": "{\"__detected_date_formats\": \"yyyy-M-d\"}",
         "name": "ride_date",
         "type": "\"date\""
        },
        {
         "metadata": "{}",
         "name": "driver_name",
         "type": "\"string\""
        },
        {
         "metadata": "{}",
         "name": "city",
         "type": "\"string\""
        },
        {
         "metadata": "{}",
         "name": "experience_years",
         "type": "\"integer\""
        },
        {
         "metadata": "{}",
         "name": "rating",
         "type": "\"double\""
        },
        {
         "metadata": "{}",
         "name": "earnings_per_km",
         "type": "\"double\""
        },
        {
         "metadata": "{}",
         "name": "customer_feedback",
         "type": "\"string\""
        }
       ],
       "type": "table"
      }
     },
     "output_type": "display_data"
    }
   ],
   "source": [
    "summary_df = spark.read.csv(output_path, header=True, inferSchema=True)\n",
    "display(summary_df)\n"
   ]
  },
  {
   "cell_type": "code",
   "execution_count": 0,
   "metadata": {
    "application/vnd.databricks.v1+cell": {
     "cellMetadata": {
      "byteLimit": 2048000,
      "rowLimit": 10000
     },
     "inputWidgets": {},
     "nuid": "dc8195dc-b93f-4496-af9e-a76ad3bf420a",
     "showTitle": false,
     "tableResultSettingsMap": {},
     "title": ""
    }
   },
   "outputs": [
    {
     "output_type": "display_data",
     "data": {
      "image/png": "[encoded data removed]",
      "text/plain": [
       "<Figure size 800x500 with 1 Axes>"
      ]
     },
     "metadata": {},
     "output_type": "display_data"
    }
   ],
   "source": [
    "import matplotlib.pyplot as plt\n",
    "\n",
    "city_pd = revenue_per_city.toPandas().dropna(subset=['city', 'total_revenue'])\n",
    "\n",
    "plt.figure(figsize=(8,5))\n",
    "plt.bar(city_pd[\"city\"], city_pd[\"total_revenue\"], color=\"skyblue\")\n",
    "plt.title(\"Total Earnings per City\")\n",
    "plt.xlabel(\"City\")\n",
    "plt.ylabel(\"Total Revenue\")\n",
    "plt.grid(axis='y', linestyle='--', alpha=0.6)\n",
    "plt.show()\n"
   ]
  }
 ],
 "metadata": {
  "application/vnd.databricks.v1+notebook": {
   "computePreferences": null,
   "dashboards": [],
   "environmentMetadata": {
    "base_environment": "",
    "environment_version": "3"
   },
   "inputWidgetPreferences": null,
   "language": "python",
   "notebookMetadata": {
    "pythonIndentUnit": 4
   },
   "notebookName": "Task2-RideShareAnalytics",
   "widgets": {}
  },
  "language_info": {
   "name": "python"
  }
 },
 "nbformat": 4,
 "nbformat_minor": 0
}