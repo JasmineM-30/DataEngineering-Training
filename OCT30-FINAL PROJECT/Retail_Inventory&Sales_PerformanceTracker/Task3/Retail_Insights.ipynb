{
  "nbformat": 4,
  "nbformat_minor": 0,
  "metadata": {
    "colab": {
      "provenance": []
    },
    "kernelspec": {
      "name": "python3",
      "display_name": "Python 3"
    },
    "language_info": {
      "name": "python"
    }
  },
  "cells": [
    {
      "cell_type": "code",
      "execution_count": 4,
      "metadata": {
        "colab": {
          "base_uri": "https://localhost:8080/"
        },
        "id": "L3sB5sCP_TB-",
        "outputId": "e9cae460-82ba-485e-8c40-94d3e831a82b"
      },
      "outputs": [
        {
          "output_type": "stream",
          "name": "stdout",
          "text": [
            "+------+-----------+----------+-----------+\n",
            "|region|category   |year_month|total_sales|\n",
            "+------+-----------+----------+-----------+\n",
            "|East  |Accessories|2025-10   |15         |\n",
            "|East  |Electronics|2025-10   |7          |\n",
            "|North |Electronics|2025-10   |8          |\n",
            "|North |Furniture  |2025-10   |2          |\n",
            "|South |Accessories|2025-10   |10         |\n",
            "|South |Electronics|2025-10   |4          |\n",
            "|South |Furniture  |2025-10   |8          |\n",
            "|West  |Accessories|2025-10   |10         |\n",
            "|West  |Electronics|2025-10   |7          |\n",
            "+------+-----------+----------+-----------+\n",
            "\n"
          ]
        }
      ],
      "source": [
        "from pyspark.sql import SparkSession\n",
        "from pyspark.sql.functions import sum, to_date, date_format\n",
        "\n",
        "# Initialize Spark session\n",
        "spark = SparkSession.builder.appName(\"Retail\").getOrCreate()\n",
        "\n",
        "# Load datasets with header and infer schema\n",
        "sales_df = spark.read.csv(\"sales.csv\", header=True, inferSchema=True)\n",
        "inventory_df = spark.read.csv(\"inventory.csv\", header=True, inferSchema=True)\n",
        "products_df = spark.read.csv(\"products.csv\", header=True, inferSchema=True)\n",
        "\n",
        "# Convert sale_date in sales to date type\n",
        "sales_df = sales_df.withColumn(\"sale_date\", to_date(\"sale_date\"))\n",
        "\n",
        "# Join sales with inventory on product_id\n",
        "sales_inventory_df = sales_df.join(inventory_df, on=\"product_id\", how=\"inner\")\n",
        "\n",
        "# Join the above result with products to add product category\n",
        "full_df = sales_inventory_df.join(products_df, on=\"product_id\", how=\"inner\")\n",
        "\n",
        "# Extract year-month from sale_date for monthly trend analysis\n",
        "full_df = full_df.withColumn(\"year_month\", date_format(\"sale_date\", \"yyyy-MM\"))\n",
        "\n",
        "# Aggregate total sales by region, category, and year_month\n",
        "monthly_sales_trends = full_df.groupBy(\"region\", \"category\", \"year_month\") \\\n",
        "                             .agg(sum(\"quantity_sold\").alias(\"total_sales\")) \\\n",
        "                             .orderBy(\"region\", \"category\", \"year_month\")\n",
        "\n",
        "# Show sample results\n",
        "monthly_sales_trends.show(30, truncate=False)\n",
        "\n",
        "# Export aggregated results to CSV and Parquet\n",
        "monthly_sales_trends.write.csv(\"output/monthly_sales_trends.csv\", header=True, mode=\"overwrite\")\n",
        "monthly_sales_trends.write.parquet(\"output/monthly_sales_trends.parquet\", mode=\"overwrite\")\n",
        "\n",
        "# Stop Spark session\n",
        "spark.stop()\n"
      ]
    }
  ]
}