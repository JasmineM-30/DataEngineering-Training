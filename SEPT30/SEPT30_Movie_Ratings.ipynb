{
  "nbformat": 4,
  "nbformat_minor": 0,
  "metadata": {
    "colab": {
      "provenance": []
    },
    "kernelspec": {
      "name": "python3",
      "display_name": "Python 3"
    },
    "language_info": {
      "name": "python"
    }
  },
  "cells": [
    {
      "cell_type": "markdown",
      "source": [
        "# **Movie Ratings Analytics with PySpark**"
      ],
      "metadata": {
        "id": "fmeEt1h9P-WT"
      }
    },
    {
      "cell_type": "markdown",
      "source": [
        "# Setup in Google Colab"
      ],
      "metadata": {
        "id": "Ca78mMZmGTEs"
      }
    },
    {
      "cell_type": "code",
      "execution_count": 1,
      "metadata": {
        "colab": {
          "base_uri": "https://localhost:8080/"
        },
        "id": "9ORcTnMyDH32",
        "outputId": "6a616598-43f0-411d-df53-b55e09aca594"
      },
      "outputs": [
        {
          "output_type": "stream",
          "name": "stdout",
          "text": [
            "Requirement already satisfied: pyspark in /usr/local/lib/python3.12/dist-packages (3.5.1)\n",
            "Requirement already satisfied: py4j==0.10.9.7 in /usr/local/lib/python3.12/dist-packages (from pyspark) (0.10.9.7)\n"
          ]
        }
      ],
      "source": [
        "!pip install pyspark\n",
        "\n",
        "# Start Spark session\n",
        "from pyspark.sql import SparkSession\n",
        "spark = SparkSession.builder.appName(\"Movie-Capstone\").getOrCreate()\n",
        "sc = spark.sparkContext"
      ]
    },
    {
      "cell_type": "markdown",
      "source": [
        "# Prepare Data"
      ],
      "metadata": {
        "id": "rUxuvfo_GZjb"
      }
    },
    {
      "cell_type": "code",
      "source": [
        "# Users Data\n",
        "users_data = [\n",
        "    (1, \"Rahul\", 25, \"Bangalore\"),\n",
        "    (2, \"Priya\", 30, \"Delhi\"),\n",
        "    (3, \"Aman\", 22, \"Hyderabad\"),\n",
        "    (4, \"Sneha\", 28, \"Chennai\"),\n",
        "    (5, \"Arjun\", 35, \"Mumbai\")\n",
        "]\n",
        "users_cols = [\"user_id\", \"name\", \"age\", \"city\"]\n",
        "users_df = spark.createDataFrame(users_data, users_cols)\n",
        "\n",
        "# Movies Data\n",
        "movies_data = [\n",
        "    (101, \"Inception\", \"Sci-Fi\", 2010),\n",
        "    (102, \"Avengers\", \"Action\", 2012),\n",
        "    (103, \"3 Idiots\", \"Comedy\", 2009),\n",
        "    (104, \"Dangal\", \"Drama\", 2016),\n",
        "    (105, \"Interstellar\", \"Sci-Fi\", 2014)\n",
        "]\n",
        "movies_cols = [\"movie_id\", \"title\", \"genre\", \"year\"]\n",
        "movies_df = spark.createDataFrame(movies_data, movies_cols)\n",
        "\n",
        "# Ratings Data\n",
        "ratings_data = [\n",
        "    (1, 101, 5),\n",
        "    (2, 101, 4),\n",
        "    (1, 102, 3),\n",
        "    (3, 103, 4),\n",
        "    (4, 104, 5),\n",
        "    (2, 103, 5),\n",
        "    (5, 105, 4),\n",
        "    (6, 101, 5)  # Non-existent user\n",
        "]\n",
        "ratings_cols = [\"user_id\", \"movie_id\", \"rating\"]\n",
        "ratings_df = spark.createDataFrame(ratings_data, ratings_cols)\n"
      ],
      "metadata": {
        "id": "MXbFtKNrDfDB"
      },
      "execution_count": 2,
      "outputs": []
    },
    {
      "cell_type": "markdown",
      "source": [
        "# Capstone Tasks"
      ],
      "metadata": {
        "id": "WTrHNs-zGKPw"
      }
    },
    {
      "cell_type": "markdown",
      "source": [
        "**Part A – DataFrame Basics**\n",
        "1. Show all users who are older than 28.\n",
        "2. List all distinct movie genres.\n",
        "3. Find all movies released after 2010."
      ],
      "metadata": {
        "id": "Vb0JADsiGfU9"
      }
    },
    {
      "cell_type": "code",
      "source": [
        "users_df.filter(users_df.age > 28).show()"
      ],
      "metadata": {
        "colab": {
          "base_uri": "https://localhost:8080/"
        },
        "id": "wRc1kMxLDkIl",
        "outputId": "c5e7a739-5dcb-4820-deb0-f96ac891d256"
      },
      "execution_count": 3,
      "outputs": [
        {
          "output_type": "stream",
          "name": "stdout",
          "text": [
            "+-------+-----+---+------+\n",
            "|user_id| name|age|  city|\n",
            "+-------+-----+---+------+\n",
            "|      2|Priya| 30| Delhi|\n",
            "|      5|Arjun| 35|Mumbai|\n",
            "+-------+-----+---+------+\n",
            "\n"
          ]
        }
      ]
    },
    {
      "cell_type": "code",
      "source": [
        "movies_df.select(\"genre\").distinct().show()"
      ],
      "metadata": {
        "colab": {
          "base_uri": "https://localhost:8080/"
        },
        "id": "Me1Yn4l6DkLp",
        "outputId": "3c64ff5f-132b-438c-f7e9-8961f17a9f3f"
      },
      "execution_count": 4,
      "outputs": [
        {
          "output_type": "stream",
          "name": "stdout",
          "text": [
            "+------+\n",
            "| genre|\n",
            "+------+\n",
            "|Action|\n",
            "|Sci-Fi|\n",
            "| Drama|\n",
            "|Comedy|\n",
            "+------+\n",
            "\n"
          ]
        }
      ]
    },
    {
      "cell_type": "code",
      "source": [
        "movies_df.filter(movies_df.year > 2010).show()"
      ],
      "metadata": {
        "colab": {
          "base_uri": "https://localhost:8080/"
        },
        "id": "L7YeXJ8wDkPC",
        "outputId": "a46b97a3-5223-4a6b-c7a2-088e4eb109da"
      },
      "execution_count": 5,
      "outputs": [
        {
          "output_type": "stream",
          "name": "stdout",
          "text": [
            "+--------+------------+------+----+\n",
            "|movie_id|       title| genre|year|\n",
            "+--------+------------+------+----+\n",
            "|     102|    Avengers|Action|2012|\n",
            "|     104|      Dangal| Drama|2016|\n",
            "|     105|Interstellar|Sci-Fi|2014|\n",
            "+--------+------------+------+----+\n",
            "\n"
          ]
        }
      ]
    },
    {
      "cell_type": "markdown",
      "source": [
        "**Part B – Aggregations**\n",
        "\n",
        "4. Find the average age of users per city.\n",
        "5. Find the average rating for each movie.\n",
        "6. Find the highest-rated movie in each genre."
      ],
      "metadata": {
        "id": "pCDRLYhBHAW9"
      }
    },
    {
      "cell_type": "code",
      "source": [
        "users_df.groupBy(\"city\").avg(\"age\").withColumnRenamed(\"avg(age)\", \"avg_age\").show()\n"
      ],
      "metadata": {
        "colab": {
          "base_uri": "https://localhost:8080/"
        },
        "id": "agiaw9spDkWF",
        "outputId": "29173a23-7f89-4ce3-bcae-1203d2b24ed6"
      },
      "execution_count": 6,
      "outputs": [
        {
          "output_type": "stream",
          "name": "stdout",
          "text": [
            "+---------+-------+\n",
            "|     city|avg_age|\n",
            "+---------+-------+\n",
            "|Bangalore|   25.0|\n",
            "|    Delhi|   30.0|\n",
            "|  Chennai|   28.0|\n",
            "|   Mumbai|   35.0|\n",
            "|Hyderabad|   22.0|\n",
            "+---------+-------+\n",
            "\n"
          ]
        }
      ]
    },
    {
      "cell_type": "code",
      "source": [
        "ratings_df.groupBy(\"movie_id\").avg(\"rating\").withColumnRenamed(\"avg(rating)\", \"avg_rating\").show()\n"
      ],
      "metadata": {
        "colab": {
          "base_uri": "https://localhost:8080/"
        },
        "id": "sCuCEMCZHFYV",
        "outputId": "2d8926a0-57e2-4e60-8446-94e9c2457ddf"
      },
      "execution_count": 7,
      "outputs": [
        {
          "output_type": "stream",
          "name": "stdout",
          "text": [
            "+--------+-----------------+\n",
            "|movie_id|       avg_rating|\n",
            "+--------+-----------------+\n",
            "|     103|              4.5|\n",
            "|     101|4.666666666666667|\n",
            "|     102|              3.0|\n",
            "|     104|              5.0|\n",
            "|     105|              4.0|\n",
            "+--------+-----------------+\n",
            "\n"
          ]
        }
      ]
    },
    {
      "cell_type": "code",
      "source": [
        "# Join ratings and movies\n",
        "joined = ratings_df.join(movies_df, on=\"movie_id\")\n",
        "\n",
        "# Calculate average rating\n",
        "from pyspark.sql.functions import avg, row_number\n",
        "from pyspark.sql.window import Window\n",
        "\n",
        "avg_ratings = joined.groupBy(\"genre\", \"movie_id\", \"title\") \\\n",
        "    .agg(avg(\"rating\").alias(\"avg_rating\"))\n",
        "\n",
        "# Window to get highest rated per genre\n",
        "windowSpec = Window.partitionBy(\"genre\").orderBy(avg_ratings[\"avg_rating\"].desc())\n",
        "\n",
        "avg_ratings.withColumn(\"rank\", row_number().over(windowSpec)) \\\n",
        "    .filter(\"rank = 1\") \\\n",
        "    .select(\"genre\", \"title\", \"avg_rating\").show()\n"
      ],
      "metadata": {
        "colab": {
          "base_uri": "https://localhost:8080/"
        },
        "id": "KWPaRi2gDkZd",
        "outputId": "32a47079-0b44-4b53-b86f-72ac946a564c"
      },
      "execution_count": 8,
      "outputs": [
        {
          "output_type": "stream",
          "name": "stdout",
          "text": [
            "+------+---------+-----------------+\n",
            "| genre|    title|       avg_rating|\n",
            "+------+---------+-----------------+\n",
            "|Action| Avengers|              3.0|\n",
            "|Comedy| 3 Idiots|              4.5|\n",
            "| Drama|   Dangal|              5.0|\n",
            "|Sci-Fi|Inception|4.666666666666667|\n",
            "+------+---------+-----------------+\n",
            "\n"
          ]
        }
      ]
    },
    {
      "cell_type": "markdown",
      "source": [
        "**Part C – Joins**\n",
        "\n",
        "7. Join ratings with users to see who rated what.\n",
        "8. Join ratings with movies to see ratings with movie names.\n",
        "9. Find all users who have not rated any movie.\n",
        "10. Find all movies that have never been rated."
      ],
      "metadata": {
        "id": "jsLOESu-HYAO"
      }
    },
    {
      "cell_type": "code",
      "source": [
        "ratings_df.join(users_df, on=\"user_id\", how=\"inner\").show()\n"
      ],
      "metadata": {
        "colab": {
          "base_uri": "https://localhost:8080/"
        },
        "id": "IT9-5eOZHWwS",
        "outputId": "46755a8e-d3cf-4d25-995b-4535b40ba02b"
      },
      "execution_count": 9,
      "outputs": [
        {
          "output_type": "stream",
          "name": "stdout",
          "text": [
            "+-------+--------+------+-----+---+---------+\n",
            "|user_id|movie_id|rating| name|age|     city|\n",
            "+-------+--------+------+-----+---+---------+\n",
            "|      1|     101|     5|Rahul| 25|Bangalore|\n",
            "|      1|     102|     3|Rahul| 25|Bangalore|\n",
            "|      2|     101|     4|Priya| 30|    Delhi|\n",
            "|      2|     103|     5|Priya| 30|    Delhi|\n",
            "|      3|     103|     4| Aman| 22|Hyderabad|\n",
            "|      4|     104|     5|Sneha| 28|  Chennai|\n",
            "|      5|     105|     4|Arjun| 35|   Mumbai|\n",
            "+-------+--------+------+-----+---+---------+\n",
            "\n"
          ]
        }
      ]
    },
    {
      "cell_type": "code",
      "source": [
        "ratings_df.join(movies_df, on=\"movie_id\", how=\"inner\").show()\n"
      ],
      "metadata": {
        "colab": {
          "base_uri": "https://localhost:8080/"
        },
        "id": "5ZOKQOESHW5p",
        "outputId": "251177dd-6f81-47dc-9a65-a6b51393ea75"
      },
      "execution_count": 10,
      "outputs": [
        {
          "output_type": "stream",
          "name": "stdout",
          "text": [
            "+--------+-------+------+------------+------+----+\n",
            "|movie_id|user_id|rating|       title| genre|year|\n",
            "+--------+-------+------+------------+------+----+\n",
            "|     101|      1|     5|   Inception|Sci-Fi|2010|\n",
            "|     101|      2|     4|   Inception|Sci-Fi|2010|\n",
            "|     101|      6|     5|   Inception|Sci-Fi|2010|\n",
            "|     102|      1|     3|    Avengers|Action|2012|\n",
            "|     103|      3|     4|    3 Idiots|Comedy|2009|\n",
            "|     103|      2|     5|    3 Idiots|Comedy|2009|\n",
            "|     104|      4|     5|      Dangal| Drama|2016|\n",
            "|     105|      5|     4|Interstellar|Sci-Fi|2014|\n",
            "+--------+-------+------+------------+------+----+\n",
            "\n"
          ]
        }
      ]
    },
    {
      "cell_type": "code",
      "source": [
        "users_df.join(ratings_df, on=\"user_id\", how=\"left_anti\").show()"
      ],
      "metadata": {
        "colab": {
          "base_uri": "https://localhost:8080/"
        },
        "id": "DlHAMS60HW9A",
        "outputId": "332f78f3-81a9-43f4-e2a4-b5d23e242d16"
      },
      "execution_count": 14,
      "outputs": [
        {
          "output_type": "stream",
          "name": "stdout",
          "text": [
            "+-------+----+---+----+\n",
            "|user_id|name|age|city|\n",
            "+-------+----+---+----+\n",
            "+-------+----+---+----+\n",
            "\n"
          ]
        }
      ]
    },
    {
      "cell_type": "code",
      "source": [
        "movies_df.join(ratings_df, on=\"movie_id\", how=\"left_anti\").show()"
      ],
      "metadata": {
        "colab": {
          "base_uri": "https://localhost:8080/"
        },
        "id": "uM273EABHXAq",
        "outputId": "d3d82e5f-42df-49cb-e79d-c451deba968f"
      },
      "execution_count": 15,
      "outputs": [
        {
          "output_type": "stream",
          "name": "stdout",
          "text": [
            "+--------+-----+-----+----+\n",
            "|movie_id|title|genre|year|\n",
            "+--------+-----+-----+----+\n",
            "+--------+-----+-----+----+\n",
            "\n"
          ]
        }
      ]
    },
    {
      "cell_type": "markdown",
      "source": [
        "**Part D – SQL Queries**\n",
        "\n",
        "11. Register users , movies , and ratings as temp views.\n",
        "12. Write a SQL query to find the top 2 cities by number of ratings given.\n",
        "13. Write a SQL query to find users who gave at least one 5-star rating.\n",
        "14. Write a SQL query to find the most popular genre by number of ratings."
      ],
      "metadata": {
        "id": "tHrsTvmEIA1b"
      }
    },
    {
      "cell_type": "code",
      "source": [
        "users_df.createOrReplaceTempView(\"users\")\n",
        "movies_df.createOrReplaceTempView(\"movies\")\n",
        "ratings_df.createOrReplaceTempView(\"ratings\")\n"
      ],
      "metadata": {
        "id": "kbPAmXnsHXNb"
      },
      "execution_count": 16,
      "outputs": []
    },
    {
      "cell_type": "code",
      "source": [
        "spark.sql(\"\"\"\n",
        "SELECT u.city, COUNT(*) as rating_count\n",
        "FROM ratings r\n",
        "JOIN users u ON r.user_id = u.user_id\n",
        "GROUP BY u.city\n",
        "ORDER BY rating_count DESC\n",
        "LIMIT 2\n",
        "\"\"\").show()\n"
      ],
      "metadata": {
        "colab": {
          "base_uri": "https://localhost:8080/"
        },
        "id": "8_EOl2eZICfs",
        "outputId": "a24c7ae1-0dc9-4cf7-d88e-9d9349e45981"
      },
      "execution_count": 17,
      "outputs": [
        {
          "output_type": "stream",
          "name": "stdout",
          "text": [
            "+---------+------------+\n",
            "|     city|rating_count|\n",
            "+---------+------------+\n",
            "|Bangalore|           2|\n",
            "|    Delhi|           2|\n",
            "+---------+------------+\n",
            "\n"
          ]
        }
      ]
    },
    {
      "cell_type": "code",
      "source": [
        "spark.sql(\"\"\"\n",
        "SELECT DISTINCT u.*\n",
        "FROM ratings r\n",
        "JOIN users u ON r.user_id = u.user_id\n",
        "WHERE r.rating = 5\n",
        "\"\"\").show()\n"
      ],
      "metadata": {
        "colab": {
          "base_uri": "https://localhost:8080/"
        },
        "id": "LS78jl1dICoy",
        "outputId": "ba898527-7507-4dbf-8ff3-135042342518"
      },
      "execution_count": 18,
      "outputs": [
        {
          "output_type": "stream",
          "name": "stdout",
          "text": [
            "+-------+-----+---+---------+\n",
            "|user_id| name|age|     city|\n",
            "+-------+-----+---+---------+\n",
            "|      1|Rahul| 25|Bangalore|\n",
            "|      2|Priya| 30|    Delhi|\n",
            "|      4|Sneha| 28|  Chennai|\n",
            "+-------+-----+---+---------+\n",
            "\n"
          ]
        }
      ]
    },
    {
      "cell_type": "code",
      "source": [
        "spark.sql(\"\"\"\n",
        "SELECT m.genre, COUNT(*) as rating_count\n",
        "FROM ratings r\n",
        "JOIN movies m ON r.movie_id = m.movie_id\n",
        "GROUP BY m.genre\n",
        "ORDER BY rating_count DESC\n",
        "LIMIT 1\n",
        "\"\"\").show()\n"
      ],
      "metadata": {
        "colab": {
          "base_uri": "https://localhost:8080/"
        },
        "id": "wrV0hE9HICw5",
        "outputId": "9edd5880-eeaa-4425-b4c4-e4eb3d791df1"
      },
      "execution_count": 19,
      "outputs": [
        {
          "output_type": "stream",
          "name": "stdout",
          "text": [
            "+------+------------+\n",
            "| genre|rating_count|\n",
            "+------+------------+\n",
            "|Sci-Fi|           4|\n",
            "+------+------------+\n",
            "\n"
          ]
        }
      ]
    },
    {
      "cell_type": "markdown",
      "source": [
        "**Part E – File I/O**\n",
        "\n",
        "15. Save ratings_df as CSV and load it back.\n",
        "16. Save movies_df as JSON and reload it."
      ],
      "metadata": {
        "id": "WB5AxilaInTN"
      }
    },
    {
      "cell_type": "code",
      "source": [
        "ratings_df.write.csv(\"ratings_csv\", header=True, mode=\"overwrite\")\n",
        "ratings_loaded = spark.read.csv(\"ratings_csv\", header=True, inferSchema=True)\n",
        "ratings_loaded.show()\n"
      ],
      "metadata": {
        "colab": {
          "base_uri": "https://localhost:8080/"
        },
        "id": "VJElu80NIsfO",
        "outputId": "1a2e5e7f-a163-4b9a-8d95-d15ced6d8559"
      },
      "execution_count": 20,
      "outputs": [
        {
          "output_type": "stream",
          "name": "stdout",
          "text": [
            "+-------+--------+------+\n",
            "|user_id|movie_id|rating|\n",
            "+-------+--------+------+\n",
            "|      4|     104|     5|\n",
            "|      2|     103|     5|\n",
            "|      5|     105|     4|\n",
            "|      6|     101|     5|\n",
            "|      1|     101|     5|\n",
            "|      2|     101|     4|\n",
            "|      1|     102|     3|\n",
            "|      3|     103|     4|\n",
            "+-------+--------+------+\n",
            "\n"
          ]
        }
      ]
    },
    {
      "cell_type": "code",
      "source": [
        "movies_df.write.json(\"movies_json\", mode=\"overwrite\")\n",
        "movies_loaded = spark.read.json(\"movies_json\")\n",
        "movies_loaded.show()\n"
      ],
      "metadata": {
        "colab": {
          "base_uri": "https://localhost:8080/"
        },
        "id": "x8lvuHELItAC",
        "outputId": "19223a24-8ba2-4281-ec24-df42cd667190"
      },
      "execution_count": 21,
      "outputs": [
        {
          "output_type": "stream",
          "name": "stdout",
          "text": [
            "+------+--------+------------+----+\n",
            "| genre|movie_id|       title|year|\n",
            "+------+--------+------------+----+\n",
            "|Comedy|     103|    3 Idiots|2009|\n",
            "| Drama|     104|      Dangal|2016|\n",
            "|Sci-Fi|     105|Interstellar|2014|\n",
            "|Sci-Fi|     101|   Inception|2010|\n",
            "|Action|     102|    Avengers|2012|\n",
            "+------+--------+------------+----+\n",
            "\n"
          ]
        }
      ]
    },
    {
      "cell_type": "markdown",
      "source": [
        "**Part F – Visualization**\n",
        "\n",
        "17. Convert PySpark DataFrame → Pandas ( toPandas() ).\n",
        "18. Plot average rating per genre (bar chart).\n",
        "19. Plot number of ratings per year of movie release (line chart).\n",
        "20. Plot age vs average rating given (scatter plot)."
      ],
      "metadata": {
        "id": "aUbmA2irI1am"
      }
    },
    {
      "cell_type": "code",
      "source": [
        "import matplotlib.pyplot as plt\n",
        "import pandas as pd\n",
        "import seaborn as sns\n",
        "\n",
        "# Optional: set style\n",
        "sns.set(style=\"whitegrid\")\n"
      ],
      "metadata": {
        "id": "C_VCOUEWIzUd"
      },
      "execution_count": 22,
      "outputs": []
    },
    {
      "cell_type": "code",
      "source": [
        "ratings_pd = ratings_df.toPandas()\n",
        "movies_pd = movies_df.toPandas()\n",
        "users_pd = users_df.toPandas()\n"
      ],
      "metadata": {
        "id": "cFBfwnEHIzcj"
      },
      "execution_count": 23,
      "outputs": []
    },
    {
      "cell_type": "code",
      "source": [
        "avg_rating_genre = ratings_df.join(movies_df, \"movie_id\") \\\n",
        "    .groupBy(\"genre\") \\\n",
        "    .avg(\"rating\") \\\n",
        "    .withColumnRenamed(\"avg(rating)\", \"avg_rating\") \\\n",
        "    .toPandas()\n",
        "\n",
        "avg_rating_genre.plot(kind=\"bar\", x=\"genre\", y=\"avg_rating\", legend=False)\n",
        "plt.ylabel(\"Average Rating\")\n",
        "plt.title(\"Average Rating per Genre\")\n",
        "plt.xticks(rotation=45)\n",
        "plt.tight_layout()\n",
        "plt.show()\n"
      ],
      "metadata": {
        "colab": {
          "base_uri": "https://localhost:8080/",
          "height": 481
        },
        "id": "X35eS_I9IziA",
        "outputId": "6b237331-8ef6-4446-ec68-51520c4a764a"
      },
      "execution_count": 24,
      "outputs": [
        {
          "output_type": "display_data",
          "data": {
            "text/plain": [
              "<Figure size 640x480 with 1 Axes>"
            ],
            "image/png": "[encoded data removed]"
          },
          "metadata": {}
        }
      ]
    },
    {
      "cell_type": "code",
      "source": [
        "ratings_year = ratings_df.join(movies_df, \"movie_id\") \\\n",
        "    .groupBy(\"year\") \\\n",
        "    .count() \\\n",
        "    .toPandas()\n",
        "\n",
        "ratings_year.sort_values(\"year\").plot(x=\"year\", y=\"count\", kind=\"line\", marker='o')\n",
        "plt.ylabel(\"Number of Ratings\")\n",
        "plt.title(\"Ratings per Movie Release Year\")\n",
        "plt.xticks(ratings_year['year'])\n",
        "plt.grid(True)\n",
        "plt.tight_layout()\n",
        "plt.show()\n"
      ],
      "metadata": {
        "colab": {
          "base_uri": "https://localhost:8080/",
          "height": 481
        },
        "id": "3syxXrOsI1B4",
        "outputId": "b7f3634f-412c-467f-9f0b-5c8d9ee78fd9"
      },
      "execution_count": 25,
      "outputs": [
        {
          "output_type": "display_data",
          "data": {
            "text/plain": [
              "<Figure size 640x480 with 1 Axes>"
            ],
            "image/png": "[encoded data removed]"
          },
          "metadata": {}
        }
      ]
    },
    {
      "cell_type": "code",
      "source": [
        "ratings_with_age = ratings_df.join(users_df, \"user_id\") \\\n",
        "    .groupBy(\"age\") \\\n",
        "    .avg(\"rating\") \\\n",
        "    .withColumnRenamed(\"avg(rating)\", \"avg_rating\") \\\n",
        "    .toPandas()\n",
        "\n",
        "plt.scatter(ratings_with_age[\"age\"], ratings_with_age[\"avg_rating\"])\n",
        "plt.xlabel(\"User Age\")\n",
        "plt.ylabel(\"Average Rating Given\")\n",
        "plt.title(\"Age vs Average Rating Given\")\n",
        "plt.grid(True)\n",
        "plt.tight_layout()\n",
        "plt.show()\n"
      ],
      "metadata": {
        "colab": {
          "base_uri": "https://localhost:8080/",
          "height": 481
        },
        "id": "My8lZQiWJwaV",
        "outputId": "4d107c15-263b-4240-9ede-0384af93936d"
      },
      "execution_count": 28,
      "outputs": [
        {
          "output_type": "display_data",
          "data": {
            "text/plain": [
              "<Figure size 640x480 with 1 Axes>"
            ],
            "image/png": "[encoded data removed]"
          },
          "metadata": {}
        }
      ]
    }
  ]
}