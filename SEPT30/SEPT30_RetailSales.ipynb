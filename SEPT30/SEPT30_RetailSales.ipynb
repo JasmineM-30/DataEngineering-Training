{
  "nbformat": 4,
  "nbformat_minor": 0,
  "metadata": {
    "colab": {
      "provenance": []
    },
    "kernelspec": {
      "name": "python3",
      "display_name": "Python 3"
    },
    "language_info": {
      "name": "python"
    }
  },
  "cells": [
    {
      "cell_type": "markdown",
      "source": [
        "# **Retail Sales Analytics with PySpark**"
      ],
      "metadata": {
        "id": "gL4V_nkFMAs8"
      }
    },
    {
      "cell_type": "markdown",
      "source": [
        "# Setup in Google Colab"
      ],
      "metadata": {
        "id": "x4iq_u0wL-UH"
      }
    },
    {
      "cell_type": "code",
      "execution_count": 1,
      "metadata": {
        "colab": {
          "base_uri": "https://localhost:8080/"
        },
        "id": "skvM8t9XLsiO",
        "outputId": "2683a479-82f8-40db-99b7-f80883a7d283"
      },
      "outputs": [
        {
          "output_type": "stream",
          "name": "stdout",
          "text": [
            "Requirement already satisfied: pyspark in /usr/local/lib/python3.12/dist-packages (3.5.1)\n",
            "Requirement already satisfied: py4j==0.10.9.7 in /usr/local/lib/python3.12/dist-packages (from pyspark) (0.10.9.7)\n"
          ]
        }
      ],
      "source": [
        "# Install PySpark\n",
        "!pip install pyspark\n",
        "\n",
        "# Start Spark session\n",
        "from pyspark.sql import SparkSession\n",
        "spark = SparkSession.builder.appName(\"Retail-Capstone\").getOrCreate()\n",
        "sc = spark.sparkContext"
      ]
    },
    {
      "cell_type": "markdown",
      "source": [
        "# Prepare Data"
      ],
      "metadata": {
        "id": "kXz2pxUiMKID"
      }
    },
    {
      "cell_type": "code",
      "source": [
        "# Customers Data\n",
        "customers_data = [\n",
        "    (1, \"Rahul Sharma\", \"Bangalore\", 28),\n",
        "    (2, \"Priya Singh\", \"Delhi\", 32),\n",
        "    (3, \"Aman Kumar\", \"Hyderabad\", 25),\n",
        "    (4, \"Sneha Reddy\", \"Chennai\", 35),\n",
        "    (5, \"Arjun Mehta\", \"Mumbai\", 30),\n",
        "    (6, \"Divya Nair\", \"Delhi\", 29)\n",
        "]\n",
        "customers_cols = [\"customer_id\", \"name\", \"city\", \"age\"]\n",
        "customers_df = spark.createDataFrame(customers_data, customers_cols)\n",
        "\n",
        "# Products Data\n",
        "products_data = [\n",
        "    (101, \"Laptop\", \"Electronics\", 55000),\n",
        "    (102, \"Mobile\", \"Electronics\", 25000),\n",
        "    (103, \"Headphones\", \"Electronics\", 3000),\n",
        "    (104, \"Chair\", \"Furniture\", 5000),\n",
        "    (105, \"Book\", \"Stationery\", 700),\n",
        "    (106, \"Shoes\", \"Fashion\", 2500)\n",
        "]\n",
        "products_cols = [\"product_id\", \"product_name\", \"category\", \"price\"]\n",
        "products_df = spark.createDataFrame(products_data, products_cols)\n",
        "\n",
        "# Orders Data\n",
        "orders_data = [\n",
        "    (1001, 1, 101, 1, \"2024-01-10\"),\n",
        "    (1002, 2, 102, 2, \"2024-01-12\"),\n",
        "    (1003, 1, 103, 3, \"2024-02-05\"),\n",
        "    (1004, 3, 104, 1, \"2024-02-08\"),\n",
        "    (1005, 5, 105, 5, \"2024-03-01\"),\n",
        "    (1006, 6, 106, 2, \"2024-03-15\"),\n",
        "    (1007, 7, 101, 1, \"2024-03-20\")  # Invalid customer\n",
        "]\n",
        "orders_cols = [\"order_id\", \"customer_id\", \"product_id\", \"quantity\", \"order_date\"]\n",
        "orders_df = spark.createDataFrame(orders_data, orders_cols)\n"
      ],
      "metadata": {
        "id": "Q4nwjWekL1-O"
      },
      "execution_count": 2,
      "outputs": []
    },
    {
      "cell_type": "markdown",
      "source": [
        "# Capstone Tasks"
      ],
      "metadata": {
        "id": "yQM5XC3NMV0e"
      }
    },
    {
      "cell_type": "markdown",
      "source": [
        "**Part A – RDD Basics**\n",
        "1. Convert a list of numbers [10, 20, 30, 40, 50] into an RDD.\n",
        "Find sum, max, min, and average using RDD transformations & actions.\n",
        "2. Create an RDD of sentences and perform word count."
      ],
      "metadata": {
        "id": "AyduMdCtMXHS"
      }
    },
    {
      "cell_type": "code",
      "source": [
        "nums_rdd = sc.parallelize([10, 20, 30, 40, 50])\n",
        "print(\"Sum:\", nums_rdd.sum())\n",
        "print(\"Max:\", nums_rdd.max())\n",
        "print(\"Min:\", nums_rdd.min())\n",
        "print(\"Avg:\", nums_rdd.mean())"
      ],
      "metadata": {
        "colab": {
          "base_uri": "https://localhost:8080/"
        },
        "id": "NpD8flzGMPkO",
        "outputId": "9277fa2a-9462-497b-abe3-e3c1e1f3c72a"
      },
      "execution_count": 3,
      "outputs": [
        {
          "output_type": "stream",
          "name": "stdout",
          "text": [
            "Sum: 150\n",
            "Max: 50\n",
            "Min: 10\n",
            "Avg: 30.0\n"
          ]
        }
      ]
    },
    {
      "cell_type": "code",
      "source": [
        "sentences = sc.parallelize([\"PySpark is fun\", \"Data engineering with Spark\", \"Big data and Spark\"])\n",
        "words = sentences.flatMap(lambda line: line.split(\" \"))\n",
        "word_counts = words.map(lambda word: (word.lower(), 1)).reduceByKey(lambda a, b: a + b)\n",
        "word_counts.collect()"
      ],
      "metadata": {
        "colab": {
          "base_uri": "https://localhost:8080/"
        },
        "id": "5h92QacyMPv8",
        "outputId": "1a446567-7cd9-49bd-edb5-9f635cfb3a6f"
      },
      "execution_count": 4,
      "outputs": [
        {
          "output_type": "execute_result",
          "data": {
            "text/plain": [
              "[('fun', 1),\n",
              " ('engineering', 1),\n",
              " ('with', 1),\n",
              " ('big', 1),\n",
              " ('and', 1),\n",
              " ('pyspark', 1),\n",
              " ('is', 1),\n",
              " ('data', 2),\n",
              " ('spark', 2)]"
            ]
          },
          "metadata": {},
          "execution_count": 4
        }
      ]
    },
    {
      "cell_type": "markdown",
      "source": [
        "**Part B – DataFrame Operations**\n",
        "\n",
        "3. Show all customer names and their cities.\n",
        "4. Find customers older than 30.\n",
        "5. List all distinct product categories.\n",
        "6. Find top 3 most expensive products."
      ],
      "metadata": {
        "id": "1OCXUTumMj4t"
      }
    },
    {
      "cell_type": "code",
      "source": [
        "customers_df.select(\"name\", \"city\").show()"
      ],
      "metadata": {
        "colab": {
          "base_uri": "https://localhost:8080/"
        },
        "id": "hOxLGAkGMPzT",
        "outputId": "21fd6425-7178-4df6-ef7e-4c5e96074255"
      },
      "execution_count": 5,
      "outputs": [
        {
          "output_type": "stream",
          "name": "stdout",
          "text": [
            "+------------+---------+\n",
            "|        name|     city|\n",
            "+------------+---------+\n",
            "|Rahul Sharma|Bangalore|\n",
            "| Priya Singh|    Delhi|\n",
            "|  Aman Kumar|Hyderabad|\n",
            "| Sneha Reddy|  Chennai|\n",
            "| Arjun Mehta|   Mumbai|\n",
            "|  Divya Nair|    Delhi|\n",
            "+------------+---------+\n",
            "\n"
          ]
        }
      ]
    },
    {
      "cell_type": "code",
      "source": [
        "customers_df.filter(customers_df.age > 30).show()"
      ],
      "metadata": {
        "colab": {
          "base_uri": "https://localhost:8080/"
        },
        "id": "6GvlRCQ6MP3O",
        "outputId": "8f476556-25c6-4d7f-9e5b-2e13490ecb1d"
      },
      "execution_count": 6,
      "outputs": [
        {
          "output_type": "stream",
          "name": "stdout",
          "text": [
            "+-----------+-----------+-------+---+\n",
            "|customer_id|       name|   city|age|\n",
            "+-----------+-----------+-------+---+\n",
            "|          2|Priya Singh|  Delhi| 32|\n",
            "|          4|Sneha Reddy|Chennai| 35|\n",
            "+-----------+-----------+-------+---+\n",
            "\n"
          ]
        }
      ]
    },
    {
      "cell_type": "code",
      "source": [
        "products_df.select(\"category\").distinct().show()"
      ],
      "metadata": {
        "colab": {
          "base_uri": "https://localhost:8080/"
        },
        "id": "__8s0EdlMmel",
        "outputId": "61161277-1691-48c5-9929-f5a2a6444d14"
      },
      "execution_count": 7,
      "outputs": [
        {
          "output_type": "stream",
          "name": "stdout",
          "text": [
            "+-----------+\n",
            "|   category|\n",
            "+-----------+\n",
            "|Electronics|\n",
            "| Stationery|\n",
            "|    Fashion|\n",
            "|  Furniture|\n",
            "+-----------+\n",
            "\n"
          ]
        }
      ]
    },
    {
      "cell_type": "code",
      "source": [
        "products_df.orderBy(\"price\", ascending=False).limit(3).show()"
      ],
      "metadata": {
        "colab": {
          "base_uri": "https://localhost:8080/"
        },
        "id": "fjj9Sr6oMmV_",
        "outputId": "29140fdc-44f5-4506-e580-2367ba32eea0"
      },
      "execution_count": 8,
      "outputs": [
        {
          "output_type": "stream",
          "name": "stdout",
          "text": [
            "+----------+------------+-----------+-----+\n",
            "|product_id|product_name|   category|price|\n",
            "+----------+------------+-----------+-----+\n",
            "|       101|      Laptop|Electronics|55000|\n",
            "|       102|      Mobile|Electronics|25000|\n",
            "|       104|       Chair|  Furniture| 5000|\n",
            "+----------+------------+-----------+-----+\n",
            "\n"
          ]
        }
      ]
    },
    {
      "cell_type": "markdown",
      "source": [
        "**Part C – Aggregations**\n",
        "\n",
        "7. Find the average age of customers per city.\n",
        "8. Calculate total revenue generated from each product.\n",
        "9. Find the most popular product (by total quantity sold)."
      ],
      "metadata": {
        "id": "Jhp6YG2cMxQ8"
      }
    },
    {
      "cell_type": "code",
      "source": [
        "customers_df.groupBy(\"city\").avg(\"age\").withColumnRenamed(\"avg(age)\", \"avg_age\").show()"
      ],
      "metadata": {
        "colab": {
          "base_uri": "https://localhost:8080/"
        },
        "id": "wIMKdXZoMyAV",
        "outputId": "0b5d4467-566e-4517-d664-f11e900614e9"
      },
      "execution_count": 9,
      "outputs": [
        {
          "output_type": "stream",
          "name": "stdout",
          "text": [
            "+---------+-------+\n",
            "|     city|avg_age|\n",
            "+---------+-------+\n",
            "|Bangalore|   28.0|\n",
            "|    Delhi|   30.5|\n",
            "|Hyderabad|   25.0|\n",
            "|  Chennai|   35.0|\n",
            "|   Mumbai|   30.0|\n",
            "+---------+-------+\n",
            "\n"
          ]
        }
      ]
    },
    {
      "cell_type": "code",
      "source": [
        "from pyspark.sql.functions import col\n",
        "\n",
        "orders_with_price = orders_df.join(products_df, \"product_id\")\n",
        "revenue_df = orders_with_price.withColumn(\"revenue\", col(\"quantity\") * col(\"price\"))\n",
        "revenue_df.groupBy(\"product_id\", \"product_name\").sum(\"revenue\").withColumnRenamed(\"sum(revenue)\", \"total_revenue\").show()"
      ],
      "metadata": {
        "colab": {
          "base_uri": "https://localhost:8080/"
        },
        "id": "CS0V5o_xMykR",
        "outputId": "84cc5134-00f5-47ce-d852-e77588159b8c"
      },
      "execution_count": 10,
      "outputs": [
        {
          "output_type": "stream",
          "name": "stdout",
          "text": [
            "+----------+------------+-------------+\n",
            "|product_id|product_name|total_revenue|\n",
            "+----------+------------+-------------+\n",
            "|       101|      Laptop|       110000|\n",
            "|       102|      Mobile|        50000|\n",
            "|       103|  Headphones|         9000|\n",
            "|       104|       Chair|         5000|\n",
            "|       105|        Book|         3500|\n",
            "|       106|       Shoes|         5000|\n",
            "+----------+------------+-------------+\n",
            "\n"
          ]
        }
      ]
    },
    {
      "cell_type": "code",
      "source": [
        "orders_df.groupBy(\"product_id\").sum(\"quantity\") \\\n",
        "    .orderBy(\"sum(quantity)\", ascending=False).limit(1).show()"
      ],
      "metadata": {
        "colab": {
          "base_uri": "https://localhost:8080/"
        },
        "id": "9IBiM25zMyZm",
        "outputId": "a3acd133-4278-40f8-d2f5-9f783efe5280"
      },
      "execution_count": 11,
      "outputs": [
        {
          "output_type": "stream",
          "name": "stdout",
          "text": [
            "+----------+-------------+\n",
            "|product_id|sum(quantity)|\n",
            "+----------+-------------+\n",
            "|       105|            5|\n",
            "+----------+-------------+\n",
            "\n"
          ]
        }
      ]
    },
    {
      "cell_type": "markdown",
      "source": [
        "**Part D – Joins**\n",
        "\n",
        "10. Join customers with orders to list each customer’s purchases.\n",
        "11. Join orders with products to get order details (product name + category).\n",
        "12. Find customers who never placed an order.\n",
        "13. Find products that were never ordered."
      ],
      "metadata": {
        "id": "-7zaNFNONDr1"
      }
    },
    {
      "cell_type": "code",
      "source": [
        "customers_df.join(orders_df, \"customer_id\", \"inner\").show()"
      ],
      "metadata": {
        "colab": {
          "base_uri": "https://localhost:8080/"
        },
        "id": "yfysCHiSNEcQ",
        "outputId": "db9413d4-1099-4f40-8a32-93cf97bc2cf2"
      },
      "execution_count": 12,
      "outputs": [
        {
          "output_type": "stream",
          "name": "stdout",
          "text": [
            "+-----------+------------+---------+---+--------+----------+--------+----------+\n",
            "|customer_id|        name|     city|age|order_id|product_id|quantity|order_date|\n",
            "+-----------+------------+---------+---+--------+----------+--------+----------+\n",
            "|          1|Rahul Sharma|Bangalore| 28|    1001|       101|       1|2024-01-10|\n",
            "|          1|Rahul Sharma|Bangalore| 28|    1003|       103|       3|2024-02-05|\n",
            "|          2| Priya Singh|    Delhi| 32|    1002|       102|       2|2024-01-12|\n",
            "|          3|  Aman Kumar|Hyderabad| 25|    1004|       104|       1|2024-02-08|\n",
            "|          5| Arjun Mehta|   Mumbai| 30|    1005|       105|       5|2024-03-01|\n",
            "|          6|  Divya Nair|    Delhi| 29|    1006|       106|       2|2024-03-15|\n",
            "+-----------+------------+---------+---+--------+----------+--------+----------+\n",
            "\n"
          ]
        }
      ]
    },
    {
      "cell_type": "code",
      "source": [
        "orders_df.join(products_df, \"product_id\", \"inner\").select(\"order_id\", \"product_name\", \"category\", \"quantity\").show()"
      ],
      "metadata": {
        "colab": {
          "base_uri": "https://localhost:8080/"
        },
        "id": "ntPCPoW-NFOh",
        "outputId": "76451c6e-8da8-4cf8-db28-846be4c39c76"
      },
      "execution_count": 13,
      "outputs": [
        {
          "output_type": "stream",
          "name": "stdout",
          "text": [
            "+--------+------------+-----------+--------+\n",
            "|order_id|product_name|   category|quantity|\n",
            "+--------+------------+-----------+--------+\n",
            "|    1001|      Laptop|Electronics|       1|\n",
            "|    1007|      Laptop|Electronics|       1|\n",
            "|    1002|      Mobile|Electronics|       2|\n",
            "|    1003|  Headphones|Electronics|       3|\n",
            "|    1004|       Chair|  Furniture|       1|\n",
            "|    1005|        Book| Stationery|       5|\n",
            "|    1006|       Shoes|    Fashion|       2|\n",
            "+--------+------------+-----------+--------+\n",
            "\n"
          ]
        }
      ]
    },
    {
      "cell_type": "code",
      "source": [
        "customers_df.join(orders_df, \"customer_id\", \"left_anti\").show()"
      ],
      "metadata": {
        "colab": {
          "base_uri": "https://localhost:8080/"
        },
        "id": "GXlLc6AKNFFK",
        "outputId": "dc2e3841-418e-440e-e2e1-e9c26704c269"
      },
      "execution_count": 14,
      "outputs": [
        {
          "output_type": "stream",
          "name": "stdout",
          "text": [
            "+-----------+-----------+-------+---+\n",
            "|customer_id|       name|   city|age|\n",
            "+-----------+-----------+-------+---+\n",
            "|          4|Sneha Reddy|Chennai| 35|\n",
            "+-----------+-----------+-------+---+\n",
            "\n"
          ]
        }
      ]
    },
    {
      "cell_type": "code",
      "source": [
        "products_df.join(orders_df, \"product_id\", \"left_anti\").show()"
      ],
      "metadata": {
        "colab": {
          "base_uri": "https://localhost:8080/"
        },
        "id": "28IUXaFYNEx4",
        "outputId": "68bd130e-fc77-4490-c0f8-9eef735fb75c"
      },
      "execution_count": 15,
      "outputs": [
        {
          "output_type": "stream",
          "name": "stdout",
          "text": [
            "+----------+------------+--------+-----+\n",
            "|product_id|product_name|category|price|\n",
            "+----------+------------+--------+-----+\n",
            "+----------+------------+--------+-----+\n",
            "\n"
          ]
        }
      ]
    },
    {
      "cell_type": "markdown",
      "source": [
        "**Part E – SQL Queries**\n",
        "\n",
        "14. Register all DataFrames ( customers , products , orders ) as temp views.\n",
        "15. Query: Find the top 2 cities by total revenue.\n",
        "16. Query: Find customers who spent more than\n",
        "50,000 in total.\n",
        "17. Query: Find the best-selling product category by revenue."
      ],
      "metadata": {
        "id": "2UQMv7ZYNaGL"
      }
    },
    {
      "cell_type": "code",
      "source": [
        "customers_df.createOrReplaceTempView(\"customers\")\n",
        "products_df.createOrReplaceTempView(\"products\")\n",
        "orders_df.createOrReplaceTempView(\"orders\")"
      ],
      "metadata": {
        "id": "TLtTbEA1Naer"
      },
      "execution_count": 16,
      "outputs": []
    },
    {
      "cell_type": "code",
      "source": [
        "spark.sql(\"\"\"\n",
        "SELECT c.city, SUM(p.price * o.quantity) as total_revenue\n",
        "FROM orders o\n",
        "JOIN customers c ON o.customer_id = c.customer_id\n",
        "JOIN products p ON o.product_id = p.product_id\n",
        "GROUP BY c.city\n",
        "ORDER BY total_revenue DESC\n",
        "LIMIT 2\n",
        "\"\"\").show()"
      ],
      "metadata": {
        "colab": {
          "base_uri": "https://localhost:8080/"
        },
        "id": "fE9h9wDDNasL",
        "outputId": "67090940-21a2-47f3-dd01-341c36c3bf0d"
      },
      "execution_count": 17,
      "outputs": [
        {
          "output_type": "stream",
          "name": "stdout",
          "text": [
            "+---------+-------------+\n",
            "|     city|total_revenue|\n",
            "+---------+-------------+\n",
            "|Bangalore|        64000|\n",
            "|    Delhi|        55000|\n",
            "+---------+-------------+\n",
            "\n"
          ]
        }
      ]
    },
    {
      "cell_type": "code",
      "source": [
        "spark.sql(\"\"\"\n",
        "SELECT c.name, SUM(p.price * o.quantity) as total_spent\n",
        "FROM orders o\n",
        "JOIN customers c ON o.customer_id = c.customer_id\n",
        "JOIN products p ON o.product_id = p.product_id\n",
        "GROUP BY c.name\n",
        "HAVING total_spent > 50000\n",
        "\"\"\").show()"
      ],
      "metadata": {
        "colab": {
          "base_uri": "https://localhost:8080/"
        },
        "id": "ibbeiqWDNapD",
        "outputId": "b3438d92-68f9-4e3a-bd0f-de989e9a643f"
      },
      "execution_count": 18,
      "outputs": [
        {
          "output_type": "stream",
          "name": "stdout",
          "text": [
            "+------------+-----------+\n",
            "|        name|total_spent|\n",
            "+------------+-----------+\n",
            "|Rahul Sharma|      64000|\n",
            "+------------+-----------+\n",
            "\n"
          ]
        }
      ]
    },
    {
      "cell_type": "code",
      "source": [
        "spark.sql(\"\"\"\n",
        "SELECT p.category, SUM(p.price * o.quantity) as total_revenue\n",
        "FROM orders o\n",
        "JOIN products p ON o.product_id = p.product_id\n",
        "GROUP BY p.category\n",
        "ORDER BY total_revenue DESC\n",
        "LIMIT 1\n",
        "\"\"\").show()"
      ],
      "metadata": {
        "colab": {
          "base_uri": "https://localhost:8080/"
        },
        "id": "TJddamEZNala",
        "outputId": "2b8b165a-4a2c-45a8-b84e-8ae8efbc40da"
      },
      "execution_count": 19,
      "outputs": [
        {
          "output_type": "stream",
          "name": "stdout",
          "text": [
            "+-----------+-------------+\n",
            "|   category|total_revenue|\n",
            "+-----------+-------------+\n",
            "|Electronics|       169000|\n",
            "+-----------+-------------+\n",
            "\n"
          ]
        }
      ]
    },
    {
      "cell_type": "markdown",
      "source": [
        "**Part F – File I/O**\n",
        "\n",
        "18. Save the orders_df DataFrame into CSV format.\n",
        "19. Load it back into a new DataFrame.\n",
        "20. Save the products_df DataFrame into JSON format and reload it."
      ],
      "metadata": {
        "id": "Ce8FQZ2GNq33"
      }
    },
    {
      "cell_type": "code",
      "source": [
        "orders_df.write.csv(\"orders_csv\", header=True, mode=\"overwrite\")"
      ],
      "metadata": {
        "id": "0XBFekoFNaiD"
      },
      "execution_count": 20,
      "outputs": []
    },
    {
      "cell_type": "code",
      "source": [
        "orders_loaded = spark.read.csv(\"orders_csv\", header=True, inferSchema=True)\n",
        "orders_loaded.show()"
      ],
      "metadata": {
        "colab": {
          "base_uri": "https://localhost:8080/"
        },
        "id": "kg6D3chpNwUj",
        "outputId": "44850ee4-5686-4b7a-ebfe-f69ca250d1ea"
      },
      "execution_count": 21,
      "outputs": [
        {
          "output_type": "stream",
          "name": "stdout",
          "text": [
            "+--------+-----------+----------+--------+----------+\n",
            "|order_id|customer_id|product_id|quantity|order_date|\n",
            "+--------+-----------+----------+--------+----------+\n",
            "|    1004|          3|       104|       1|2024-02-08|\n",
            "|    1005|          5|       105|       5|2024-03-01|\n",
            "|    1006|          6|       106|       2|2024-03-15|\n",
            "|    1007|          7|       101|       1|2024-03-20|\n",
            "|    1001|          1|       101|       1|2024-01-10|\n",
            "|    1002|          2|       102|       2|2024-01-12|\n",
            "|    1003|          1|       103|       3|2024-02-05|\n",
            "+--------+-----------+----------+--------+----------+\n",
            "\n"
          ]
        }
      ]
    },
    {
      "cell_type": "code",
      "source": [
        "products_df.write.json(\"products_json\", mode=\"overwrite\")\n",
        "products_loaded = spark.read.json(\"products_json\")\n",
        "products_loaded.show()"
      ],
      "metadata": {
        "colab": {
          "base_uri": "https://localhost:8080/"
        },
        "id": "k_6bXVm4Nw6l",
        "outputId": "ec0959c6-fb64-4009-faca-96074e391eb7"
      },
      "execution_count": 22,
      "outputs": [
        {
          "output_type": "stream",
          "name": "stdout",
          "text": [
            "+-----------+-----+----------+------------+\n",
            "|   category|price|product_id|product_name|\n",
            "+-----------+-----+----------+------------+\n",
            "|Electronics|55000|       101|      Laptop|\n",
            "|Electronics|25000|       102|      Mobile|\n",
            "|Electronics| 3000|       103|  Headphones|\n",
            "|  Furniture| 5000|       104|       Chair|\n",
            "| Stationery|  700|       105|        Book|\n",
            "|    Fashion| 2500|       106|       Shoes|\n",
            "+-----------+-----+----------+------------+\n",
            "\n"
          ]
        }
      ]
    },
    {
      "cell_type": "markdown",
      "source": [
        "**Part G – Visualization (in Colab)**\n",
        "\n",
        "21. Convert PySpark DataFrame → Pandas ( toPandas() ).\n",
        "22. Plot Revenue by Category as a bar chart.\n",
        "23. Plot Number of Orders per Month as a line chart.\n",
        "24. Plot Revenue vs Quantity as a scatter plot."
      ],
      "metadata": {
        "id": "ebcx0YA1N6ub"
      }
    },
    {
      "cell_type": "code",
      "source": [
        "import matplotlib.pyplot as plt\n",
        "import seaborn as sns\n",
        "sns.set(style=\"whitegrid\")\n",
        "\n",
        "orders_pd = orders_df.toPandas()\n",
        "products_pd = products_df.toPandas()\n",
        "customers_pd = customers_df.toPandas()\n",
        "\n",
        "# Join for full order info\n",
        "orders_full = orders_with_price.toPandas()"
      ],
      "metadata": {
        "id": "QmD5m9btNw0E"
      },
      "execution_count": 23,
      "outputs": []
    },
    {
      "cell_type": "code",
      "source": [
        "rev_cat = orders_with_price.withColumn(\"revenue\", col(\"price\") * col(\"quantity\")) \\\n",
        "    .groupBy(\"category\").sum(\"revenue\").toPandas()\n",
        "\n",
        "rev_cat.plot(kind=\"bar\", x=\"category\", y=\"sum(revenue)\", legend=False)\n",
        "plt.ylabel(\"Revenue\")\n",
        "plt.title(\"Revenue by Product Category\")\n",
        "plt.xticks(rotation=45)\n",
        "plt.tight_layout()\n",
        "plt.show()"
      ],
      "metadata": {
        "colab": {
          "base_uri": "https://localhost:8080/",
          "height": 480
        },
        "id": "fzuIdKDgNwum",
        "outputId": "0c8373d7-90b8-4c57-d6ba-08db7faa8459"
      },
      "execution_count": 25,
      "outputs": [
        {
          "output_type": "display_data",
          "data": {
            "text/plain": [
              "<Figure size 640x480 with 1 Axes>"
            ],
            "image/png": "[encoded data removed]"
          },
          "metadata": {}
        }
      ]
    },
    {
      "cell_type": "code",
      "source": [
        "from pyspark.sql.functions import month, to_date\n",
        "\n",
        "orders_month = orders_df.withColumn(\"month\", month(to_date(\"order_date\", \"yyyy-MM-dd\"))) \\\n",
        "    .groupBy(\"month\").count().orderBy(\"month\").toPandas()\n",
        "\n",
        "orders_month.plot(x=\"month\", y=\"count\", kind=\"line\", marker='o')\n",
        "plt.title(\"Number of Orders per Month\")\n",
        "plt.xlabel(\"Month\")\n",
        "plt.ylabel(\"Orders Count\")\n",
        "plt.grid(True)\n",
        "plt.xticks(orders_month[\"month\"])\n",
        "plt.show()"
      ],
      "metadata": {
        "colab": {
          "base_uri": "https://localhost:8080/",
          "height": 480
        },
        "id": "UoTrGsZ6Nwpq",
        "outputId": "66af0725-07e3-48f3-ffee-8633f49cc0d2"
      },
      "execution_count": 26,
      "outputs": [
        {
          "output_type": "display_data",
          "data": {
            "text/plain": [
              "<Figure size 640x480 with 1 Axes>"
            ],
            "image/png": "[encoded data removed]"
          },
          "metadata": {}
        }
      ]
    },
    {
      "cell_type": "code",
      "source": [
        "# Calculate revenue in the Pandas DataFrame\n",
        "orders_full['revenue'] = orders_full['price'] * orders_full['quantity']\n",
        "\n",
        "plt.figure(figsize=(8,5))\n",
        "plt.scatter(orders_full[\"quantity\"], orders_full[\"revenue\"], alpha=0.7, color=\"teal\", edgecolors=\"k\")\n",
        "plt.title(\"Revenue vs Quantity\")\n",
        "plt.xlabel(\"Quantity\")\n",
        "plt.ylabel(\"Revenue\")\n",
        "plt.grid(True)\n",
        "plt.tight_layout()\n",
        "plt.show()"
      ],
      "metadata": {
        "colab": {
          "base_uri": "https://localhost:8080/",
          "height": 501
        },
        "id": "qPVe4annNwaA",
        "outputId": "fa087dc0-fd3a-484b-a4f0-1927756aaca0"
      },
      "execution_count": 31,
      "outputs": [
        {
          "output_type": "display_data",
          "data": {
            "text/plain": [
              "<Figure size 800x500 with 1 Axes>"
            ],
            "image/png": "[encoded data removed]"
          },
          "metadata": {}
        }
      ]
    }
  ]
}