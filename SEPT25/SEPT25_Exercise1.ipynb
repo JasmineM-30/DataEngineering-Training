{
  "nbformat": 4,
  "nbformat_minor": 0,
  "metadata": {
    "colab": {
      "provenance": []
    },
    "kernelspec": {
      "name": "python3",
      "display_name": "Python 3"
    },
    "language_info": {
      "name": "python"
    }
  },
  "cells": [
    {
      "cell_type": "markdown",
      "source": [
        "# **E-Commerce Analytics with PySpark**"
      ],
      "metadata": {
        "id": "R-yX5-PExBHv"
      }
    },
    {
      "cell_type": "markdown",
      "source": [
        "**Create DataFrames**"
      ],
      "metadata": {
        "id": "p3LmRvJGxM4E"
      }
    },
    {
      "cell_type": "code",
      "execution_count": 1,
      "metadata": {
        "colab": {
          "base_uri": "https://localhost:8080/"
        },
        "id": "VslGxUiBw9Rv",
        "outputId": "19558d7f-1d72-4288-95e1-9a4912d575a1"
      },
      "outputs": [
        {
          "output_type": "stream",
          "name": "stdout",
          "text": [
            "+-----------+------------+---------+---+\n",
            "|customer_id|        name|     city|age|\n",
            "+-----------+------------+---------+---+\n",
            "|          1|Rahul Sharma|Bangalore| 28|\n",
            "|          2| Priya Singh|    Delhi| 32|\n",
            "|          3|  Aman Kumar|Hyderabad| 25|\n",
            "|          4| Sneha Reddy|  Chennai| 35|\n",
            "|          5| Arjun Mehta|   Mumbai| 30|\n",
            "|          6|  Divya Nair|    Delhi| 29|\n",
            "+-----------+------------+---------+---+\n",
            "\n",
            "+----------+------------+-----------+-----+\n",
            "|product_id|product_name|   category|price|\n",
            "+----------+------------+-----------+-----+\n",
            "|       101|      Laptop|Electronics|55000|\n",
            "|       102|      Mobile|Electronics|25000|\n",
            "|       103|  Headphones|Electronics| 3000|\n",
            "|       104|       Chair|  Furniture| 5000|\n",
            "|       105|        Book| Stationery|  700|\n",
            "|       106|       Shoes|    Fashion| 2500|\n",
            "+----------+------------+-----------+-----+\n",
            "\n",
            "+--------+-----------+----------+--------+\n",
            "|order_id|customer_id|product_id|quantity|\n",
            "+--------+-----------+----------+--------+\n",
            "|    1001|          1|       101|       1|\n",
            "|    1002|          2|       102|       2|\n",
            "|    1003|          1|       103|       3|\n",
            "|    1004|          3|       104|       1|\n",
            "|    1005|          5|       105|       5|\n",
            "|    1006|          6|       106|       2|\n",
            "|    1007|          7|       101|       1|\n",
            "+--------+-----------+----------+--------+\n",
            "\n"
          ]
        }
      ],
      "source": [
        "from pyspark.sql import SparkSession\n",
        "spark = SparkSession.builder.appName(\"ECommerce-Capstone\").getOrCreate()\n",
        "# Customers\n",
        "customers_data = [\n",
        "(1, \"Rahul Sharma\", \"Bangalore\", 28),\n",
        "(2, \"Priya Singh\", \"Delhi\", 32),\n",
        "(3, \"Aman Kumar\", \"Hyderabad\", 25),\n",
        "(4, \"Sneha Reddy\", \"Chennai\", 35),\n",
        "(5, \"Arjun Mehta\", \"Mumbai\", 30),\n",
        "(6, \"Divya Nair\", \"Delhi\", 29)\n",
        "]\n",
        "customers_cols = [\"customer_id\", \"name\", \"city\", \"age\"]\n",
        "customers_df = spark.createDataFrame(customers_data, customers_cols)\n",
        "# Products\n",
        "products_data = [\n",
        "(101, \"Laptop\", \"Electronics\", 55000),\n",
        "(102, \"Mobile\", \"Electronics\", 25000),\n",
        "(103, \"Headphones\", \"Electronics\", 3000),\n",
        "(104, \"Chair\", \"Furniture\", 5000),\n",
        "(105, \"Book\", \"Stationery\", 700),\n",
        "(106, \"Shoes\", \"Fashion\", 2500)\n",
        "]\n",
        "products_cols = [\"product_id\", \"product_name\", \"category\", \"price\"]\n",
        "products_df = spark.createDataFrame(products_data, products_cols)\n",
        "# Orders\n",
        "orders_data = [\n",
        "(1001, 1, 101, 1),\n",
        "(1002, 2, 102, 2),\n",
        "(1003, 1, 103, 3),\n",
        "(1004, 3, 104, 1),\n",
        "(1005, 5, 105, 5),\n",
        "(1006, 6, 106, 2),\n",
        "(1007, 7, 101, 1) # Order with non-existent customer\n",
        "]\n",
        "orders_cols = [\"order_id\", \"customer_id\", \"product_id\", \"quantity\"]\n",
        "orders_df = spark.createDataFrame(orders_data, orders_cols)\n",
        "customers_df.show()\n",
        "products_df.show()\n",
        "orders_df.show()"
      ]
    },
    {
      "cell_type": "markdown",
      "source": [
        "**Exercises**"
      ],
      "metadata": {
        "id": "0ntkFdHYxwqw"
      }
    },
    {
      "cell_type": "markdown",
      "source": [
        "**Basic Operations**\n",
        "1. Select all customer names and their cities.\n",
        "2. List all distinct product categories.\n",
        "3. Filter customers older than 30."
      ],
      "metadata": {
        "id": "EyCZx9jvxyMp"
      }
    },
    {
      "cell_type": "code",
      "source": [
        "customers_df.select(\"name\", \"city\").show()"
      ],
      "metadata": {
        "colab": {
          "base_uri": "https://localhost:8080/"
        },
        "id": "Q59mRtm-xqoj",
        "outputId": "18fdad5b-3290-4094-9282-5351684d1cb0"
      },
      "execution_count": 2,
      "outputs": [
        {
          "output_type": "stream",
          "name": "stdout",
          "text": [
            "+------------+---------+\n",
            "|        name|     city|\n",
            "+------------+---------+\n",
            "|Rahul Sharma|Bangalore|\n",
            "| Priya Singh|    Delhi|\n",
            "|  Aman Kumar|Hyderabad|\n",
            "| Sneha Reddy|  Chennai|\n",
            "| Arjun Mehta|   Mumbai|\n",
            "|  Divya Nair|    Delhi|\n",
            "+------------+---------+\n",
            "\n"
          ]
        }
      ]
    },
    {
      "cell_type": "code",
      "source": [
        "products_df.select(\"category\").distinct().show()"
      ],
      "metadata": {
        "colab": {
          "base_uri": "https://localhost:8080/"
        },
        "id": "3dbKM4Jcx4fz",
        "outputId": "8f19c87a-eeac-4f85-e3ae-376ffad6b045"
      },
      "execution_count": 3,
      "outputs": [
        {
          "output_type": "stream",
          "name": "stdout",
          "text": [
            "+-----------+\n",
            "|   category|\n",
            "+-----------+\n",
            "|Electronics|\n",
            "| Stationery|\n",
            "|    Fashion|\n",
            "|  Furniture|\n",
            "+-----------+\n",
            "\n"
          ]
        }
      ]
    },
    {
      "cell_type": "code",
      "source": [
        "customers_df.filter(customers_df.age > 30).show()"
      ],
      "metadata": {
        "colab": {
          "base_uri": "https://localhost:8080/"
        },
        "id": "5oDIYvsex4nl",
        "outputId": "d1e2ed72-73a1-4e8a-edf4-f19f4dd299f0"
      },
      "execution_count": 4,
      "outputs": [
        {
          "output_type": "stream",
          "name": "stdout",
          "text": [
            "+-----------+-----------+-------+---+\n",
            "|customer_id|       name|   city|age|\n",
            "+-----------+-----------+-------+---+\n",
            "|          2|Priya Singh|  Delhi| 32|\n",
            "|          4|Sneha Reddy|Chennai| 35|\n",
            "+-----------+-----------+-------+---+\n",
            "\n"
          ]
        }
      ]
    },
    {
      "cell_type": "markdown",
      "source": [
        "**Aggregations**\n",
        "\n",
        "4. Find the total number of orders placed per customer.\n",
        "5. Find the average age of customers per city.\n",
        "6. Calculate the total revenue generated from each product."
      ],
      "metadata": {
        "id": "iyl4zzKEyKJf"
      }
    },
    {
      "cell_type": "code",
      "source": [
        "from pyspark.sql.functions import count\n",
        "\n",
        "orders_df.groupBy(\"customer_id\").agg(count(\"*\").alias(\"total_orders\")).show()"
      ],
      "metadata": {
        "colab": {
          "base_uri": "https://localhost:8080/"
        },
        "id": "vFGZ5GUex4va",
        "outputId": "e5a58ad8-452e-48c0-e437-c42f1078113f"
      },
      "execution_count": 5,
      "outputs": [
        {
          "output_type": "stream",
          "name": "stdout",
          "text": [
            "+-----------+------------+\n",
            "|customer_id|total_orders|\n",
            "+-----------+------------+\n",
            "|          1|           2|\n",
            "|          2|           1|\n",
            "|          7|           1|\n",
            "|          6|           1|\n",
            "|          5|           1|\n",
            "|          3|           1|\n",
            "+-----------+------------+\n",
            "\n"
          ]
        }
      ]
    },
    {
      "cell_type": "code",
      "source": [
        "from pyspark.sql.functions import avg\n",
        "\n",
        "customers_df.groupBy(\"city\").agg(avg(\"age\").alias(\"avg_age\")).show()"
      ],
      "metadata": {
        "colab": {
          "base_uri": "https://localhost:8080/"
        },
        "id": "cfdZfQ6iyREd",
        "outputId": "36a29e94-5b5d-4b53-ae34-8604b8430862"
      },
      "execution_count": 6,
      "outputs": [
        {
          "output_type": "stream",
          "name": "stdout",
          "text": [
            "+---------+-------+\n",
            "|     city|avg_age|\n",
            "+---------+-------+\n",
            "|Bangalore|   28.0|\n",
            "|    Delhi|   30.5|\n",
            "|Hyderabad|   25.0|\n",
            "|  Chennai|   35.0|\n",
            "|   Mumbai|   30.0|\n",
            "+---------+-------+\n",
            "\n"
          ]
        }
      ]
    },
    {
      "cell_type": "code",
      "source": [
        "from pyspark.sql.functions import col, sum\n",
        "\n",
        "orders_products_df = orders_df.join(products_df, \"product_id\")\n",
        "orders_products_df.withColumn(\"revenue\", col(\"quantity\") * col(\"price\")) \\\n",
        "    .groupBy(\"product_id\", \"product_name\") \\\n",
        "    .agg(sum(\"revenue\").alias(\"total_revenue\")) \\\n",
        "    .show()"
      ],
      "metadata": {
        "colab": {
          "base_uri": "https://localhost:8080/"
        },
        "id": "mqK4ooclyRK-",
        "outputId": "4092f410-b043-4de4-c551-da4ae37be81b"
      },
      "execution_count": 7,
      "outputs": [
        {
          "output_type": "stream",
          "name": "stdout",
          "text": [
            "+----------+------------+-------------+\n",
            "|product_id|product_name|total_revenue|\n",
            "+----------+------------+-------------+\n",
            "|       101|      Laptop|       110000|\n",
            "|       102|      Mobile|        50000|\n",
            "|       103|  Headphones|         9000|\n",
            "|       104|       Chair|         5000|\n",
            "|       105|        Book|         3500|\n",
            "|       106|       Shoes|         5000|\n",
            "+----------+------------+-------------+\n",
            "\n"
          ]
        }
      ]
    },
    {
      "cell_type": "markdown",
      "source": [
        "**Joins**\n",
        "\n",
        "7. Join customers with orders to list which customer bought what.\n",
        "8. Join orders with products to get order details with product name and price.\n",
        "9. Find all customers who have never placed an order.\n",
        "10. Find all products that have never been ordered."
      ],
      "metadata": {
        "id": "CDZGi3Rsyli3"
      }
    },
    {
      "cell_type": "code",
      "source": [
        "customers_orders_df = orders_df.join(customers_df, \"customer_id\")\n",
        "customers_orders_df.select(\"name\", \"order_id\", \"product_id\", \"quantity\").show()"
      ],
      "metadata": {
        "colab": {
          "base_uri": "https://localhost:8080/"
        },
        "id": "gVa543PGysbR",
        "outputId": "6879432d-9cc2-4a46-f616-332d1fa75442"
      },
      "execution_count": 8,
      "outputs": [
        {
          "output_type": "stream",
          "name": "stdout",
          "text": [
            "+------------+--------+----------+--------+\n",
            "|        name|order_id|product_id|quantity|\n",
            "+------------+--------+----------+--------+\n",
            "|Rahul Sharma|    1001|       101|       1|\n",
            "|Rahul Sharma|    1003|       103|       3|\n",
            "| Priya Singh|    1002|       102|       2|\n",
            "|  Aman Kumar|    1004|       104|       1|\n",
            "| Arjun Mehta|    1005|       105|       5|\n",
            "|  Divya Nair|    1006|       106|       2|\n",
            "+------------+--------+----------+--------+\n",
            "\n"
          ]
        }
      ]
    },
    {
      "cell_type": "code",
      "source": [
        "orders_products_df = orders_df.join(products_df, \"product_id\")\n",
        "orders_products_df.select(\"order_id\", \"product_name\", \"price\", \"quantity\").show()"
      ],
      "metadata": {
        "colab": {
          "base_uri": "https://localhost:8080/"
        },
        "id": "FCtTSLB8ysmc",
        "outputId": "00f58ef2-273e-4ca9-b7fa-5446fd159bb9"
      },
      "execution_count": 9,
      "outputs": [
        {
          "output_type": "stream",
          "name": "stdout",
          "text": [
            "+--------+------------+-----+--------+\n",
            "|order_id|product_name|price|quantity|\n",
            "+--------+------------+-----+--------+\n",
            "|    1001|      Laptop|55000|       1|\n",
            "|    1007|      Laptop|55000|       1|\n",
            "|    1002|      Mobile|25000|       2|\n",
            "|    1003|  Headphones| 3000|       3|\n",
            "|    1004|       Chair| 5000|       1|\n",
            "|    1005|        Book|  700|       5|\n",
            "|    1006|       Shoes| 2500|       2|\n",
            "+--------+------------+-----+--------+\n",
            "\n"
          ]
        }
      ]
    },
    {
      "cell_type": "code",
      "source": [
        "customers_df.join(orders_df, \"customer_id\", \"left_anti\").show()"
      ],
      "metadata": {
        "colab": {
          "base_uri": "https://localhost:8080/"
        },
        "id": "FcXtaW3Eysst",
        "outputId": "66b92250-1cfc-4a2d-ab74-d3cc0a1db3dc"
      },
      "execution_count": 10,
      "outputs": [
        {
          "output_type": "stream",
          "name": "stdout",
          "text": [
            "+-----------+-----------+-------+---+\n",
            "|customer_id|       name|   city|age|\n",
            "+-----------+-----------+-------+---+\n",
            "|          4|Sneha Reddy|Chennai| 35|\n",
            "+-----------+-----------+-------+---+\n",
            "\n"
          ]
        }
      ]
    },
    {
      "cell_type": "code",
      "source": [
        "products_df.join(orders_df, \"product_id\", \"left_anti\").show()"
      ],
      "metadata": {
        "colab": {
          "base_uri": "https://localhost:8080/"
        },
        "id": "qi0dGKLbyszu",
        "outputId": "3ce8386d-908d-4f9f-b74b-47be1e335a68"
      },
      "execution_count": 11,
      "outputs": [
        {
          "output_type": "stream",
          "name": "stdout",
          "text": [
            "+----------+------------+--------+-----+\n",
            "|product_id|product_name|category|price|\n",
            "+----------+------------+--------+-----+\n",
            "+----------+------------+--------+-----+\n",
            "\n"
          ]
        }
      ]
    },
    {
      "cell_type": "markdown",
      "source": [
        "**Sorting & Grouping**\n",
        "\n",
        "11. Show the top 3 most expensive products purchased.\n",
        "12. Group orders by category and calculate total revenue per category.\n",
        "13. List customers sorted by total money spent (highest first)."
      ],
      "metadata": {
        "id": "71TncHL7zFTc"
      }
    },
    {
      "cell_type": "code",
      "source": [
        "products_df.orderBy(col(\"price\").desc()).limit(3).show()"
      ],
      "metadata": {
        "colab": {
          "base_uri": "https://localhost:8080/"
        },
        "id": "ws1SNMBlzJ-Z",
        "outputId": "28ca739f-3df1-4fba-e8a2-71e41e0d9943"
      },
      "execution_count": 12,
      "outputs": [
        {
          "output_type": "stream",
          "name": "stdout",
          "text": [
            "+----------+------------+-----------+-----+\n",
            "|product_id|product_name|   category|price|\n",
            "+----------+------------+-----------+-----+\n",
            "|       101|      Laptop|Electronics|55000|\n",
            "|       102|      Mobile|Electronics|25000|\n",
            "|       104|       Chair|  Furniture| 5000|\n",
            "+----------+------------+-----------+-----+\n",
            "\n"
          ]
        }
      ]
    },
    {
      "cell_type": "code",
      "source": [
        "orders_products_df = orders_df.join(products_df, \"product_id\")\n",
        "orders_products_df.withColumn(\"revenue\", col(\"quantity\") * col(\"price\")) \\\n",
        "    .groupBy(\"category\") \\\n",
        "    .agg(sum(\"revenue\").alias(\"total_revenue\")) \\\n",
        "    .show()"
      ],
      "metadata": {
        "colab": {
          "base_uri": "https://localhost:8080/"
        },
        "id": "VSky-WLGzLKc",
        "outputId": "b825e665-2506-40fe-d5d4-795f86a43ac5"
      },
      "execution_count": 13,
      "outputs": [
        {
          "output_type": "stream",
          "name": "stdout",
          "text": [
            "+-----------+-------------+\n",
            "|   category|total_revenue|\n",
            "+-----------+-------------+\n",
            "| Stationery|         3500|\n",
            "|    Fashion|         5000|\n",
            "|Electronics|       169000|\n",
            "|  Furniture|         5000|\n",
            "+-----------+-------------+\n",
            "\n"
          ]
        }
      ]
    },
    {
      "cell_type": "code",
      "source": [
        "orders_products_customers_df = orders_df \\\n",
        "    .join(products_df, \"product_id\") \\\n",
        "    .join(customers_df, \"customer_id\")\n",
        "\n",
        "orders_products_customers_df.withColumn(\"total_spent\", col(\"quantity\") * col(\"price\")) \\\n",
        "    .groupBy(\"customer_id\", \"name\") \\\n",
        "    .agg(sum(\"total_spent\").alias(\"total_spent\")) \\\n",
        "    .orderBy(col(\"total_spent\").desc()) \\\n",
        "    .show()"
      ],
      "metadata": {
        "colab": {
          "base_uri": "https://localhost:8080/"
        },
        "id": "VCTq6qvbzKlu",
        "outputId": "3087ab30-bfef-4ce0-a93c-bd87bdb8e57d"
      },
      "execution_count": 14,
      "outputs": [
        {
          "output_type": "stream",
          "name": "stdout",
          "text": [
            "+-----------+------------+-----------+\n",
            "|customer_id|        name|total_spent|\n",
            "+-----------+------------+-----------+\n",
            "|          1|Rahul Sharma|      64000|\n",
            "|          2| Priya Singh|      50000|\n",
            "|          3|  Aman Kumar|       5000|\n",
            "|          6|  Divya Nair|       5000|\n",
            "|          5| Arjun Mehta|       3500|\n",
            "+-----------+------------+-----------+\n",
            "\n"
          ]
        }
      ]
    },
    {
      "cell_type": "markdown",
      "source": [
        "**SQL Queries**\n",
        "\n",
        "14. Register all three DataFrames as temp views(customers , products , orders).\n",
        "15. Write a query to find the top 2 cities by total revenue.\n",
        "16. Write a query to find customers who spent more than\n",
        "50,000 in total.\n",
        "17. Write a query to find which product category contributes the most revenue."
      ],
      "metadata": {
        "id": "qUYEjL5BzYyV"
      }
    },
    {
      "cell_type": "code",
      "source": [
        "customers_df.createOrReplaceTempView(\"customers\")\n",
        "products_df.createOrReplaceTempView(\"products\")\n",
        "orders_df.createOrReplaceTempView(\"orders\")"
      ],
      "metadata": {
        "id": "34lVWLOYzKY9"
      },
      "execution_count": 15,
      "outputs": []
    },
    {
      "cell_type": "code",
      "source": [
        "spark.sql(\"\"\"\n",
        "    SELECT c.city, SUM(p.price * o.quantity) AS total_revenue\n",
        "    FROM customers c\n",
        "    JOIN orders o ON c.customer_id = o.customer_id\n",
        "    JOIN products p ON o.product_id = p.product_id\n",
        "    GROUP BY c.city\n",
        "    ORDER BY total_revenue DESC\n",
        "    LIMIT 2\n",
        "\"\"\").show()"
      ],
      "metadata": {
        "colab": {
          "base_uri": "https://localhost:8080/"
        },
        "id": "9dMndyAtzhVP",
        "outputId": "2a254d49-cfe1-4c5a-a841-b71b0787a8c3"
      },
      "execution_count": 16,
      "outputs": [
        {
          "output_type": "stream",
          "name": "stdout",
          "text": [
            "+---------+-------------+\n",
            "|     city|total_revenue|\n",
            "+---------+-------------+\n",
            "|Bangalore|        64000|\n",
            "|    Delhi|        55000|\n",
            "+---------+-------------+\n",
            "\n"
          ]
        }
      ]
    },
    {
      "cell_type": "code",
      "source": [
        "spark.sql(\"\"\"\n",
        "    SELECT c.customer_id, c.name, SUM(p.price * o.quantity) AS total_spent\n",
        "    FROM customers c\n",
        "    JOIN orders o ON c.customer_id = o.customer_id\n",
        "    JOIN products p ON o.product_id = p.product_id\n",
        "    GROUP BY c.customer_id, c.name\n",
        "    HAVING total_spent > 50000\n",
        "\"\"\").show()"
      ],
      "metadata": {
        "colab": {
          "base_uri": "https://localhost:8080/"
        },
        "id": "GzbKb5A1zheV",
        "outputId": "e33a2577-663c-4850-eedd-9a4020faaae8"
      },
      "execution_count": 17,
      "outputs": [
        {
          "output_type": "stream",
          "name": "stdout",
          "text": [
            "+-----------+------------+-----------+\n",
            "|customer_id|        name|total_spent|\n",
            "+-----------+------------+-----------+\n",
            "|          1|Rahul Sharma|      64000|\n",
            "+-----------+------------+-----------+\n",
            "\n"
          ]
        }
      ]
    },
    {
      "cell_type": "code",
      "source": [
        "spark.sql(\"\"\"\n",
        "    SELECT p.category, SUM(p.price * o.quantity) AS total_revenue\n",
        "    FROM products p\n",
        "    JOIN orders o ON p.product_id = o.product_id\n",
        "    GROUP BY p.category\n",
        "    ORDER BY total_revenue DESC\n",
        "    LIMIT 1\n",
        "\"\"\").show()"
      ],
      "metadata": {
        "colab": {
          "base_uri": "https://localhost:8080/"
        },
        "id": "fZx_RzLxzhpR",
        "outputId": "958c1f28-da70-4cdf-de6c-e415d3bbb1b2"
      },
      "execution_count": 18,
      "outputs": [
        {
          "output_type": "stream",
          "name": "stdout",
          "text": [
            "+-----------+-------------+\n",
            "|   category|total_revenue|\n",
            "+-----------+-------------+\n",
            "|Electronics|       169000|\n",
            "+-----------+-------------+\n",
            "\n"
          ]
        }
      ]
    }
  ]
}