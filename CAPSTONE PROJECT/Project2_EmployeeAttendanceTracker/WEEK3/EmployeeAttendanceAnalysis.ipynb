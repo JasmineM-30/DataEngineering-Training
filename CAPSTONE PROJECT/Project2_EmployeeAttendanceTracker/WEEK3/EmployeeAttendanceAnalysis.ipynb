{
  "nbformat": 4,
  "nbformat_minor": 0,
  "metadata": {
    "colab": {
      "provenance": []
    },
    "kernelspec": {
      "name": "python3",
      "display_name": "Python 3"
    },
    "language_info": {
      "name": "python"
    }
  },
  "cells": [
    {
      "cell_type": "code",
      "execution_count": 1,
      "metadata": {
        "id": "AxFKM7mM_w4G"
      },
      "outputs": [],
      "source": [
        "from pyspark.sql import SparkSession\n",
        "from pyspark.sql.functions import col, avg, sum, count, when, hour, to_timestamp, trim\n",
        "\n",
        "# Step 1: Launch Spark session\n",
        "spark = SparkSession.builder.appName(\"EmployeeAttendanceProductivity\").getOrCreate()"
      ]
    },
    {
      "cell_type": "code",
      "source": [
        "# Step 2: Load large attendance log (CSV file)\n",
        "df = spark.read.csv(\"attendance_clean.csv\", header=True, inferSchema=True)"
      ],
      "metadata": {
        "id": "ack3vJCHABvv"
      },
      "execution_count": 2,
      "outputs": []
    },
    {
      "cell_type": "code",
      "source": [
        "# Trim whitespace in status for accurate matching\n",
        "df = df.withColumn(\"status\", trim(col(\"status\")))"
      ],
      "metadata": {
        "id": "qXeMGOPtABz3"
      },
      "execution_count": 3,
      "outputs": []
    },
    {
      "cell_type": "code",
      "source": [
        "# Convert clockin, clockout columns to timestamp type\n",
        "df = df.withColumn(\"clockin\", to_timestamp(col(\"clockin\"))) \\\n",
        "       .withColumn(\"clockout\", to_timestamp(col(\"clockout\")))\n",
        "\n",
        "# Calculate late login flag for clockin after 9:30AM\n",
        "df = df.withColumn(\n",
        "    \"is_late\",\n",
        "    when(hour(\"clockin\") > 9, 1)\n",
        "     .when((hour(\"clockin\") == 9) & (col(\"clockin\").substr(15, 2).cast(\"int\") > 30), 1)\n",
        "     .otherwise(0)\n",
        ")"
      ],
      "metadata": {
        "id": "InT7_xcnAB3P"
      },
      "execution_count": 4,
      "outputs": []
    },
    {
      "cell_type": "code",
      "source": [
        "# Mark absences, considering null, empty, or various case values for 'Absent'\n",
        "df = df.withColumn(\n",
        "    \"is_absent\",\n",
        "    when(\n",
        "        (col(\"status\").isNull()) |\n",
        "        (col(\"status\") == \"\") |\n",
        "        (col(\"status\").rlike(\"(?i)absent\")),\n",
        "        1).otherwise(0)\n",
        ")"
      ],
      "metadata": {
        "id": "HCoMiNWJAB6o"
      },
      "execution_count": 5,
      "outputs": []
    },
    {
      "cell_type": "code",
      "source": [
        "# Calculate work hours difference in decimals (null if absent)\n",
        "df = df.withColumn(\n",
        "    \"workhours\",\n",
        "    (col(\"clockout\").cast(\"long\") - col(\"clockin\").cast(\"long\")) / 3600\n",
        ")"
      ],
      "metadata": {
        "id": "9G902a2bAB9f"
      },
      "execution_count": 6,
      "outputs": []
    },
    {
      "cell_type": "code",
      "source": [
        "# Group by department and aggregate metrics\n",
        "dept_metrics = df.groupBy(\"department\").agg(\n",
        "    avg(\"workhours\").alias(\"avg_workhours\"),\n",
        "    avg(\"taskscompleted\").alias(\"avg_taskscompleted\"),\n",
        "    sum(\"is_late\").alias(\"total_late_logins\"),\n",
        "    sum(\"is_absent\").alias(\"total_absences\"),\n",
        "    avg(\"is_late\").alias(\"late_login_ratio\"),\n",
        "    avg(\"is_absent\").alias(\"absent_ratio\")\n",
        ")"
      ],
      "metadata": {
        "id": "sEurnm8bAXvz"
      },
      "execution_count": 7,
      "outputs": []
    },
    {
      "cell_type": "code",
      "source": [
        "print(\"Department-level Attendance and Productivity Summary:\")\n",
        "dept_metrics.show(truncate=False)\n",
        "\n",
        "print(\"Departments with High Lateness or Absence:\")\n",
        "dept_metrics.filter((col(\"late_login_ratio\") > 0.1) | (col(\"absent_ratio\") > 0.1)).show(truncate=False)"
      ],
      "metadata": {
        "colab": {
          "base_uri": "https://localhost:8080/"
        },
        "id": "VDik5J81AX0c",
        "outputId": "24b86808-3d58-47e0-a804-507762d5de3f"
      },
      "execution_count": 8,
      "outputs": [
        {
          "output_type": "stream",
          "name": "stdout",
          "text": [
            "Department-level Attendance and Productivity Summary:\n",
            "+----------+-----------------+------------------+-----------------+--------------+----------------+------------+\n",
            "|department|avg_workhours    |avg_taskscompleted|total_late_logins|total_absences|late_login_ratio|absent_ratio|\n",
            "+----------+-----------------+------------------+-----------------+--------------+----------------+------------+\n",
            "|HR        |8.583333333333332|4.5               |0                |0             |0.0             |0.0         |\n",
            "|Finance   |8.0              |2.0               |0                |1             |0.0             |0.5         |\n",
            "|Marketing |8.166666666666666|2.0               |0                |1             |0.0             |0.5         |\n",
            "|IT        |8.611111111111112|4.0               |0                |0             |0.0             |0.0         |\n",
            "+----------+-----------------+------------------+-----------------+--------------+----------------+------------+\n",
            "\n",
            "Departments with High Lateness or Absence:\n",
            "+----------+-----------------+------------------+-----------------+--------------+----------------+------------+\n",
            "|department|avg_workhours    |avg_taskscompleted|total_late_logins|total_absences|late_login_ratio|absent_ratio|\n",
            "+----------+-----------------+------------------+-----------------+--------------+----------------+------------+\n",
            "|Finance   |8.0              |2.0               |0                |1             |0.0             |0.5         |\n",
            "|Marketing |8.166666666666666|2.0               |0                |1             |0.0             |0.5         |\n",
            "+----------+-----------------+------------------+-----------------+--------------+----------------+------------+\n",
            "\n"
          ]
        }
      ]
    },
    {
      "cell_type": "code",
      "source": [
        "# Stop Spark session\n",
        "spark.stop()"
      ],
      "metadata": {
        "id": "Jsr35UMjAidL"
      },
      "execution_count": 9,
      "outputs": []
    }
  ]
}