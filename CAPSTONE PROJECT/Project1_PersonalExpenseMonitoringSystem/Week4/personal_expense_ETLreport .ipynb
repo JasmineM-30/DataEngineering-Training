{
 "cells": [
  {
   "cell_type": "code",
   "execution_count": 0,
   "metadata": {
    "application/vnd.databricks.v1+cell": {
     "cellMetadata": {
      "byteLimit": 2048000,
      "rowLimit": 10000
     },
     "inputWidgets": {},
     "nuid": "b615cef9-ac2b-40fe-8128-24c368d6d92e",
     "showTitle": false,
     "tableResultSettingsMap": {},
     "title": ""
    }
   },
   "outputs": [
    {
     "output_type": "display_data",
     "data": {
      "text/html": [
       "<style scoped>\n",
       "  .table-result-container {\n",
       "    max-height: 300px;\n",
       "    overflow: auto;\n",
       "  }\n",
       "  table, th, td {\n",
       "    border: 1px solid black;\n",
       "    border-collapse: collapse;\n",
       "  }\n",
       "  th, td {\n",
       "    padding: 5px;\n",
       "  }\n",
       "  th {\n",
       "    text-align: left;\n",
       "  }\n",
       "</style><div class='table-result-container'><table class='table-result'><thead style='background-color: white'><tr><th>user_id</th><th>username</th><th>year</th><th>month</th><th>monthly_spend</th><th>avg_expense</th><th>large_expense_count</th><th>monthly_budget</th><th>monthly_savings</th><th>spend_alert</th></tr></thead><tbody><tr><td>1</td><td>alice</td><td>2025</td><td>9</td><td>161.05</td><td>40.2625</td><td>0</td><td>500</td><td>338.95</td><td>0</td></tr><tr><td>2</td><td>bob</td><td>2025</td><td>9</td><td>63.5</td><td>31.75</td><td>0</td><td>600</td><td>536.5</td><td>0</td></tr><tr><td>3</td><td>carol</td><td>2025</td><td>9</td><td>150.0</td><td>75.0</td><td>0</td><td>450</td><td>300.0</td><td>0</td></tr><tr><td>4</td><td>dave</td><td>2025</td><td>9</td><td>95.0</td><td>47.5</td><td>0</td><td>550</td><td>455.0</td><td>0</td></tr><tr><td>5</td><td>emily</td><td>2025</td><td>9</td><td>120.5</td><td>60.25</td><td>0</td><td>500</td><td>379.5</td><td>0</td></tr><tr><td>6</td><td>frank</td><td>2025</td><td>9</td><td>300.0</td><td>300.0</td><td>0</td><td>700</td><td>400.0</td><td>0</td></tr></tbody></table></div>"
      ]
     },
     "metadata": {
      "application/vnd.databricks.v1+output": {
       "addedWidgets": {},
       "aggData": [],
       "aggError": "",
       "aggOverflow": false,
       "aggSchema": [],
       "aggSeriesLimitReached": false,
       "aggType": "",
       "arguments": {},
       "columnCustomDisplayInfos": {},
       "data": [
        [
         1,
         "alice",
         2025,
         9,
         161.05,
         40.2625,
         0,
         500,
         338.95,
         0
        ],
        [
         2,
         "bob",
         2025,
         9,
         63.5,
         31.75,
         0,
         600,
         536.5,
         0
        ],
        [
         3,
         "carol",
         2025,
         9,
         150.0,
         75.0,
         0,
         450,
         300.0,
         0
        ],
        [
         4,
         "dave",
         2025,
         9,
         95.0,
         47.5,
         0,
         550,
         455.0,
         0
        ],
        [
         5,
         "emily",
         2025,
         9,
         120.5,
         60.25,
         0,
         500,
         379.5,
         0
        ],
        [
         6,
         "frank",
         2025,
         9,
         300.0,
         300.0,
         0,
         700,
         400.0,
         0
        ]
       ],
       "datasetInfos": [],
       "dbfsResultPath": null,
       "isJsonSchema": true,
       "metadata": {},
       "overflow": false,
       "plotOptions": {
        "customPlotOptions": {},
        "displayType": "table",
        "pivotAggregation": null,
        "pivotColumns": null,
        "xColumns": null,
        "yColumns": null
       },
       "removedWidgets": [],
       "schema": [
        {
         "metadata": "{}",
         "name": "user_id",
         "type": "\"integer\""
        },
        {
         "metadata": "{}",
         "name": "username",
         "type": "\"string\""
        },
        {
         "metadata": "{}",
         "name": "year",
         "type": "\"integer\""
        },
        {
         "metadata": "{}",
         "name": "month",
         "type": "\"integer\""
        },
        {
         "metadata": "{}",
         "name": "monthly_spend",
         "type": "\"double\""
        },
        {
         "metadata": "{}",
         "name": "avg_expense",
         "type": "\"double\""
        },
        {
         "metadata": "{}",
         "name": "large_expense_count",
         "type": "\"long\""
        },
        {
         "metadata": "{}",
         "name": "monthly_budget",
         "type": "\"integer\""
        },
        {
         "metadata": "{}",
         "name": "monthly_savings",
         "type": "\"double\""
        },
        {
         "metadata": "{}",
         "name": "spend_alert",
         "type": "\"integer\""
        }
       ],
       "type": "table"
      }
     },
     "output_type": "display_data"
    },
    {
     "output_type": "display_data",
     "data": {
      "text/html": [
       "<style scoped>\n",
       "  .table-result-container {\n",
       "    max-height: 300px;\n",
       "    overflow: auto;\n",
       "  }\n",
       "  table, th, td {\n",
       "    border: 1px solid black;\n",
       "    border-collapse: collapse;\n",
       "  }\n",
       "  th, td {\n",
       "    padding: 5px;\n",
       "  }\n",
       "  th {\n",
       "    text-align: left;\n",
       "  }\n",
       "</style><div class='table-result-container'><table class='table-result'><thead style='background-color: white'><tr><th>year</th><th>month</th><th>avg_monthly_spend</th><th>avg_monthly_savings</th><th>users_over_budget</th></tr></thead><tbody><tr><td>2025</td><td>9</td><td>148.34166666666667</td><td>401.6583333333333</td><td>0</td></tr></tbody></table></div>"
      ]
     },
     "metadata": {
      "application/vnd.databricks.v1+output": {
       "addedWidgets": {},
       "aggData": [],
       "aggError": "",
       "aggOverflow": false,
       "aggSchema": [],
       "aggSeriesLimitReached": false,
       "aggType": "",
       "arguments": {},
       "columnCustomDisplayInfos": {},
       "data": [
        [
         2025,
         9,
         148.34166666666667,
         401.6583333333333,
         0
        ]
       ],
       "datasetInfos": [],
       "dbfsResultPath": null,
       "isJsonSchema": true,
       "metadata": {},
       "overflow": false,
       "plotOptions": {
        "customPlotOptions": {},
        "displayType": "table",
        "pivotAggregation": null,
        "pivotColumns": null,
        "xColumns": null,
        "yColumns": null
       },
       "removedWidgets": [],
       "schema": [
        {
         "metadata": "{}",
         "name": "year",
         "type": "\"integer\""
        },
        {
         "metadata": "{}",
         "name": "month",
         "type": "\"integer\""
        },
        {
         "metadata": "{}",
         "name": "avg_monthly_spend",
         "type": "\"double\""
        },
        {
         "metadata": "{}",
         "name": "avg_monthly_savings",
         "type": "\"double\""
        },
        {
         "metadata": "{}",
         "name": "users_over_budget",
         "type": "\"long\""
        }
       ],
       "type": "table"
      }
     },
     "output_type": "display_data"
    },
    {
     "output_type": "stream",
     "name": "stdout",
     "output_type": "stream",
     "text": [
      "Saved user metrics to Delta at dbfs:/FileStore/tables/user_monthly_metrics_delta\nSaved user metrics to CSV files at dbfs:/FileStore/tables/user_monthly_metrics_csv\n"
     ]
    }
   ],
   "source": [
    "from pyspark.sql.functions import col, sum as spark_sum, avg, month, year, when, to_date, trim\n",
    "\n",
    "# === Step 1: Load users and expenses data from DBFS ===\n",
    "users_path = \"dbfs:/FileStore/tables/users_cleaned.csv\" \n",
    "expenses_path = \"dbfs:/FileStore/tables/expense.csv\"\n",
    "\n",
    "users_df = spark.read.option(\"header\", True).csv(users_path, inferSchema=True)\n",
    "expenses_df = spark.read.option(\"header\", True).csv(expenses_path, inferSchema=True)\n",
    "\n",
    "# === Step 2: Clean and transform expense data ===\n",
    "expenses_df_clean = expenses_df \\\n",
    "    .withColumn(\"expense_date\", to_date(col(\"expense_date\"))) \\\n",
    "    .withColumn(\"amount\", col(\"amount\").cast(\"double\")) \\\n",
    "    .withColumn(\"category\", trim(col(\"category\"))) \\\n",
    "    .withColumn(\"year\", year(col(\"expense_date\"))) \\\n",
    "    .withColumn(\"month\", month(col(\"expense_date\"))) \\\n",
    "    .withColumn(\"is_large_expense\", when(col(\"amount\") > 500, 1).otherwise(0))\n",
    "\n",
    "# === Step 3: Join users and expenses on user_id ===\n",
    "joined_df = expenses_df_clean.join(users_df, \"user_id\", \"inner\")\n",
    "\n",
    "# === Step 4: Aggregate user-level monthly KPIs ===\n",
    "user_metrics = joined_df.groupBy(\"user_id\", \"username\", \"year\", \"month\").agg(\n",
    "    spark_sum(\"amount\").alias(\"monthly_spend\"),\n",
    "    avg(\"amount\").alias(\"avg_expense\"),\n",
    "    spark_sum(\"is_large_expense\").alias(\"large_expense_count\")\n",
    ")\n",
    "\n",
    "# === Step 5: Join with budget data, calculate savings and alert flag ===\n",
    "user_metrics = user_metrics.join(users_df.select(\"user_id\", \"monthly_budget\"), \"user_id\", \"left\")\n",
    "\n",
    "user_metrics = user_metrics.withColumn(\n",
    "    \"monthly_savings\",\n",
    "    when(col(\"monthly_budget\").isNotNull(), col(\"monthly_budget\") - col(\"monthly_spend\")).otherwise(None)\n",
    ").withColumn(\n",
    "    \"spend_alert\", \n",
    "    when(col(\"monthly_savings\") < 0, 1).otherwise(0)\n",
    ")\n",
    "\n",
    "# === Step 6: Aggregate summary metrics for dashboard ===\n",
    "summary_metrics = user_metrics.groupBy(\"year\", \"month\").agg(\n",
    "    avg(\"monthly_spend\").alias(\"avg_monthly_spend\"),\n",
    "    avg(\"monthly_savings\").alias(\"avg_monthly_savings\"),\n",
    "    spark_sum(\"spend_alert\").alias(\"users_over_budget\")\n",
    ")\n",
    "\n",
    "# === Step 7: Display outputs for validation ===\n",
    "display(user_metrics.orderBy(\"user_id\", \"year\", \"month\"))\n",
    "display(summary_metrics.orderBy(\"year\", \"month\"))\n",
    "\n",
    "# === Step 8: Save outputs in Delta format and CSV for dashboards ===\n",
    "delta_output_path = \"dbfs:/FileStore/tables/user_monthly_metrics_delta\"\n",
    "csv_output_path = \"dbfs:/FileStore/tables/user_monthly_metrics_csv\"\n",
    "\n",
    "# Save as Delta table\n",
    "user_metrics.write.format(\"delta\").mode(\"overwrite\").save(delta_output_path)\n",
    "# Save as CSV files\n",
    "user_metrics.write.option(\"header\", True).mode(\"overwrite\").csv(csv_output_path)\n",
    "\n",
    "# === Step 9: Register Delta  ===\n",
    "spark.sql(f\"\"\"\n",
    "CREATE TABLE IF NOT EXISTS department_metrics\n",
    "USING DELTA\n",
    "\"\"\")\n",
    "\n",
    "print(f\"Saved user metrics to Delta at {delta_output_path}\")\n",
    "print(f\"Saved user metrics to CSV files at {csv_output_path}\")\n"
   ]
  }
 ],
 "metadata": {
  "application/vnd.databricks.v1+notebook": {
   "computePreferences": null,
   "dashboards": [],
   "environmentMetadata": {
    "base_environment": "",
    "environment_version": "4"
   },
   "inputWidgetPreferences": null,
   "language": "python",
   "notebookMetadata": {
    "pythonIndentUnit": 4
   },
   "notebookName": "personal_expense_ETLreport",
   "widgets": {}
  },
  "language_info": {
   "name": "python"
  }
 },
 "nbformat": 4,
 "nbformat_minor": 0
}